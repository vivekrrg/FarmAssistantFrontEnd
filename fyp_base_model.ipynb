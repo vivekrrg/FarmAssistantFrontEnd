{
  "nbformat": 4,
  "nbformat_minor": 0,
  "metadata": {
    "colab": {
      "provenance": [],
      "include_colab_link": true
    },
    "kernelspec": {
      "name": "python3",
      "display_name": "Python 3"
    },
    "language_info": {
      "name": "python"
    }
  },
  "cells": [
    {
      "cell_type": "markdown",
      "metadata": {
        "id": "view-in-github",
        "colab_type": "text"
      },
      "source": [
        "<a href=\"https://colab.research.google.com/github/vivekrrg/FarmAssistantFrontEnd/blob/main/fyp_base_model.ipynb\" target=\"_parent\"><img src=\"https://colab.research.google.com/assets/colab-badge.svg\" alt=\"Open In Colab\"/></a>"
      ]
    },
    {
      "cell_type": "code",
      "execution_count": null,
      "metadata": {
        "id": "o7W_84VjXoa6"
      },
      "outputs": [],
      "source": [
        "# Importing libraries\n",
        "\n",
        "from __future__ import print_function\n",
        "import pandas as pd\n",
        "import numpy as np\n",
        "import matplotlib.pyplot as plt\n",
        "import seaborn as sns\n",
        "from sklearn.metrics import classification_report\n",
        "from sklearn import metrics\n",
        "from sklearn import tree\n",
        "import warnings\n",
        "warnings.filterwarnings('ignore')"
      ]
    },
    {
      "cell_type": "code",
      "source": [
        " \n",
        "df = pd.read_csv('Crop_recommendation.csv')"
      ],
      "metadata": {
        "id": "BWYcamjhXxNH"
      },
      "execution_count": null,
      "outputs": []
    },
    {
      "cell_type": "code",
      "source": [
        "df.head()"
      ],
      "metadata": {
        "colab": {
          "base_uri": "https://localhost:8080/",
          "height": 206
        },
        "id": "EK8iqpbbXxPr",
        "outputId": "1ebd53de-1d19-4252-845e-cfc9a6105840"
      },
      "execution_count": null,
      "outputs": [
        {
          "output_type": "execute_result",
          "data": {
            "text/plain": [
              "    N   P   K  temperature   humidity        ph    rainfall label\n",
              "0  90  42  43    20.879744  82.002744  6.502985  202.935536  rice\n",
              "1  85  58  41    21.770462  80.319644  7.038096  226.655537  rice\n",
              "2  60  55  44    23.004459  82.320763  7.840207  263.964248  rice\n",
              "3  74  35  40    26.491096  80.158363  6.980401  242.864034  rice\n",
              "4  78  42  42    20.130175  81.604873  7.628473  262.717340  rice"
            ],
            "text/html": [
              "\n",
              "  <div id=\"df-d00890eb-e133-4b19-b405-bad309bdd0c9\">\n",
              "    <div class=\"colab-df-container\">\n",
              "      <div>\n",
              "<style scoped>\n",
              "    .dataframe tbody tr th:only-of-type {\n",
              "        vertical-align: middle;\n",
              "    }\n",
              "\n",
              "    .dataframe tbody tr th {\n",
              "        vertical-align: top;\n",
              "    }\n",
              "\n",
              "    .dataframe thead th {\n",
              "        text-align: right;\n",
              "    }\n",
              "</style>\n",
              "<table border=\"1\" class=\"dataframe\">\n",
              "  <thead>\n",
              "    <tr style=\"text-align: right;\">\n",
              "      <th></th>\n",
              "      <th>N</th>\n",
              "      <th>P</th>\n",
              "      <th>K</th>\n",
              "      <th>temperature</th>\n",
              "      <th>humidity</th>\n",
              "      <th>ph</th>\n",
              "      <th>rainfall</th>\n",
              "      <th>label</th>\n",
              "    </tr>\n",
              "  </thead>\n",
              "  <tbody>\n",
              "    <tr>\n",
              "      <th>0</th>\n",
              "      <td>90</td>\n",
              "      <td>42</td>\n",
              "      <td>43</td>\n",
              "      <td>20.879744</td>\n",
              "      <td>82.002744</td>\n",
              "      <td>6.502985</td>\n",
              "      <td>202.935536</td>\n",
              "      <td>rice</td>\n",
              "    </tr>\n",
              "    <tr>\n",
              "      <th>1</th>\n",
              "      <td>85</td>\n",
              "      <td>58</td>\n",
              "      <td>41</td>\n",
              "      <td>21.770462</td>\n",
              "      <td>80.319644</td>\n",
              "      <td>7.038096</td>\n",
              "      <td>226.655537</td>\n",
              "      <td>rice</td>\n",
              "    </tr>\n",
              "    <tr>\n",
              "      <th>2</th>\n",
              "      <td>60</td>\n",
              "      <td>55</td>\n",
              "      <td>44</td>\n",
              "      <td>23.004459</td>\n",
              "      <td>82.320763</td>\n",
              "      <td>7.840207</td>\n",
              "      <td>263.964248</td>\n",
              "      <td>rice</td>\n",
              "    </tr>\n",
              "    <tr>\n",
              "      <th>3</th>\n",
              "      <td>74</td>\n",
              "      <td>35</td>\n",
              "      <td>40</td>\n",
              "      <td>26.491096</td>\n",
              "      <td>80.158363</td>\n",
              "      <td>6.980401</td>\n",
              "      <td>242.864034</td>\n",
              "      <td>rice</td>\n",
              "    </tr>\n",
              "    <tr>\n",
              "      <th>4</th>\n",
              "      <td>78</td>\n",
              "      <td>42</td>\n",
              "      <td>42</td>\n",
              "      <td>20.130175</td>\n",
              "      <td>81.604873</td>\n",
              "      <td>7.628473</td>\n",
              "      <td>262.717340</td>\n",
              "      <td>rice</td>\n",
              "    </tr>\n",
              "  </tbody>\n",
              "</table>\n",
              "</div>\n",
              "      <button class=\"colab-df-convert\" onclick=\"convertToInteractive('df-d00890eb-e133-4b19-b405-bad309bdd0c9')\"\n",
              "              title=\"Convert this dataframe to an interactive table.\"\n",
              "              style=\"display:none;\">\n",
              "        \n",
              "  <svg xmlns=\"http://www.w3.org/2000/svg\" height=\"24px\"viewBox=\"0 0 24 24\"\n",
              "       width=\"24px\">\n",
              "    <path d=\"M0 0h24v24H0V0z\" fill=\"none\"/>\n",
              "    <path d=\"M18.56 5.44l.94 2.06.94-2.06 2.06-.94-2.06-.94-.94-2.06-.94 2.06-2.06.94zm-11 1L8.5 8.5l.94-2.06 2.06-.94-2.06-.94L8.5 2.5l-.94 2.06-2.06.94zm10 10l.94 2.06.94-2.06 2.06-.94-2.06-.94-.94-2.06-.94 2.06-2.06.94z\"/><path d=\"M17.41 7.96l-1.37-1.37c-.4-.4-.92-.59-1.43-.59-.52 0-1.04.2-1.43.59L10.3 9.45l-7.72 7.72c-.78.78-.78 2.05 0 2.83L4 21.41c.39.39.9.59 1.41.59.51 0 1.02-.2 1.41-.59l7.78-7.78 2.81-2.81c.8-.78.8-2.07 0-2.86zM5.41 20L4 18.59l7.72-7.72 1.47 1.35L5.41 20z\"/>\n",
              "  </svg>\n",
              "      </button>\n",
              "      \n",
              "  <style>\n",
              "    .colab-df-container {\n",
              "      display:flex;\n",
              "      flex-wrap:wrap;\n",
              "      gap: 12px;\n",
              "    }\n",
              "\n",
              "    .colab-df-convert {\n",
              "      background-color: #E8F0FE;\n",
              "      border: none;\n",
              "      border-radius: 50%;\n",
              "      cursor: pointer;\n",
              "      display: none;\n",
              "      fill: #1967D2;\n",
              "      height: 32px;\n",
              "      padding: 0 0 0 0;\n",
              "      width: 32px;\n",
              "    }\n",
              "\n",
              "    .colab-df-convert:hover {\n",
              "      background-color: #E2EBFA;\n",
              "      box-shadow: 0px 1px 2px rgba(60, 64, 67, 0.3), 0px 1px 3px 1px rgba(60, 64, 67, 0.15);\n",
              "      fill: #174EA6;\n",
              "    }\n",
              "\n",
              "    [theme=dark] .colab-df-convert {\n",
              "      background-color: #3B4455;\n",
              "      fill: #D2E3FC;\n",
              "    }\n",
              "\n",
              "    [theme=dark] .colab-df-convert:hover {\n",
              "      background-color: #434B5C;\n",
              "      box-shadow: 0px 1px 3px 1px rgba(0, 0, 0, 0.15);\n",
              "      filter: drop-shadow(0px 1px 2px rgba(0, 0, 0, 0.3));\n",
              "      fill: #FFFFFF;\n",
              "    }\n",
              "  </style>\n",
              "\n",
              "      <script>\n",
              "        const buttonEl =\n",
              "          document.querySelector('#df-d00890eb-e133-4b19-b405-bad309bdd0c9 button.colab-df-convert');\n",
              "        buttonEl.style.display =\n",
              "          google.colab.kernel.accessAllowed ? 'block' : 'none';\n",
              "\n",
              "        async function convertToInteractive(key) {\n",
              "          const element = document.querySelector('#df-d00890eb-e133-4b19-b405-bad309bdd0c9');\n",
              "          const dataTable =\n",
              "            await google.colab.kernel.invokeFunction('convertToInteractive',\n",
              "                                                     [key], {});\n",
              "          if (!dataTable) return;\n",
              "\n",
              "          const docLinkHtml = 'Like what you see? Visit the ' +\n",
              "            '<a target=\"_blank\" href=https://colab.research.google.com/notebooks/data_table.ipynb>data table notebook</a>'\n",
              "            + ' to learn more about interactive tables.';\n",
              "          element.innerHTML = '';\n",
              "          dataTable['output_type'] = 'display_data';\n",
              "          await google.colab.output.renderOutput(dataTable, element);\n",
              "          const docLink = document.createElement('div');\n",
              "          docLink.innerHTML = docLinkHtml;\n",
              "          element.appendChild(docLink);\n",
              "        }\n",
              "      </script>\n",
              "    </div>\n",
              "  </div>\n",
              "  "
            ]
          },
          "metadata": {},
          "execution_count": 104
        }
      ]
    },
    {
      "cell_type": "code",
      "source": [
        "df.tail()"
      ],
      "metadata": {
        "colab": {
          "base_uri": "https://localhost:8080/",
          "height": 206
        },
        "id": "pPW1IWEBXxSJ",
        "outputId": "1e0d93a8-a72f-40b5-a27f-f88e5a91c706"
      },
      "execution_count": null,
      "outputs": [
        {
          "output_type": "execute_result",
          "data": {
            "text/plain": [
              "        N   P   K  temperature   humidity        ph    rainfall   label\n",
              "2195  107  34  32    26.774637  66.413269  6.780064  177.774507  coffee\n",
              "2196   99  15  27    27.417112  56.636362  6.086922  127.924610  coffee\n",
              "2197  118  33  30    24.131797  67.225123  6.362608  173.322839  coffee\n",
              "2198  117  32  34    26.272418  52.127394  6.758793  127.175293  coffee\n",
              "2199  104  18  30    23.603016  60.396475  6.779833  140.937041  coffee"
            ],
            "text/html": [
              "\n",
              "  <div id=\"df-a07e0cf8-b645-4a68-9a22-17b6df2cba4e\">\n",
              "    <div class=\"colab-df-container\">\n",
              "      <div>\n",
              "<style scoped>\n",
              "    .dataframe tbody tr th:only-of-type {\n",
              "        vertical-align: middle;\n",
              "    }\n",
              "\n",
              "    .dataframe tbody tr th {\n",
              "        vertical-align: top;\n",
              "    }\n",
              "\n",
              "    .dataframe thead th {\n",
              "        text-align: right;\n",
              "    }\n",
              "</style>\n",
              "<table border=\"1\" class=\"dataframe\">\n",
              "  <thead>\n",
              "    <tr style=\"text-align: right;\">\n",
              "      <th></th>\n",
              "      <th>N</th>\n",
              "      <th>P</th>\n",
              "      <th>K</th>\n",
              "      <th>temperature</th>\n",
              "      <th>humidity</th>\n",
              "      <th>ph</th>\n",
              "      <th>rainfall</th>\n",
              "      <th>label</th>\n",
              "    </tr>\n",
              "  </thead>\n",
              "  <tbody>\n",
              "    <tr>\n",
              "      <th>2195</th>\n",
              "      <td>107</td>\n",
              "      <td>34</td>\n",
              "      <td>32</td>\n",
              "      <td>26.774637</td>\n",
              "      <td>66.413269</td>\n",
              "      <td>6.780064</td>\n",
              "      <td>177.774507</td>\n",
              "      <td>coffee</td>\n",
              "    </tr>\n",
              "    <tr>\n",
              "      <th>2196</th>\n",
              "      <td>99</td>\n",
              "      <td>15</td>\n",
              "      <td>27</td>\n",
              "      <td>27.417112</td>\n",
              "      <td>56.636362</td>\n",
              "      <td>6.086922</td>\n",
              "      <td>127.924610</td>\n",
              "      <td>coffee</td>\n",
              "    </tr>\n",
              "    <tr>\n",
              "      <th>2197</th>\n",
              "      <td>118</td>\n",
              "      <td>33</td>\n",
              "      <td>30</td>\n",
              "      <td>24.131797</td>\n",
              "      <td>67.225123</td>\n",
              "      <td>6.362608</td>\n",
              "      <td>173.322839</td>\n",
              "      <td>coffee</td>\n",
              "    </tr>\n",
              "    <tr>\n",
              "      <th>2198</th>\n",
              "      <td>117</td>\n",
              "      <td>32</td>\n",
              "      <td>34</td>\n",
              "      <td>26.272418</td>\n",
              "      <td>52.127394</td>\n",
              "      <td>6.758793</td>\n",
              "      <td>127.175293</td>\n",
              "      <td>coffee</td>\n",
              "    </tr>\n",
              "    <tr>\n",
              "      <th>2199</th>\n",
              "      <td>104</td>\n",
              "      <td>18</td>\n",
              "      <td>30</td>\n",
              "      <td>23.603016</td>\n",
              "      <td>60.396475</td>\n",
              "      <td>6.779833</td>\n",
              "      <td>140.937041</td>\n",
              "      <td>coffee</td>\n",
              "    </tr>\n",
              "  </tbody>\n",
              "</table>\n",
              "</div>\n",
              "      <button class=\"colab-df-convert\" onclick=\"convertToInteractive('df-a07e0cf8-b645-4a68-9a22-17b6df2cba4e')\"\n",
              "              title=\"Convert this dataframe to an interactive table.\"\n",
              "              style=\"display:none;\">\n",
              "        \n",
              "  <svg xmlns=\"http://www.w3.org/2000/svg\" height=\"24px\"viewBox=\"0 0 24 24\"\n",
              "       width=\"24px\">\n",
              "    <path d=\"M0 0h24v24H0V0z\" fill=\"none\"/>\n",
              "    <path d=\"M18.56 5.44l.94 2.06.94-2.06 2.06-.94-2.06-.94-.94-2.06-.94 2.06-2.06.94zm-11 1L8.5 8.5l.94-2.06 2.06-.94-2.06-.94L8.5 2.5l-.94 2.06-2.06.94zm10 10l.94 2.06.94-2.06 2.06-.94-2.06-.94-.94-2.06-.94 2.06-2.06.94z\"/><path d=\"M17.41 7.96l-1.37-1.37c-.4-.4-.92-.59-1.43-.59-.52 0-1.04.2-1.43.59L10.3 9.45l-7.72 7.72c-.78.78-.78 2.05 0 2.83L4 21.41c.39.39.9.59 1.41.59.51 0 1.02-.2 1.41-.59l7.78-7.78 2.81-2.81c.8-.78.8-2.07 0-2.86zM5.41 20L4 18.59l7.72-7.72 1.47 1.35L5.41 20z\"/>\n",
              "  </svg>\n",
              "      </button>\n",
              "      \n",
              "  <style>\n",
              "    .colab-df-container {\n",
              "      display:flex;\n",
              "      flex-wrap:wrap;\n",
              "      gap: 12px;\n",
              "    }\n",
              "\n",
              "    .colab-df-convert {\n",
              "      background-color: #E8F0FE;\n",
              "      border: none;\n",
              "      border-radius: 50%;\n",
              "      cursor: pointer;\n",
              "      display: none;\n",
              "      fill: #1967D2;\n",
              "      height: 32px;\n",
              "      padding: 0 0 0 0;\n",
              "      width: 32px;\n",
              "    }\n",
              "\n",
              "    .colab-df-convert:hover {\n",
              "      background-color: #E2EBFA;\n",
              "      box-shadow: 0px 1px 2px rgba(60, 64, 67, 0.3), 0px 1px 3px 1px rgba(60, 64, 67, 0.15);\n",
              "      fill: #174EA6;\n",
              "    }\n",
              "\n",
              "    [theme=dark] .colab-df-convert {\n",
              "      background-color: #3B4455;\n",
              "      fill: #D2E3FC;\n",
              "    }\n",
              "\n",
              "    [theme=dark] .colab-df-convert:hover {\n",
              "      background-color: #434B5C;\n",
              "      box-shadow: 0px 1px 3px 1px rgba(0, 0, 0, 0.15);\n",
              "      filter: drop-shadow(0px 1px 2px rgba(0, 0, 0, 0.3));\n",
              "      fill: #FFFFFF;\n",
              "    }\n",
              "  </style>\n",
              "\n",
              "      <script>\n",
              "        const buttonEl =\n",
              "          document.querySelector('#df-a07e0cf8-b645-4a68-9a22-17b6df2cba4e button.colab-df-convert');\n",
              "        buttonEl.style.display =\n",
              "          google.colab.kernel.accessAllowed ? 'block' : 'none';\n",
              "\n",
              "        async function convertToInteractive(key) {\n",
              "          const element = document.querySelector('#df-a07e0cf8-b645-4a68-9a22-17b6df2cba4e');\n",
              "          const dataTable =\n",
              "            await google.colab.kernel.invokeFunction('convertToInteractive',\n",
              "                                                     [key], {});\n",
              "          if (!dataTable) return;\n",
              "\n",
              "          const docLinkHtml = 'Like what you see? Visit the ' +\n",
              "            '<a target=\"_blank\" href=https://colab.research.google.com/notebooks/data_table.ipynb>data table notebook</a>'\n",
              "            + ' to learn more about interactive tables.';\n",
              "          element.innerHTML = '';\n",
              "          dataTable['output_type'] = 'display_data';\n",
              "          await google.colab.output.renderOutput(dataTable, element);\n",
              "          const docLink = document.createElement('div');\n",
              "          docLink.innerHTML = docLinkHtml;\n",
              "          element.appendChild(docLink);\n",
              "        }\n",
              "      </script>\n",
              "    </div>\n",
              "  </div>\n",
              "  "
            ]
          },
          "metadata": {},
          "execution_count": 105
        }
      ]
    },
    {
      "cell_type": "code",
      "source": [
        "df.size"
      ],
      "metadata": {
        "colab": {
          "base_uri": "https://localhost:8080/"
        },
        "id": "LJoakKbjXxUU",
        "outputId": "43ef4225-e312-4058-a696-836e61089f47"
      },
      "execution_count": null,
      "outputs": [
        {
          "output_type": "execute_result",
          "data": {
            "text/plain": [
              "17600"
            ]
          },
          "metadata": {},
          "execution_count": 106
        }
      ]
    },
    {
      "cell_type": "code",
      "source": [
        "df.shape"
      ],
      "metadata": {
        "colab": {
          "base_uri": "https://localhost:8080/"
        },
        "id": "0VAj6DGsXxWp",
        "outputId": "fd61caf9-1b68-4b8c-f067-92f23ff2f2b4"
      },
      "execution_count": null,
      "outputs": [
        {
          "output_type": "execute_result",
          "data": {
            "text/plain": [
              "(2200, 8)"
            ]
          },
          "metadata": {},
          "execution_count": 107
        }
      ]
    },
    {
      "cell_type": "code",
      "source": [
        "df.columns"
      ],
      "metadata": {
        "colab": {
          "base_uri": "https://localhost:8080/"
        },
        "id": "uPSNZo1dXxZb",
        "outputId": "ce508e31-1985-4a8b-86da-b79abca7aa06"
      },
      "execution_count": null,
      "outputs": [
        {
          "output_type": "execute_result",
          "data": {
            "text/plain": [
              "Index(['N', 'P', 'K', 'temperature', 'humidity', 'ph', 'rainfall', 'label'], dtype='object')"
            ]
          },
          "metadata": {},
          "execution_count": 108
        }
      ]
    },
    {
      "cell_type": "code",
      "source": [
        "arr=df['label'].unique()"
      ],
      "metadata": {
        "id": "J0Ti4UOQXxb8"
      },
      "execution_count": null,
      "outputs": []
    },
    {
      "cell_type": "code",
      "source": [
        "arr"
      ],
      "metadata": {
        "colab": {
          "base_uri": "https://localhost:8080/"
        },
        "id": "z58V1hChDg3R",
        "outputId": "22c8e966-b616-42c0-e69b-d87ff7755ce3"
      },
      "execution_count": null,
      "outputs": [
        {
          "output_type": "execute_result",
          "data": {
            "text/plain": [
              "array(['rice', 'maize', 'chickpea', 'kidneybeans', 'pigeonpeas',\n",
              "       'mothbeans', 'mungbean', 'blackgram', 'lentil', 'pomegranate',\n",
              "       'banana', 'mango', 'grapes', 'watermelon', 'muskmelon', 'apple',\n",
              "       'orange', 'papaya', 'coconut', 'cotton', 'jute', 'coffee'],\n",
              "      dtype=object)"
            ]
          },
          "metadata": {},
          "execution_count": 110
        }
      ]
    },
    {
      "cell_type": "code",
      "source": [
        "arr.size"
      ],
      "metadata": {
        "colab": {
          "base_uri": "https://localhost:8080/"
        },
        "id": "u9wapnqqDjy3",
        "outputId": "bc93eda4-bd46-4492-9ebf-b29cbc205372"
      },
      "execution_count": null,
      "outputs": [
        {
          "output_type": "execute_result",
          "data": {
            "text/plain": [
              "22"
            ]
          },
          "metadata": {},
          "execution_count": 111
        }
      ]
    },
    {
      "cell_type": "code",
      "source": [
        "df.dtypes"
      ],
      "metadata": {
        "colab": {
          "base_uri": "https://localhost:8080/"
        },
        "id": "eYDowzUfXxee",
        "outputId": "df10b5d3-737b-46db-a065-856021d70a83"
      },
      "execution_count": null,
      "outputs": [
        {
          "output_type": "execute_result",
          "data": {
            "text/plain": [
              "N                int64\n",
              "P                int64\n",
              "K                int64\n",
              "temperature    float64\n",
              "humidity       float64\n",
              "ph             float64\n",
              "rainfall       float64\n",
              "label           object\n",
              "dtype: object"
            ]
          },
          "metadata": {},
          "execution_count": 112
        }
      ]
    },
    {
      "cell_type": "code",
      "source": [
        "df['label'].value_counts()"
      ],
      "metadata": {
        "colab": {
          "base_uri": "https://localhost:8080/"
        },
        "id": "1fV_Xsh5XxhE",
        "outputId": "70c033b3-4ede-4684-ecbf-bb417dc38561"
      },
      "execution_count": null,
      "outputs": [
        {
          "output_type": "execute_result",
          "data": {
            "text/plain": [
              "rice           100\n",
              "maize          100\n",
              "jute           100\n",
              "cotton         100\n",
              "coconut        100\n",
              "papaya         100\n",
              "orange         100\n",
              "apple          100\n",
              "muskmelon      100\n",
              "watermelon     100\n",
              "grapes         100\n",
              "mango          100\n",
              "banana         100\n",
              "pomegranate    100\n",
              "lentil         100\n",
              "blackgram      100\n",
              "mungbean       100\n",
              "mothbeans      100\n",
              "pigeonpeas     100\n",
              "kidneybeans    100\n",
              "chickpea       100\n",
              "coffee         100\n",
              "Name: label, dtype: int64"
            ]
          },
          "metadata": {},
          "execution_count": 113
        }
      ]
    },
    {
      "cell_type": "code",
      "source": [
        "sns.heatmap(df.corr(),annot=True)"
      ],
      "metadata": {
        "colab": {
          "base_uri": "https://localhost:8080/",
          "height": 340
        },
        "id": "7svLsIXiXxjh",
        "outputId": "410bee0e-f1f8-4b3b-ac33-dfc2589b683d"
      },
      "execution_count": null,
      "outputs": [
        {
          "output_type": "execute_result",
          "data": {
            "text/plain": [
              "<Axes: >"
            ]
          },
          "metadata": {},
          "execution_count": 114
        },
        {
          "output_type": "display_data",
          "data": {
            "text/plain": [
              "<Figure size 432x288 with 2 Axes>"
            ],
            "image/png": "[encoded data removed]"
          },
          "metadata": {
            "needs_background": "light"
          }
        }
      ]
    },
    {
      "cell_type": "code",
      "source": [
        "features = df[['N', 'P','K','temperature', 'humidity', 'ph', 'rainfall']]\n",
        "target = df['label']\n",
        "labels = df['label']"
      ],
      "metadata": {
        "id": "BUZiHamPXxl8"
      },
      "execution_count": null,
      "outputs": []
    },
    {
      "cell_type": "code",
      "source": [
        "# Initializing empty lists to append all model's name and corresponding name\n",
        "acc = []\n",
        "model = []"
      ],
      "metadata": {
        "id": "bqCHDPDrXxoX"
      },
      "execution_count": null,
      "outputs": []
    },
    {
      "cell_type": "code",
      "source": [
        "# Splitting into train and test data\n",
        "\n",
        "from sklearn.model_selection import train_test_split\n",
        "Xtrain, Xtest, Ytrain, Ytest = train_test_split(features,target,test_size = 0.3,random_state =2)"
      ],
      "metadata": {
        "id": "K-4SA5UmXxr3"
      },
      "execution_count": null,
      "outputs": []
    },
    {
      "cell_type": "code",
      "source": [
        "from sklearn.tree import DecisionTreeClassifier\n",
        "\n",
        "DecisionTree = DecisionTreeClassifier(criterion=\"entropy\",random_state=2,max_depth=5)\n",
        "\n",
        "DecisionTree.fit(Xtrain,Ytrain)\n",
        "\n",
        "predicted_values = DecisionTree.predict(Xtest)\n",
        "x = metrics.accuracy_score(Ytest, predicted_values)\n",
        "acc.append(x)\n",
        "model.append('Decision Tree')\n",
        "print(\"DecisionTrees's Accuracy is: \", x*100)\n",
        "\n",
        "print(classification_report(Ytest,predicted_values))"
      ],
      "metadata": {
        "colab": {
          "base_uri": "https://localhost:8080/"
        },
        "id": "IXizYDB1Y3UU",
        "outputId": "f3d893af-0567-49d4-da93-fa93aa915ec2"
      },
      "execution_count": null,
      "outputs": [
        {
          "output_type": "stream",
          "name": "stdout",
          "text": [
            "DecisionTrees's Accuracy is:  85.9090909090909\n",
            "              precision    recall  f1-score   support\n",
            "\n",
            "       apple       1.00      1.00      1.00        28\n",
            "      banana       1.00      1.00      1.00        26\n",
            "   blackgram       0.65      1.00      0.79        28\n",
            "    chickpea       1.00      1.00      1.00        29\n",
            "     coconut       0.94      1.00      0.97        31\n",
            "      coffee       1.00      1.00      1.00        33\n",
            "      cotton       1.00      0.97      0.98        31\n",
            "      grapes       1.00      1.00      1.00        29\n",
            "        jute       0.50      0.03      0.06        33\n",
            " kidneybeans       0.00      0.00      0.00        30\n",
            "      lentil       0.63      1.00      0.77        32\n",
            "       maize       0.97      1.00      0.98        32\n",
            "       mango       1.00      1.00      1.00        33\n",
            "   mothbeans       0.00      0.00      0.00        29\n",
            "    mungbean       1.00      1.00      1.00        32\n",
            "   muskmelon       1.00      1.00      1.00        30\n",
            "      orange       1.00      1.00      1.00        42\n",
            "      papaya       1.00      1.00      1.00        30\n",
            "  pigeonpeas       0.55      1.00      0.71        31\n",
            " pomegranate       1.00      1.00      1.00        19\n",
            "        rice       0.49      0.97      0.65        30\n",
            "  watermelon       1.00      1.00      1.00        22\n",
            "\n",
            "    accuracy                           0.86       660\n",
            "   macro avg       0.81      0.86      0.81       660\n",
            "weighted avg       0.80      0.86      0.81       660\n",
            "\n"
          ]
        }
      ]
    },
    {
      "cell_type": "code",
      "source": [
        "from sklearn.model_selection import cross_val_score"
      ],
      "metadata": {
        "id": "VyvFMflXY3Wh"
      },
      "execution_count": null,
      "outputs": []
    },
    {
      "cell_type": "code",
      "source": [
        "# Cross validation score (Decision Tree)\n",
        "score = cross_val_score(DecisionTree, features, target,cv=5)"
      ],
      "metadata": {
        "id": "_KiWh4xbY3ZR"
      },
      "execution_count": null,
      "outputs": []
    },
    {
      "cell_type": "code",
      "source": [
        "score"
      ],
      "metadata": {
        "colab": {
          "base_uri": "https://localhost:8080/"
        },
        "id": "uuFxM3a0Y3bc",
        "outputId": "490e4881-14c4-4800-904b-8b70c4a83591"
      },
      "execution_count": null,
      "outputs": [
        {
          "output_type": "execute_result",
          "data": {
            "text/plain": [
              "array([0.93636364, 0.90909091, 0.91818182, 0.87045455, 0.93636364])"
            ]
          },
          "metadata": {},
          "execution_count": 121
        }
      ]
    },
    {
      "cell_type": "code",
      "source": [
        "import pickle\n",
        "# Dump the trained Naive Bayes classifier with Pickle\n",
        "DT_pkl_filename = 'DecisionTree.pkl'\n",
        "# Open the file to save as pkl file\n",
        "DT_Model_pkl = open(DT_pkl_filename, 'wb')\n",
        "pickle.dump(DecisionTree, DT_Model_pkl)\n",
        "# Close the pickle instances\n",
        "DT_Model_pkl.close()"
      ],
      "metadata": {
        "id": "xvsN0qIlY3d7"
      },
      "execution_count": null,
      "outputs": []
    },
    {
      "cell_type": "code",
      "source": [
        "from sklearn.naive_bayes import GaussianNB\n",
        "\n",
        "NaiveBayes = GaussianNB()\n",
        "\n",
        "NaiveBayes.fit(Xtrain,Ytrain)\n",
        "\n",
        "predicted_values = NaiveBayes.predict(Xtest)\n",
        "x = metrics.accuracy_score(Ytest, predicted_values)\n",
        "acc.append(x)\n",
        "model.append('Naive Bayes')\n",
        "print(\"Naive Bayes's Accuracy is: \", x)\n",
        "\n",
        "print(classification_report(Ytest,predicted_values))"
      ],
      "metadata": {
        "colab": {
          "base_uri": "https://localhost:8080/"
        },
        "id": "s8T51LO9Y3gX",
        "outputId": "60ccf254-5721-4d4c-8741-0f36a9be0a80"
      },
      "execution_count": null,
      "outputs": [
        {
          "output_type": "stream",
          "name": "stdout",
          "text": [
            "Naive Bayes's Accuracy is:  0.9924242424242424\n",
            "              precision    recall  f1-score   support\n",
            "\n",
            "       apple       1.00      1.00      1.00        28\n",
            "      banana       1.00      1.00      1.00        26\n",
            "   blackgram       1.00      1.00      1.00        28\n",
            "    chickpea       1.00      1.00      1.00        29\n",
            "     coconut       1.00      1.00      1.00        31\n",
            "      coffee       1.00      1.00      1.00        33\n",
            "      cotton       1.00      1.00      1.00        31\n",
            "      grapes       1.00      1.00      1.00        29\n",
            "        jute       0.89      0.97      0.93        33\n",
            " kidneybeans       1.00      1.00      1.00        30\n",
            "      lentil       1.00      1.00      1.00        32\n",
            "       maize       1.00      1.00      1.00        32\n",
            "       mango       1.00      1.00      1.00        33\n",
            "   mothbeans       1.00      1.00      1.00        29\n",
            "    mungbean       1.00      1.00      1.00        32\n",
            "   muskmelon       1.00      1.00      1.00        30\n",
            "      orange       1.00      1.00      1.00        42\n",
            "      papaya       1.00      1.00      1.00        30\n",
            "  pigeonpeas       1.00      1.00      1.00        31\n",
            " pomegranate       1.00      1.00      1.00        19\n",
            "        rice       0.96      0.87      0.91        30\n",
            "  watermelon       1.00      1.00      1.00        22\n",
            "\n",
            "    accuracy                           0.99       660\n",
            "   macro avg       0.99      0.99      0.99       660\n",
            "weighted avg       0.99      0.99      0.99       660\n",
            "\n"
          ]
        }
      ]
    },
    {
      "cell_type": "code",
      "source": [
        "# Cross validation score (NaiveBayes)\n",
        "score = cross_val_score(NaiveBayes,features,target,cv=5)\n",
        "score"
      ],
      "metadata": {
        "colab": {
          "base_uri": "https://localhost:8080/"
        },
        "id": "8Y6KexbOY3iw",
        "outputId": "1409b566-95c6-4ba0-f8ef-9fa631296446"
      },
      "execution_count": null,
      "outputs": [
        {
          "output_type": "execute_result",
          "data": {
            "text/plain": [
              "array([0.99772727, 0.99545455, 0.99545455, 0.99545455, 0.99090909])"
            ]
          },
          "metadata": {},
          "execution_count": 124
        }
      ]
    },
    {
      "cell_type": "code",
      "source": [
        "import pickle\n",
        "# Dump the trained Naive Bayes classifier with Pickle\n",
        "NB_pkl_filename = 'NBClassifier.pkl'\n",
        "# Open the file to save as pkl file\n",
        "NB_Model_pkl = open(NB_pkl_filename, 'wb')\n",
        "pickle.dump(NaiveBayes, NB_Model_pkl)\n",
        "# Close the pickle instances\n",
        "NB_Model_pkl.close()"
      ],
      "metadata": {
        "id": "EvSYbblkY3lQ"
      },
      "execution_count": null,
      "outputs": []
    },
    {
      "cell_type": "code",
      "source": [
        "from sklearn.svm import SVC\n",
        "\n",
        "SVM = SVC(gamma='auto')\n",
        "\n",
        "SVM.fit(Xtrain,Ytrain)\n",
        "\n",
        "predicted_values = SVM.predict(Xtest)\n",
        "\n",
        "x = metrics.accuracy_score(Ytest, predicted_values)\n",
        "acc.append(x)\n",
        "model.append('SVM')\n",
        "print(\"SVM's Accuracy is: \", x)\n",
        "\n",
        "print(classification_report(Ytest,predicted_values))"
      ],
      "metadata": {
        "colab": {
          "base_uri": "https://localhost:8080/"
        },
        "id": "RUkn_GTrY3nm",
        "outputId": "ef2f3195-3c2c-4e5a-c53e-ec00dc0654bf"
      },
      "execution_count": null,
      "outputs": [
        {
          "output_type": "stream",
          "name": "stdout",
          "text": [
            "SVM's Accuracy is:  0.07272727272727272\n",
            "              precision    recall  f1-score   support\n",
            "\n",
            "       apple       1.00      0.11      0.19        28\n",
            "      banana       1.00      0.12      0.21        26\n",
            "   blackgram       1.00      0.07      0.13        28\n",
            "    chickpea       1.00      0.03      0.07        29\n",
            "     coconut       0.00      0.00      0.00        31\n",
            "      coffee       0.00      0.00      0.00        33\n",
            "      cotton       1.00      0.06      0.12        31\n",
            "      grapes       0.00      0.00      0.00        29\n",
            "        jute       0.00      0.00      0.00        33\n",
            " kidneybeans       1.00      0.03      0.06        30\n",
            "      lentil       0.00      0.00      0.00        32\n",
            "       maize       0.00      0.00      0.00        32\n",
            "       mango       0.00      0.00      0.00        33\n",
            "   mothbeans       0.00      0.00      0.00        29\n",
            "    mungbean       1.00      0.06      0.12        32\n",
            "   muskmelon       1.00      0.27      0.42        30\n",
            "      orange       1.00      0.02      0.05        42\n",
            "      papaya       1.00      0.03      0.06        30\n",
            "  pigeonpeas       0.00      0.00      0.00        31\n",
            " pomegranate       0.03      1.00      0.06        19\n",
            "        rice       1.00      0.03      0.06        30\n",
            "  watermelon       1.00      0.18      0.31        22\n",
            "\n",
            "    accuracy                           0.07       660\n",
            "   macro avg       0.55      0.09      0.08       660\n",
            "weighted avg       0.54      0.07      0.08       660\n",
            "\n"
          ]
        }
      ]
    },
    {
      "cell_type": "code",
      "source": [
        "#  Cross validation score (SVM)\n",
        "score = cross_val_score(SVM,features,target,cv=5)\n",
        "score"
      ],
      "metadata": {
        "colab": {
          "base_uri": "https://localhost:8080/"
        },
        "id": "jnHdZSR_Y3q9",
        "outputId": "1563bd9b-a797-4a1e-8aba-6f95b288f9b3"
      },
      "execution_count": null,
      "outputs": [
        {
          "output_type": "execute_result",
          "data": {
            "text/plain": [
              "array([0.27727273, 0.28863636, 0.29090909, 0.275     , 0.26818182])"
            ]
          },
          "metadata": {},
          "execution_count": 127
        }
      ]
    },
    {
      "cell_type": "code",
      "source": [
        "from sklearn.linear_model import LogisticRegression\n",
        "\n",
        "LogReg = LogisticRegression(random_state=2)\n",
        "\n",
        "LogReg.fit(Xtrain,Ytrain)\n",
        "\n",
        "predicted_values = LogReg.predict(Xtest)\n",
        "\n",
        "x = metrics.accuracy_score(Ytest, predicted_values)\n",
        "acc.append(x)\n",
        "model.append('Logistic Regression')\n",
        "print(\"Logistic Regression's Accuracy is: \", x)\n",
        "\n",
        "print(classification_report(Ytest,predicted_values))"
      ],
      "metadata": {
        "colab": {
          "base_uri": "https://localhost:8080/"
        },
        "id": "RA3cvgMGZTJH",
        "outputId": "606acb4e-8128-495b-a153-727bd40b3d2b"
      },
      "execution_count": null,
      "outputs": [
        {
          "output_type": "stream",
          "name": "stdout",
          "text": [
            "Logistic Regression's Accuracy is:  0.9621212121212122\n",
            "              precision    recall  f1-score   support\n",
            "\n",
            "       apple       1.00      1.00      1.00        28\n",
            "      banana       1.00      1.00      1.00        26\n",
            "   blackgram       0.92      0.82      0.87        28\n",
            "    chickpea       1.00      1.00      1.00        29\n",
            "     coconut       1.00      1.00      1.00        31\n",
            "      coffee       1.00      1.00      1.00        33\n",
            "      cotton       0.91      0.94      0.92        31\n",
            "      grapes       1.00      1.00      1.00        29\n",
            "        jute       0.86      0.94      0.90        33\n",
            " kidneybeans       0.97      1.00      0.98        30\n",
            "      lentil       0.91      1.00      0.96        32\n",
            "       maize       0.94      0.91      0.92        32\n",
            "       mango       0.97      1.00      0.99        33\n",
            "   mothbeans       0.83      0.83      0.83        29\n",
            "    mungbean       1.00      1.00      1.00        32\n",
            "   muskmelon       1.00      1.00      1.00        30\n",
            "      orange       1.00      1.00      1.00        42\n",
            "      papaya       0.97      0.93      0.95        30\n",
            "  pigeonpeas       1.00      0.97      0.98        31\n",
            " pomegranate       1.00      1.00      1.00        19\n",
            "        rice       0.93      0.83      0.88        30\n",
            "  watermelon       1.00      1.00      1.00        22\n",
            "\n",
            "    accuracy                           0.96       660\n",
            "   macro avg       0.96      0.96      0.96       660\n",
            "weighted avg       0.96      0.96      0.96       660\n",
            "\n"
          ]
        }
      ]
    },
    {
      "cell_type": "code",
      "source": [
        "# Cross validation score (Logistic Regression)\n",
        "score = cross_val_score(LogReg,features,target,cv=5)\n",
        "score"
      ],
      "metadata": {
        "colab": {
          "base_uri": "https://localhost:8080/"
        },
        "id": "yzXM538oZTLl",
        "outputId": "f5864890-df42-416f-c5db-9f71f27e23dc"
      },
      "execution_count": null,
      "outputs": [
        {
          "output_type": "execute_result",
          "data": {
            "text/plain": [
              "array([0.95      , 0.96590909, 0.94772727, 0.96590909, 0.94318182])"
            ]
          },
          "metadata": {},
          "execution_count": 129
        }
      ]
    },
    {
      "cell_type": "code",
      "source": [
        "import pickle\n",
        "# Dump the trained Naive Bayes classifier with Pickle\n",
        "LR_pkl_filename = 'LogisticRegression.pkl'\n",
        "# Open the file to save as pkl file\n",
        "LR_Model_pkl = open(DT_pkl_filename, 'wb')\n",
        "pickle.dump(LogReg, LR_Model_pkl)\n",
        "# Close the pickle instances\n",
        "LR_Model_pkl.close()"
      ],
      "metadata": {
        "id": "a2umVhn0ZTN6"
      },
      "execution_count": null,
      "outputs": []
    },
    {
      "cell_type": "code",
      "source": [
        "from sklearn.ensemble import RandomForestClassifier\n",
        "\n",
        "RF = RandomForestClassifier(n_estimators=20, random_state=0)\n",
        "RF.fit(Xtrain,Ytrain)\n",
        "\n",
        "predicted_values = RF.predict(Xtest)\n",
        "\n",
        "x = metrics.accuracy_score(Ytest, predicted_values)\n",
        "acc.append(x)\n",
        "model.append('RF')\n",
        "print(\"RF's Accuracy is: \", x)\n",
        "\n",
        "print(classification_report(Ytest,predicted_values))"
      ],
      "metadata": {
        "colab": {
          "base_uri": "https://localhost:8080/"
        },
        "id": "pBPmil_NZTQD",
        "outputId": "d798dbea-118f-4a3b-c0e8-1a4335f3dc92"
      },
      "execution_count": null,
      "outputs": [
        {
          "output_type": "stream",
          "name": "stdout",
          "text": [
            "RF's Accuracy is:  0.9893939393939394\n",
            "              precision    recall  f1-score   support\n",
            "\n",
            "       apple       1.00      1.00      1.00        28\n",
            "      banana       1.00      1.00      1.00        26\n",
            "   blackgram       0.97      1.00      0.98        28\n",
            "    chickpea       1.00      1.00      1.00        29\n",
            "     coconut       1.00      1.00      1.00        31\n",
            "      coffee       1.00      1.00      1.00        33\n",
            "      cotton       1.00      1.00      1.00        31\n",
            "      grapes       1.00      1.00      1.00        29\n",
            "        jute       0.89      0.94      0.91        33\n",
            " kidneybeans       1.00      1.00      1.00        30\n",
            "      lentil       1.00      1.00      1.00        32\n",
            "       maize       1.00      1.00      1.00        32\n",
            "       mango       1.00      1.00      1.00        33\n",
            "   mothbeans       1.00      0.97      0.98        29\n",
            "    mungbean       1.00      1.00      1.00        32\n",
            "   muskmelon       1.00      1.00      1.00        30\n",
            "      orange       1.00      1.00      1.00        42\n",
            "      papaya       1.00      1.00      1.00        30\n",
            "  pigeonpeas       1.00      1.00      1.00        31\n",
            " pomegranate       1.00      1.00      1.00        19\n",
            "        rice       0.93      0.87      0.90        30\n",
            "  watermelon       1.00      1.00      1.00        22\n",
            "\n",
            "    accuracy                           0.99       660\n",
            "   macro avg       0.99      0.99      0.99       660\n",
            "weighted avg       0.99      0.99      0.99       660\n",
            "\n"
          ]
        }
      ]
    },
    {
      "cell_type": "code",
      "source": [
        "# Cross validation score (Random Forest)\n",
        "score = cross_val_score(RF,features,target,cv=5)\n",
        "score"
      ],
      "metadata": {
        "colab": {
          "base_uri": "https://localhost:8080/"
        },
        "id": "_3uvwcUCZTRu",
        "outputId": "de3f0f18-936f-4436-a66d-ddd410ccbf99"
      },
      "execution_count": null,
      "outputs": [
        {
          "output_type": "execute_result",
          "data": {
            "text/plain": [
              "array([0.99772727, 0.99545455, 0.99772727, 0.99318182, 0.98863636])"
            ]
          },
          "metadata": {},
          "execution_count": 132
        }
      ]
    },
    {
      "cell_type": "code",
      "source": [
        "import pickle\n",
        "# Dump the trained Naive Bayes classifier with Pickle\n",
        "RF_pkl_filename = 'RandomForest.pkl'\n",
        "# Open the file to save as pkl file\n",
        "RF_Model_pkl = open(RF_pkl_filename, 'wb')\n",
        "pickle.dump(RF, RF_Model_pkl)\n",
        "# Close the pickle instances\n",
        "RF_Model_pkl.close()"
      ],
      "metadata": {
        "id": "RICBCDOiZTVO"
      },
      "execution_count": null,
      "outputs": []
    },
    {
      "cell_type": "code",
      "source": [
        "import xgboost as xgb\n",
        "#pip install 'scikit-learn==0.15'\n",
        "from sklearn.preprocessing import LabelEncoder\n",
        "le = LabelEncoder()\n",
        "y_train = le.fit_transform(Ytrain)\n",
        "XB = xgb.XGBClassifier()\n",
        "XB.fit(Xtrain,y_train)\n",
        " \n",
        "\n",
        "y_pred = XB.predict(Xtest)\n",
        "y_pred = le.inverse_transform(y_pred)\n",
        "\n",
        "x = metrics.accuracy_score(Ytest, y_pred)\n",
        "acc.append(x)"
      ],
      "metadata": {
        "id": "-LBnc6tdZTYq"
      },
      "execution_count": null,
      "outputs": []
    },
    {
      "cell_type": "code",
      "source": [
        "model.append('XGBoost')\n",
        "print(\"XGBoost's Accuracy is: \", x)\n",
        "\n",
        "print(classification_report(Ytest.astype(str) , y_pred.astype(str)))"
      ],
      "metadata": {
        "colab": {
          "base_uri": "https://localhost:8080/"
        },
        "id": "J-6_DCrGGAv5",
        "outputId": "ee18133d-dd75-40b2-f8b3-44ecb403e674"
      },
      "execution_count": null,
      "outputs": [
        {
          "output_type": "stream",
          "name": "stdout",
          "text": [
            "XGBoost's Accuracy is:  0.9954545454545455\n",
            "              precision    recall  f1-score   support\n",
            "\n",
            "       apple       1.00      1.00      1.00        28\n",
            "      banana       1.00      1.00      1.00        26\n",
            "   blackgram       1.00      1.00      1.00        28\n",
            "    chickpea       1.00      1.00      1.00        29\n",
            "     coconut       1.00      1.00      1.00        31\n",
            "      coffee       0.97      1.00      0.99        33\n",
            "      cotton       1.00      1.00      1.00        31\n",
            "      grapes       1.00      1.00      1.00        29\n",
            "        jute       1.00      0.91      0.95        33\n",
            " kidneybeans       1.00      1.00      1.00        30\n",
            "      lentil       1.00      1.00      1.00        32\n",
            "       maize       1.00      1.00      1.00        32\n",
            "       mango       1.00      1.00      1.00        33\n",
            "   mothbeans       1.00      1.00      1.00        29\n",
            "    mungbean       1.00      1.00      1.00        32\n",
            "   muskmelon       1.00      1.00      1.00        30\n",
            "      orange       1.00      1.00      1.00        42\n",
            "      papaya       1.00      1.00      1.00        30\n",
            "  pigeonpeas       1.00      1.00      1.00        31\n",
            " pomegranate       1.00      1.00      1.00        19\n",
            "        rice       0.94      1.00      0.97        30\n",
            "  watermelon       1.00      1.00      1.00        22\n",
            "\n",
            "    accuracy                           1.00       660\n",
            "   macro avg       1.00      1.00      1.00       660\n",
            "weighted avg       1.00      1.00      1.00       660\n",
            "\n"
          ]
        }
      ]
    },
    {
      "cell_type": "code",
      "source": [
        "# Cross validation score (XGBoost)\n",
        "XB_target=le.fit_transform(target)\n",
        "score = cross_val_score(XB, features, XB_target, cv=5)\n",
        "score"
      ],
      "metadata": {
        "id": "5MpIfNA7ZTaa"
      },
      "execution_count": null,
      "outputs": []
    },
    {
      "cell_type": "code",
      "source": [],
      "metadata": {
        "id": "XDEgcGtPPmh5"
      },
      "execution_count": null,
      "outputs": []
    },
    {
      "cell_type": "code",
      "source": [
        "import pickle\n",
        "# Dump the trained Naive Bayes classifier with Pickle\n",
        "XB_pkl_filename = 'XGBoost.pkl'\n",
        "# Open the file to save as pkl file\n",
        "XB_Model_pkl = open(XB_pkl_filename, 'wb')\n",
        "pickle.dump(XB, XB_Model_pkl)\n",
        "# Close the pickle instances\n",
        "XB_Model_pkl.close()"
      ],
      "metadata": {
        "id": "B4Ds0k9gZTd5"
      },
      "execution_count": null,
      "outputs": []
    },
    {
      "cell_type": "code",
      "source": [
        "plt.figure(figsize=[10,5],dpi = 100)\n",
        "plt.title('Accuracy Comparison')\n",
        "plt.xlabel('Accuracy')\n",
        "plt.ylabel('Algorithm')\n",
        "sns.barplot(x = acc,y = model,palette='dark')"
      ],
      "metadata": {
        "id": "Q1nuvU0jZpSi"
      },
      "execution_count": null,
      "outputs": []
    },
    {
      "cell_type": "code",
      "source": [
        "accuracy_models = dict(zip(model, acc))\n",
        "for k, v in accuracy_models.items():\n",
        "    print (k, '-->', v)"
      ],
      "metadata": {
        "id": "OYMdTXWeZpU4"
      },
      "execution_count": null,
      "outputs": []
    },
    {
      "cell_type": "code",
      "source": [
        "data = np.array([[104,18, 30, 23.603016, 60.3, 6.7, 140.91]])\n",
        "prediction = RF.predict(data)\n",
        "print(prediction)"
      ],
      "metadata": {
        "id": "pzSepb5dZpXE"
      },
      "execution_count": null,
      "outputs": []
    },
    {
      "cell_type": "code",
      "source": [
        "data = np.array([[83, 45, 60, 28, 70.3, 7.0, 150.9]])\n",
        "prediction = RF.predict(data)\n",
        "print(prediction)"
      ],
      "metadata": {
        "id": "gGPDvURgZpac"
      },
      "execution_count": null,
      "outputs": []
    },
    {
      "cell_type": "markdown",
      "source": [
        "Max Voting\n",
        "\n",
        "\n",
        "The max voting method is generally used for classification problems. In this technique, multiple models are used to make predictions for each data point. The predictions by each model are considered as a ‘vote’. The predictions which we get from the majority of the models are used as the final prediction.\n",
        "\n",
        "For example, when you asked 5 of your colleagues to rate your movie (out of 5); we’ll assume three of them rated it as 4 while two of them gave it a 5. Since the majority gave a rating of 4, the final rating will be taken as 4. You can consider this as taking the mode of all the predictions."
      ],
      "metadata": {
        "id": "eQnCnrtubLuk"
      }
    },
    {
      "cell_type": "code",
      "source": [
        "from sklearn.ensemble import VotingClassifier\n",
        "model1 = LogisticRegression(random_state=1)\n",
        "model2 = tree.DecisionTreeClassifier(random_state=1)\n",
        "model = VotingClassifier(estimators=[('lr', model1), ('dt', model2)], voting='hard')\n",
        "model.fit(Xtrain,Ytrain)\n",
        "model.score(Xtest,Ytest)"
      ],
      "metadata": {
        "id": "_2giGoP-bKuZ"
      },
      "execution_count": null,
      "outputs": []
    },
    {
      "cell_type": "code",
      "source": [
        "from sklearn.ensemble import VotingClassifier\n",
        "model1 = RandomForestClassifier(random_state=1)\n",
        "model2 = tree.DecisionTreeClassifier(random_state=1)\n",
        "model = VotingClassifier(estimators=[('lr', model1), ('dt', model2)], voting='hard')\n",
        "model.fit(Xtrain,Ytrain)\n",
        "model.score(Xtest,Ytest)"
      ],
      "metadata": {
        "id": "_SN8_YLSbKw-"
      },
      "execution_count": null,
      "outputs": []
    },
    {
      "cell_type": "code",
      "source": [
        "from sklearn.ensemble import VotingClassifier\n",
        "model1 = RandomForestClassifier(random_state=1)\n",
        "model2 =SVC(gamma='auto')\n",
        "model = VotingClassifier(estimators=[('lr', model1), ('dt', model2)], voting='hard')\n",
        "model.fit(Xtrain,Ytrain)\n",
        "model.score(Xtest,Ytest)"
      ],
      "metadata": {
        "id": "04VsnUTcbKzo"
      },
      "execution_count": null,
      "outputs": []
    },
    {
      "cell_type": "code",
      "source": [
        "from sklearn.ensemble import VotingClassifier\n",
        "model1 = RandomForestClassifier(random_state=1)\n",
        "model2 =GaussianNB()\n",
        "model = VotingClassifier(estimators=[('lr', model1), ('dt', model2)], voting='hard')\n",
        "model.fit(Xtrain,Ytrain)\n",
        "model.score(Xtest,Ytest)"
      ],
      "metadata": {
        "id": "WT8RqwcDbK2V"
      },
      "execution_count": null,
      "outputs": []
    },
    {
      "cell_type": "code",
      "source": [
        "from sklearn.ensemble import VotingClassifier\n",
        "model1 = RandomForestClassifier(random_state=1)\n",
        "model2 = LogisticRegression(random_state=1)\n",
        "model = VotingClassifier(estimators=[('lr', model1), ('dt', model2)], voting='hard')\n",
        "model.fit(Xtrain,Ytrain)\n",
        "model.score(Xtest,Ytest)"
      ],
      "metadata": {
        "id": "jF7lzQDFbK7O"
      },
      "execution_count": null,
      "outputs": []
    },
    {
      "cell_type": "code",
      "source": [
        "from sklearn.ensemble import VotingClassifier\n",
        "model1 = GaussianNB()\n",
        "model2 = LogisticRegression(random_state=1)\n",
        "model = VotingClassifier(estimators=[('lr', model1), ('dt', model2)], voting='hard')\n",
        "model.fit(Xtrain,Ytrain)\n",
        "model.score(Xtest,Ytest)"
      ],
      "metadata": {
        "id": "krKs9tFwbK9m"
      },
      "execution_count": null,
      "outputs": []
    },
    {
      "cell_type": "code",
      "source": [
        "from sklearn.ensemble import VotingClassifier\n",
        "model1 = SVC(gamma='auto')\n",
        "model2 = LogisticRegression(random_state=1)\n",
        "model = VotingClassifier(estimators=[('lr', model1), ('dt', model2)], voting='hard')\n",
        "model.fit(Xtrain,Ytrain)\n",
        "model.score(Xtest,Ytest)"
      ],
      "metadata": {
        "id": "v7-stwOfbLAS"
      },
      "execution_count": null,
      "outputs": []
    },
    {
      "cell_type": "code",
      "source": [
        "from sklearn.ensemble import VotingClassifier\n",
        "model1 = SVC(gamma='auto')\n",
        "model2 = GaussianNB()\n",
        "model = VotingClassifier(estimators=[('lr', model1), ('dt', model2)], voting='hard')\n",
        "model.fit(Xtrain,Ytrain)\n",
        "model.score(Xtest,Ytest)"
      ],
      "metadata": {
        "id": "d3Nw9iPcbLCq"
      },
      "execution_count": null,
      "outputs": []
    },
    {
      "cell_type": "code",
      "source": [
        "from sklearn.ensemble import VotingClassifier\n",
        "model1 = SVC(gamma='auto')\n",
        "model2 = tree.DecisionTreeClassifier(random_state=1)\n",
        "model = VotingClassifier(estimators=[('lr', model1), ('dt', model2)], voting='hard')\n",
        "model.fit(Xtrain,Ytrain)\n",
        "model.score(Xtest,Ytest)"
      ],
      "metadata": {
        "id": "LYzELkYcbLFl"
      },
      "execution_count": null,
      "outputs": []
    },
    {
      "cell_type": "code",
      "source": [
        "from sklearn.ensemble import VotingClassifier\n",
        "model1 = GaussianNB()\n",
        "model2 = tree.DecisionTreeClassifier(random_state=1)\n",
        "model = VotingClassifier(estimators=[('lr', model1), ('dt', model2)], voting='hard')\n",
        "model.fit(Xtrain,Ytrain)\n",
        "model.score(Xtest,Ytest)"
      ],
      "metadata": {
        "id": "_zvzGt5WbLJD"
      },
      "execution_count": null,
      "outputs": []
    },
    {
      "cell_type": "markdown",
      "source": [
        "Averaging\n",
        "\n",
        "\n",
        "Similar to the max voting technique, multiple predictions are made for each data point in averaging. In this method, we take an average of predictions from all the models and use it to make the final prediction. Averaging can be used for making predictions in regression problems or while calculating probabilities for classification problems.\n",
        "\n",
        "For example, in the below case, the averaging method would take the average of all the values.\n",
        "\n",
        "i.e. (5+4+5+4+4)/5 = 4.4"
      ],
      "metadata": {
        "id": "g3s5RVg_fPz0"
      }
    },
    {
      "cell_type": "code",
      "source": [
        "model1 = tree.DecisionTreeClassifier()\n",
        "model2 = RandomForestClassifier(random_state=1)\n",
        "model3= LogisticRegression()\n",
        "\n",
        "model1.fit(Xtrain,Ytrain)\n",
        "model2.fit(Xtrain,Ytrain)\n",
        "model3.fit(Xtrain,Ytrain)\n",
        "\n",
        "pred1=model1.predict_proba(Xtest)\n",
        "pred2=model2.predict_proba(Xtest)\n",
        "pred3=model3.predict_proba(Xtest)\n",
        "\n",
        "finalpred1=(pred1+pred2+pred3)/3"
      ],
      "metadata": {
        "id": "TLyfIYZufOnz"
      },
      "execution_count": null,
      "outputs": []
    },
    {
      "cell_type": "code",
      "source": [
        "model1 = tree.DecisionTreeClassifier()\n",
        "model2 =  GaussianNB()\n",
        "model3= LogisticRegression()\n",
        "\n",
        "model1.fit(Xtrain,Ytrain)\n",
        "model2.fit(Xtrain,Ytrain)\n",
        "model3.fit(Xtrain,Ytrain)\n",
        "\n",
        "pred1=model1.predict_proba(Xtest)\n",
        "pred2=model2.predict_proba(Xtest)\n",
        "pred3=model3.predict_proba(Xtest)\n",
        "\n",
        "finalpred1=(pred1+pred2+pred3)/3"
      ],
      "metadata": {
        "id": "ca9qR6EzfOqb"
      },
      "execution_count": null,
      "outputs": []
    },
    {
      "cell_type": "code",
      "source": [
        "model1 = tree.DecisionTreeClassifier()\n",
        "model2 =  GaussianNB()\n",
        "model3= LogisticRegression()\n",
        "\n",
        "model1.fit(Xtrain,Ytrain)\n",
        "model2.fit(Xtrain,Ytrain)\n",
        "model3.fit(Xtrain,Ytrain)\n",
        "\n",
        "pred1=model1.predict_proba(Xtest)\n",
        "pred2=model2.predict_proba(Xtest)\n",
        "pred3=model3.predict_proba(Xtest)\n",
        "\n",
        "finalpred1=(pred1+pred2+pred3)/3"
      ],
      "metadata": {
        "id": "HMmsqgT1fOtR"
      },
      "execution_count": null,
      "outputs": []
    },
    {
      "cell_type": "code",
      "source": [
        "model1 = tree.DecisionTreeClassifier()\n",
        "model2 =  xgb.XGBClassifier()\n",
        "model3= LogisticRegression()\n",
        "from sklearn.preprocessing import LabelEncoder\n",
        "le = LabelEncoder()\n",
        "y_train = le.fit_transform(Ytrain)\n",
        "model1.fit(Xtrain,Ytrain)\n",
        "model2.fit(Xtrain,y_train)\n",
        "model3.fit(Xtrain,Ytrain)\n",
        "\n",
        "pred1=model1.predict_proba(Xtest)\n",
        "pred2=model2.predict_proba(Xtest)\n",
        "pred3=model3.predict_proba(Xtest)\n",
        "\n",
        "finalpred1=(pred1+pred2+pred3)/3"
      ],
      "metadata": {
        "id": "iclZ5gg8fOwV"
      },
      "execution_count": null,
      "outputs": []
    },
    {
      "cell_type": "code",
      "source": [
        "model1 = tree.DecisionTreeClassifier()\n",
        "model2 =  xgb.XGBClassifier()\n",
        "model3= RandomForestClassifier(random_state=1)\n",
        "from sklearn.preprocessing import LabelEncoder\n",
        "le = LabelEncoder()\n",
        "y_train = le.fit_transform(Ytrain)\n",
        "model1.fit(Xtrain,Ytrain)\n",
        "model2.fit(Xtrain,y_train)\n",
        "model3.fit(Xtrain,Ytrain)\n",
        "\n",
        "pred1=model1.predict_proba(Xtest)\n",
        "pred2=model2.predict_proba(Xtest)\n",
        "pred3=model3.predict_proba(Xtest)\n",
        "\n",
        "finalpred1=(pred1+pred2+pred3)/3"
      ],
      "metadata": {
        "id": "lYsJRBsSfOzd"
      },
      "execution_count": null,
      "outputs": []
    },
    {
      "cell_type": "markdown",
      "source": [
        "Taking two models then predicting its value then validating it with use of third model . \n",
        "\n",
        "\n",
        "\n",
        "We’ll build two models, decision tree and random forest , on the train set in order to make predictions on the validation set."
      ],
      "metadata": {
        "id": "BSo6jLVRiXwP"
      }
    },
    {
      "cell_type": "code",
      "source": [
        "from sklearn.model_selection import StratifiedKFold\n",
        "def Stacking(model,train,y,test,n_fold):\n",
        "   folds=StratifiedKFold(n_splits=n_fold,random_state=1)\n",
        "   test_pred=np.empty((test.shape[0],1),float)\n",
        "   train_pred=np.empty((0,1),float)\n",
        "   for train_indices,val_indices in folds.split(train,y.values):\n",
        "      Xtrain,x_val=train.iloc[train_indices],train.iloc[val_indices]\n",
        "      Ytrain,y_val=y.iloc[train_indices],y.iloc[val_indices]\n",
        "\n",
        "      model.fit(X=Xtrain,y=Ytrain)\n",
        "      train_pred=np.append(train_pred,model.predict(x_val))\n",
        "      test_pred=np.append(test_pred,model.predict(test))\n",
        "   return test_pred.reshape(-1,1), train_pred"
      ],
      "metadata": {
        "id": "qH8cJ1YAjCSL"
      },
      "execution_count": null,
      "outputs": []
    },
    {
      "cell_type": "code",
      "source": [
        "from sklearn.neighbors import KNeighborsClassifier\n",
        "model1 = tree.DecisionTreeClassifier()\n",
        "model1.fit(Xtrain, Ytrain)\n",
        "val_pred1=model1.predict(Xtrain)\n",
        "test_pred1=model1.predict(Xtest)\n",
        "val_pred1=pd.DataFrame(val_pred1)\n",
        "test_pred1=pd.DataFrame(test_pred1)\n",
        "\n",
        "model2 = KNeighborsClassifier()\n",
        "model2.fit(Xtrain,Ytrain)\n",
        "val_pred2=model2.predict(Xtrain)\n",
        "test_pred2=model2.predict(Xtest)\n",
        "val_pred2=pd.DataFrame(val_pred2)\n",
        "test_pred2=pd.DataFrame(test_pred2)"
      ],
      "metadata": {
        "id": "HABuxqbyfO2H"
      },
      "execution_count": null,
      "outputs": []
    },
    {
      "cell_type": "code",
      "source": [
        "from sklearn.linear_model import LogisticRegression\n",
        "df_val=pd.concat([Xtrain, val_pred1,val_pred2],axis=1)\n",
        "df_test=pd.concat([Xtest, test_pred1,test_pred2],axis=1)\n",
        "LYtrain=Ytrain\n",
        "LYtrain= Ytrain.astype(str)\n",
        "model = LogisticRegression()\n",
        "model.fit(df_val,LYtrain)\n",
        "model.score(df_test,Ytest)"
      ],
      "metadata": {
        "id": "MkjNLfBDfO4t",
        "colab": {
          "base_uri": "https://localhost:8080/",
          "height": 415
        },
        "outputId": "5e945e2a-e3db-4f98-c916-d7e97dae19e7"
      },
      "execution_count": 113,
      "outputs": [
        {
          "output_type": "error",
          "ename": "TypeError",
          "evalue": "ignored",
          "traceback": [
            "\u001b[0;31m---------------------------------------------------------------------------\u001b[0m",
            "\u001b[0;31mTypeError\u001b[0m                                 Traceback (most recent call last)",
            "\u001b[0;32m<ipython-input-113-b12464fb0517>\u001b[0m in \u001b[0;36m<module>\u001b[0;34m\u001b[0m\n\u001b[1;32m      5\u001b[0m \u001b[0mLYtrain\u001b[0m\u001b[0;34m=\u001b[0m \u001b[0mYtrain\u001b[0m\u001b[0;34m.\u001b[0m\u001b[0mastype\u001b[0m\u001b[0;34m(\u001b[0m\u001b[0mstr\u001b[0m\u001b[0;34m)\u001b[0m\u001b[0;34m\u001b[0m\u001b[0;34m\u001b[0m\u001b[0m\n\u001b[1;32m      6\u001b[0m \u001b[0mmodel\u001b[0m \u001b[0;34m=\u001b[0m \u001b[0mLogisticRegression\u001b[0m\u001b[0;34m(\u001b[0m\u001b[0;34m)\u001b[0m\u001b[0;34m\u001b[0m\u001b[0;34m\u001b[0m\u001b[0m\n\u001b[0;32m----> 7\u001b[0;31m \u001b[0mmodel\u001b[0m\u001b[0;34m.\u001b[0m\u001b[0mfit\u001b[0m\u001b[0;34m(\u001b[0m\u001b[0mdf_val\u001b[0m\u001b[0;34m,\u001b[0m\u001b[0mLYtrain\u001b[0m\u001b[0;34m)\u001b[0m\u001b[0;34m\u001b[0m\u001b[0;34m\u001b[0m\u001b[0m\n\u001b[0m\u001b[1;32m      8\u001b[0m \u001b[0mmodel\u001b[0m\u001b[0;34m.\u001b[0m\u001b[0mscore\u001b[0m\u001b[0;34m(\u001b[0m\u001b[0mdf_test\u001b[0m\u001b[0;34m,\u001b[0m\u001b[0mYtest\u001b[0m\u001b[0;34m)\u001b[0m\u001b[0;34m\u001b[0m\u001b[0;34m\u001b[0m\u001b[0m\n",
            "\u001b[0;32m/usr/local/lib/python3.9/dist-packages/sklearn/linear_model/_logistic.py\u001b[0m in \u001b[0;36mfit\u001b[0;34m(self, X, y, sample_weight)\u001b[0m\n\u001b[1;32m   1194\u001b[0m             \u001b[0m_dtype\u001b[0m \u001b[0;34m=\u001b[0m \u001b[0;34m[\u001b[0m\u001b[0mnp\u001b[0m\u001b[0;34m.\u001b[0m\u001b[0mfloat64\u001b[0m\u001b[0;34m,\u001b[0m \u001b[0mnp\u001b[0m\u001b[0;34m.\u001b[0m\u001b[0mfloat32\u001b[0m\u001b[0;34m]\u001b[0m\u001b[0;34m\u001b[0m\u001b[0;34m\u001b[0m\u001b[0m\n\u001b[1;32m   1195\u001b[0m \u001b[0;34m\u001b[0m\u001b[0m\n\u001b[0;32m-> 1196\u001b[0;31m         X, y = self._validate_data(\n\u001b[0m\u001b[1;32m   1197\u001b[0m             \u001b[0mX\u001b[0m\u001b[0;34m,\u001b[0m\u001b[0;34m\u001b[0m\u001b[0;34m\u001b[0m\u001b[0m\n\u001b[1;32m   1198\u001b[0m             \u001b[0my\u001b[0m\u001b[0;34m,\u001b[0m\u001b[0;34m\u001b[0m\u001b[0;34m\u001b[0m\u001b[0m\n",
            "\u001b[0;32m/usr/local/lib/python3.9/dist-packages/sklearn/base.py\u001b[0m in \u001b[0;36m_validate_data\u001b[0;34m(self, X, y, reset, validate_separately, **check_params)\u001b[0m\n\u001b[1;32m    546\u001b[0m             \u001b[0mvalidated\u001b[0m\u001b[0;34m.\u001b[0m\u001b[0;34m\u001b[0m\u001b[0;34m\u001b[0m\u001b[0m\n\u001b[1;32m    547\u001b[0m         \"\"\"\n\u001b[0;32m--> 548\u001b[0;31m         \u001b[0mself\u001b[0m\u001b[0;34m.\u001b[0m\u001b[0m_check_feature_names\u001b[0m\u001b[0;34m(\u001b[0m\u001b[0mX\u001b[0m\u001b[0;34m,\u001b[0m \u001b[0mreset\u001b[0m\u001b[0;34m=\u001b[0m\u001b[0mreset\u001b[0m\u001b[0;34m)\u001b[0m\u001b[0;34m\u001b[0m\u001b[0;34m\u001b[0m\u001b[0m\n\u001b[0m\u001b[1;32m    549\u001b[0m \u001b[0;34m\u001b[0m\u001b[0m\n\u001b[1;32m    550\u001b[0m         \u001b[0;32mif\u001b[0m \u001b[0my\u001b[0m \u001b[0;32mis\u001b[0m \u001b[0;32mNone\u001b[0m \u001b[0;32mand\u001b[0m \u001b[0mself\u001b[0m\u001b[0;34m.\u001b[0m\u001b[0m_get_tags\u001b[0m\u001b[0;34m(\u001b[0m\u001b[0;34m)\u001b[0m\u001b[0;34m[\u001b[0m\u001b[0;34m\"requires_y\"\u001b[0m\u001b[0;34m]\u001b[0m\u001b[0;34m:\u001b[0m\u001b[0;34m\u001b[0m\u001b[0;34m\u001b[0m\u001b[0m\n",
            "\u001b[0;32m/usr/local/lib/python3.9/dist-packages/sklearn/base.py\u001b[0m in \u001b[0;36m_check_feature_names\u001b[0;34m(self, X, reset)\u001b[0m\n\u001b[1;32m    413\u001b[0m \u001b[0;34m\u001b[0m\u001b[0m\n\u001b[1;32m    414\u001b[0m         \u001b[0;32mif\u001b[0m \u001b[0mreset\u001b[0m\u001b[0;34m:\u001b[0m\u001b[0;34m\u001b[0m\u001b[0;34m\u001b[0m\u001b[0m\n\u001b[0;32m--> 415\u001b[0;31m             \u001b[0mfeature_names_in\u001b[0m \u001b[0;34m=\u001b[0m \u001b[0m_get_feature_names\u001b[0m\u001b[0;34m(\u001b[0m\u001b[0mX\u001b[0m\u001b[0;34m)\u001b[0m\u001b[0;34m\u001b[0m\u001b[0;34m\u001b[0m\u001b[0m\n\u001b[0m\u001b[1;32m    416\u001b[0m             \u001b[0;32mif\u001b[0m \u001b[0mfeature_names_in\u001b[0m \u001b[0;32mis\u001b[0m \u001b[0;32mnot\u001b[0m \u001b[0;32mNone\u001b[0m\u001b[0;34m:\u001b[0m\u001b[0;34m\u001b[0m\u001b[0;34m\u001b[0m\u001b[0m\n\u001b[1;32m    417\u001b[0m                 \u001b[0mself\u001b[0m\u001b[0;34m.\u001b[0m\u001b[0mfeature_names_in_\u001b[0m \u001b[0;34m=\u001b[0m \u001b[0mfeature_names_in\u001b[0m\u001b[0;34m\u001b[0m\u001b[0;34m\u001b[0m\u001b[0m\n",
            "\u001b[0;32m/usr/local/lib/python3.9/dist-packages/sklearn/utils/validation.py\u001b[0m in \u001b[0;36m_get_feature_names\u001b[0;34m(X)\u001b[0m\n\u001b[1;32m   1901\u001b[0m     \u001b[0;31m# mixed type of string and non-string is not supported\u001b[0m\u001b[0;34m\u001b[0m\u001b[0;34m\u001b[0m\u001b[0m\n\u001b[1;32m   1902\u001b[0m     \u001b[0;32mif\u001b[0m \u001b[0mlen\u001b[0m\u001b[0;34m(\u001b[0m\u001b[0mtypes\u001b[0m\u001b[0;34m)\u001b[0m \u001b[0;34m>\u001b[0m \u001b[0;36m1\u001b[0m \u001b[0;32mand\u001b[0m \u001b[0;34m\"str\"\u001b[0m \u001b[0;32min\u001b[0m \u001b[0mtypes\u001b[0m\u001b[0;34m:\u001b[0m\u001b[0;34m\u001b[0m\u001b[0;34m\u001b[0m\u001b[0m\n\u001b[0;32m-> 1903\u001b[0;31m         raise TypeError(\n\u001b[0m\u001b[1;32m   1904\u001b[0m             \u001b[0;34m\"Feature names are only supported if all input features have string names, \"\u001b[0m\u001b[0;34m\u001b[0m\u001b[0;34m\u001b[0m\u001b[0m\n\u001b[1;32m   1905\u001b[0m             \u001b[0;34mf\"but your input has {types} as feature name / column name types. \"\u001b[0m\u001b[0;34m\u001b[0m\u001b[0;34m\u001b[0m\u001b[0m\n",
            "\u001b[0;31mTypeError\u001b[0m: Feature names are only supported if all input features have string names, but your input has ['int', 'str'] as feature name / column name types. If you want feature names to be stored and validated, you must convert them all to strings, by using X.columns = X.columns.astype(str) for example. Otherwise you can remove feature / column names from your input data, or convert them all to a non-string data type."
          ]
        }
      ]
    },
    {
      "cell_type": "code",
      "source": [],
      "metadata": {
        "id": "Iia2GmhNfO8J"
      },
      "execution_count": null,
      "outputs": []
    }
  ]
}
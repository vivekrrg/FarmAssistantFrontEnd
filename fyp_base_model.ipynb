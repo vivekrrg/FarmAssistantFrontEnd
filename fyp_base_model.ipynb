{
  "cells": [
    {
      "cell_type": "code",
      "execution_count": 154,
      "metadata": {
        "id": "o7W_84VjXoa6"
      },
      "outputs": [],
      "source": [
        "# Importing libraries\n",
        "\n",
        "from __future__ import print_function\n",
        "import pandas as pd\n",
        "import numpy as np\n",
        "import matplotlib.pyplot as plt\n",
        "import seaborn as sns\n",
        "from sklearn.metrics import classification_report\n",
        "from sklearn import metrics\n",
        "from sklearn import tree\n",
        "import warnings\n",
        "warnings.filterwarnings('ignore')"
      ]
    },
    {
      "cell_type": "code",
      "execution_count": 155,
      "metadata": {
        "id": "BWYcamjhXxNH"
      },
      "outputs": [],
      "source": [
        " \n",
        "df = pd.read_csv('Crop_recommendation.csv')"
      ]
    },
    {
      "cell_type": "code",
      "execution_count": 156,
      "metadata": {
        "colab": {
          "base_uri": "https://localhost:8080/",
          "height": 206
        },
        "id": "EK8iqpbbXxPr",
        "outputId": "272ad199-3266-47fc-c867-4d3861d4b43c"
      },
      "outputs": [
        {
          "data": {
            "text/html": [
              "<div>\n",
              "<style scoped>\n",
              "    .dataframe tbody tr th:only-of-type {\n",
              "        vertical-align: middle;\n",
              "    }\n",
              "\n",
              "    .dataframe tbody tr th {\n",
              "        vertical-align: top;\n",
              "    }\n",
              "\n",
              "    .dataframe thead th {\n",
              "        text-align: right;\n",
              "    }\n",
              "</style>\n",
              "<table border=\"1\" class=\"dataframe\">\n",
              "  <thead>\n",
              "    <tr style=\"text-align: right;\">\n",
              "      <th></th>\n",
              "      <th>N</th>\n",
              "      <th>P</th>\n",
              "      <th>K</th>\n",
              "      <th>temperature</th>\n",
              "      <th>humidity</th>\n",
              "      <th>ph</th>\n",
              "      <th>rainfall</th>\n",
              "      <th>label</th>\n",
              "    </tr>\n",
              "  </thead>\n",
              "  <tbody>\n",
              "    <tr>\n",
              "      <th>0</th>\n",
              "      <td>90</td>\n",
              "      <td>42</td>\n",
              "      <td>43</td>\n",
              "      <td>20.879744</td>\n",
              "      <td>82.002744</td>\n",
              "      <td>6.502985</td>\n",
              "      <td>202.935536</td>\n",
              "      <td>rice</td>\n",
              "    </tr>\n",
              "    <tr>\n",
              "      <th>1</th>\n",
              "      <td>85</td>\n",
              "      <td>58</td>\n",
              "      <td>41</td>\n",
              "      <td>21.770462</td>\n",
              "      <td>80.319644</td>\n",
              "      <td>7.038096</td>\n",
              "      <td>226.655537</td>\n",
              "      <td>rice</td>\n",
              "    </tr>\n",
              "    <tr>\n",
              "      <th>2</th>\n",
              "      <td>60</td>\n",
              "      <td>55</td>\n",
              "      <td>44</td>\n",
              "      <td>23.004459</td>\n",
              "      <td>82.320763</td>\n",
              "      <td>7.840207</td>\n",
              "      <td>263.964248</td>\n",
              "      <td>rice</td>\n",
              "    </tr>\n",
              "    <tr>\n",
              "      <th>3</th>\n",
              "      <td>74</td>\n",
              "      <td>35</td>\n",
              "      <td>40</td>\n",
              "      <td>26.491096</td>\n",
              "      <td>80.158363</td>\n",
              "      <td>6.980401</td>\n",
              "      <td>242.864034</td>\n",
              "      <td>rice</td>\n",
              "    </tr>\n",
              "    <tr>\n",
              "      <th>4</th>\n",
              "      <td>78</td>\n",
              "      <td>42</td>\n",
              "      <td>42</td>\n",
              "      <td>20.130175</td>\n",
              "      <td>81.604873</td>\n",
              "      <td>7.628473</td>\n",
              "      <td>262.717340</td>\n",
              "      <td>rice</td>\n",
              "    </tr>\n",
              "  </tbody>\n",
              "</table>\n",
              "</div>"
            ],
            "text/plain": [
              "    N   P   K  temperature   humidity        ph    rainfall label\n",
              "0  90  42  43    20.879744  82.002744  6.502985  202.935536  rice\n",
              "1  85  58  41    21.770462  80.319644  7.038096  226.655537  rice\n",
              "2  60  55  44    23.004459  82.320763  7.840207  263.964248  rice\n",
              "3  74  35  40    26.491096  80.158363  6.980401  242.864034  rice\n",
              "4  78  42  42    20.130175  81.604873  7.628473  262.717340  rice"
            ]
          },
          "execution_count": 156,
          "metadata": {},
          "output_type": "execute_result"
        }
      ],
      "source": [
        "df.head()"
      ]
    },
    {
      "cell_type": "code",
      "execution_count": 157,
      "metadata": {
        "colab": {
          "base_uri": "https://localhost:8080/",
          "height": 206
        },
        "id": "pPW1IWEBXxSJ",
        "outputId": "847778fe-b24e-429f-ed69-73899f9d144b"
      },
      "outputs": [
        {
          "data": {
            "text/html": [
              "<div>\n",
              "<style scoped>\n",
              "    .dataframe tbody tr th:only-of-type {\n",
              "        vertical-align: middle;\n",
              "    }\n",
              "\n",
              "    .dataframe tbody tr th {\n",
              "        vertical-align: top;\n",
              "    }\n",
              "\n",
              "    .dataframe thead th {\n",
              "        text-align: right;\n",
              "    }\n",
              "</style>\n",
              "<table border=\"1\" class=\"dataframe\">\n",
              "  <thead>\n",
              "    <tr style=\"text-align: right;\">\n",
              "      <th></th>\n",
              "      <th>N</th>\n",
              "      <th>P</th>\n",
              "      <th>K</th>\n",
              "      <th>temperature</th>\n",
              "      <th>humidity</th>\n",
              "      <th>ph</th>\n",
              "      <th>rainfall</th>\n",
              "      <th>label</th>\n",
              "    </tr>\n",
              "  </thead>\n",
              "  <tbody>\n",
              "    <tr>\n",
              "      <th>2195</th>\n",
              "      <td>107</td>\n",
              "      <td>34</td>\n",
              "      <td>32</td>\n",
              "      <td>26.774637</td>\n",
              "      <td>66.413269</td>\n",
              "      <td>6.780064</td>\n",
              "      <td>177.774507</td>\n",
              "      <td>coffee</td>\n",
              "    </tr>\n",
              "    <tr>\n",
              "      <th>2196</th>\n",
              "      <td>99</td>\n",
              "      <td>15</td>\n",
              "      <td>27</td>\n",
              "      <td>27.417112</td>\n",
              "      <td>56.636362</td>\n",
              "      <td>6.086922</td>\n",
              "      <td>127.924610</td>\n",
              "      <td>coffee</td>\n",
              "    </tr>\n",
              "    <tr>\n",
              "      <th>2197</th>\n",
              "      <td>118</td>\n",
              "      <td>33</td>\n",
              "      <td>30</td>\n",
              "      <td>24.131797</td>\n",
              "      <td>67.225123</td>\n",
              "      <td>6.362608</td>\n",
              "      <td>173.322839</td>\n",
              "      <td>coffee</td>\n",
              "    </tr>\n",
              "    <tr>\n",
              "      <th>2198</th>\n",
              "      <td>117</td>\n",
              "      <td>32</td>\n",
              "      <td>34</td>\n",
              "      <td>26.272418</td>\n",
              "      <td>52.127394</td>\n",
              "      <td>6.758793</td>\n",
              "      <td>127.175293</td>\n",
              "      <td>coffee</td>\n",
              "    </tr>\n",
              "    <tr>\n",
              "      <th>2199</th>\n",
              "      <td>104</td>\n",
              "      <td>18</td>\n",
              "      <td>30</td>\n",
              "      <td>23.603016</td>\n",
              "      <td>60.396475</td>\n",
              "      <td>6.779833</td>\n",
              "      <td>140.937041</td>\n",
              "      <td>coffee</td>\n",
              "    </tr>\n",
              "  </tbody>\n",
              "</table>\n",
              "</div>"
            ],
            "text/plain": [
              "        N   P   K  temperature   humidity        ph    rainfall   label\n",
              "2195  107  34  32    26.774637  66.413269  6.780064  177.774507  coffee\n",
              "2196   99  15  27    27.417112  56.636362  6.086922  127.924610  coffee\n",
              "2197  118  33  30    24.131797  67.225123  6.362608  173.322839  coffee\n",
              "2198  117  32  34    26.272418  52.127394  6.758793  127.175293  coffee\n",
              "2199  104  18  30    23.603016  60.396475  6.779833  140.937041  coffee"
            ]
          },
          "execution_count": 157,
          "metadata": {},
          "output_type": "execute_result"
        }
      ],
      "source": [
        "df.tail()"
      ]
    },
    {
      "cell_type": "code",
      "execution_count": 158,
      "metadata": {
        "colab": {
          "base_uri": "https://localhost:8080/"
        },
        "id": "LJoakKbjXxUU",
        "outputId": "fe5c5fe9-1bde-4527-e851-03b4568f4222"
      },
      "outputs": [
        {
          "data": {
            "text/plain": [
              "17600"
            ]
          },
          "execution_count": 158,
          "metadata": {},
          "output_type": "execute_result"
        }
      ],
      "source": [
        "df.size"
      ]
    },
    {
      "cell_type": "code",
      "execution_count": 159,
      "metadata": {
        "colab": {
          "base_uri": "https://localhost:8080/"
        },
        "id": "0VAj6DGsXxWp",
        "outputId": "f8bf3689-642d-46be-c26e-67a38d0a978e"
      },
      "outputs": [
        {
          "data": {
            "text/plain": [
              "(2200, 8)"
            ]
          },
          "execution_count": 159,
          "metadata": {},
          "output_type": "execute_result"
        }
      ],
      "source": [
        "df.shape"
      ]
    },
    {
      "cell_type": "code",
      "execution_count": 160,
      "metadata": {
        "colab": {
          "base_uri": "https://localhost:8080/"
        },
        "id": "uPSNZo1dXxZb",
        "outputId": "230bcda5-c709-4cd0-fab8-3539373ceff1"
      },
      "outputs": [
        {
          "data": {
            "text/plain": [
              "Index(['N', 'P', 'K', 'temperature', 'humidity', 'ph', 'rainfall', 'label'], dtype='object')"
            ]
          },
          "execution_count": 160,
          "metadata": {},
          "output_type": "execute_result"
        }
      ],
      "source": [
        "df.columns"
      ]
    },
    {
      "cell_type": "code",
      "execution_count": 161,
      "metadata": {
        "id": "J0Ti4UOQXxb8"
      },
      "outputs": [],
      "source": [
        "arr=df['label'].unique()"
      ]
    },
    {
      "cell_type": "code",
      "execution_count": 162,
      "metadata": {
        "colab": {
          "base_uri": "https://localhost:8080/"
        },
        "id": "z58V1hChDg3R",
        "outputId": "a43ed6b6-c735-4cfa-a5ae-fb46c242b1b3"
      },
      "outputs": [
        {
          "data": {
            "text/plain": [
              "array(['rice', 'maize', 'chickpea', 'kidneybeans', 'pigeonpeas',\n",
              "       'mothbeans', 'mungbean', 'blackgram', 'lentil', 'pomegranate',\n",
              "       'banana', 'mango', 'grapes', 'watermelon', 'muskmelon', 'apple',\n",
              "       'orange', 'papaya', 'coconut', 'cotton', 'jute', 'coffee'],\n",
              "      dtype=object)"
            ]
          },
          "execution_count": 162,
          "metadata": {},
          "output_type": "execute_result"
        }
      ],
      "source": [
        "arr"
      ]
    },
    {
      "cell_type": "code",
      "execution_count": 163,
      "metadata": {
        "colab": {
          "base_uri": "https://localhost:8080/"
        },
        "id": "u9wapnqqDjy3",
        "outputId": "4cee2470-84ea-4f1b-a32d-359e9f1c1286"
      },
      "outputs": [
        {
          "data": {
            "text/plain": [
              "22"
            ]
          },
          "execution_count": 163,
          "metadata": {},
          "output_type": "execute_result"
        }
      ],
      "source": [
        "arr.size"
      ]
    },
    {
      "cell_type": "code",
      "execution_count": 164,
      "metadata": {
        "colab": {
          "base_uri": "https://localhost:8080/"
        },
        "id": "eYDowzUfXxee",
        "outputId": "7adc6125-35f2-44bf-d33e-2dbc132809ae"
      },
      "outputs": [
        {
          "data": {
            "text/plain": [
              "N                int64\n",
              "P                int64\n",
              "K                int64\n",
              "temperature    float64\n",
              "humidity       float64\n",
              "ph             float64\n",
              "rainfall       float64\n",
              "label           object\n",
              "dtype: object"
            ]
          },
          "execution_count": 164,
          "metadata": {},
          "output_type": "execute_result"
        }
      ],
      "source": [
        "df.dtypes"
      ]
    },
    {
      "cell_type": "code",
      "execution_count": 165,
      "metadata": {
        "colab": {
          "base_uri": "https://localhost:8080/"
        },
        "id": "1fV_Xsh5XxhE",
        "outputId": "1a61b961-2db6-46ce-b110-123aa34e036e"
      },
      "outputs": [
        {
          "data": {
            "text/plain": [
              "lentil         100\n",
              "coconut        100\n",
              "grapes         100\n",
              "pomegranate    100\n",
              "cotton         100\n",
              "watermelon     100\n",
              "chickpea       100\n",
              "blackgram      100\n",
              "orange         100\n",
              "coffee         100\n",
              "mango          100\n",
              "maize          100\n",
              "rice           100\n",
              "banana         100\n",
              "apple          100\n",
              "pigeonpeas     100\n",
              "muskmelon      100\n",
              "mungbean       100\n",
              "mothbeans      100\n",
              "jute           100\n",
              "kidneybeans    100\n",
              "papaya         100\n",
              "Name: label, dtype: int64"
            ]
          },
          "execution_count": 165,
          "metadata": {},
          "output_type": "execute_result"
        }
      ],
      "source": [
        "df['label'].value_counts()"
      ]
    },
    {
      "cell_type": "code",
      "execution_count": 166,
      "metadata": {
        "colab": {
          "base_uri": "https://localhost:8080/",
          "height": 339
        },
        "id": "7svLsIXiXxjh",
        "outputId": "1e7bcf64-6141-4bdb-c8b1-92da1e40e58d"
      },
      "outputs": [
        {
          "data": {
            "text/plain": [
              "<AxesSubplot:>"
            ]
          },
          "execution_count": 166,
          "metadata": {},
          "output_type": "execute_result"
        },
        {
          "data": {
            "image/png": "[encoded data removed]",
            "text/plain": [
              "<Figure size 432x288 with 2 Axes>"
            ]
          },
          "metadata": {
            "needs_background": "light"
          },
          "output_type": "display_data"
        }
      ],
      "source": [
        "sns.heatmap(df.corr(),annot=True)"
      ]
    },
    {
      "cell_type": "code",
      "execution_count": 167,
      "metadata": {
        "colab": {
          "base_uri": "https://localhost:8080/",
          "height": 282
        },
        "id": "4s9bJKh3mT9b",
        "outputId": "f767ac12-3436-41da-d0e7-e83763defc37"
      },
      "outputs": [
        {
          "data": {
            "text/plain": [
              "<AxesSubplot:xlabel='K'>"
            ]
          },
          "execution_count": 167,
          "metadata": {},
          "output_type": "execute_result"
        },
        {
          "data": {
            "image/png": "[encoded data removed]",
            "text/plain": [
              "<Figure size 432x288 with 1 Axes>"
            ]
          },
          "metadata": {
            "needs_background": "light"
          },
          "output_type": "display_data"
        }
      ],
      "source": [
        "sns.boxplot(df['K'])"
      ]
    },
    {
      "cell_type": "code",
      "execution_count": 168,
      "metadata": {
        "id": "BUZiHamPXxl8"
      },
      "outputs": [],
      "source": [
        "features = df[['N', 'P','K','temperature', 'humidity', 'ph', 'rainfall']]\n",
        "target = df['label']\n",
        "labels = df['label']"
      ]
    },
    {
      "cell_type": "code",
      "execution_count": 169,
      "metadata": {
        "colab": {
          "base_uri": "https://localhost:8080/",
          "height": 280
        },
        "id": "igC7zgWFhYbi",
        "outputId": "cb663c40-60c3-4f3c-83ef-6709a03e18d7"
      },
      "outputs": [
        {
          "data": {
            "image/png": "[encoded data removed]",
            "text/plain": [
              "<Figure size 432x288 with 1 Axes>"
            ]
          },
          "metadata": {
            "needs_background": "light"
          },
          "output_type": "display_data"
        }
      ],
      "source": [
        "import numpy as np; np.random.seed(42)\n",
        "\n",
        "df = pd.DataFrame(data = np.random.random(size=(5,5)), columns = ['temperature','N','humidity','K','P'])\n",
        "\n",
        "sns.boxplot(x=\"variable\", y=\"value\", data=pd.melt(df))\n",
        "\n",
        "plt.show()"
      ]
    },
    {
      "cell_type": "code",
      "execution_count": 170,
      "metadata": {
        "id": "bqCHDPDrXxoX"
      },
      "outputs": [],
      "source": [
        "# Initializing empty lists to append all model's name and corresponding name\n",
        "acc = []\n",
        "modelName = []\n",
        "actualModel=[]"
      ]
    },
    {
      "cell_type": "code",
      "execution_count": 171,
      "metadata": {
        "id": "K-4SA5UmXxr3"
      },
      "outputs": [],
      "source": [
        "# Splitting into train and test data\n",
        "\n",
        "from sklearn.model_selection import train_test_split\n",
        "Xtrain, Xtest, Ytrain, Ytest = train_test_split(features,target,test_size = 0.3,random_state =2)"
      ]
    },
    {
      "cell_type": "code",
      "execution_count": 172,
      "metadata": {
        "colab": {
          "base_uri": "https://localhost:8080/"
        },
        "id": "q5WND4dnpi4j",
        "outputId": "8b265d4b-86b5-4cf4-b6da-14442ed0eb4e"
      },
      "outputs": [
        {
          "data": {
            "text/plain": [
              "2121         coffee\n",
              "960     pomegranate\n",
              "952     pomegranate\n",
              "1958         cotton\n",
              "681        mungbean\n",
              "           ...     \n",
              "794       blackgram\n",
              "287        chickpea\n",
              "1054         banana\n",
              "2042           jute\n",
              "1719         papaya\n",
              "Name: label, Length: 660, dtype: object"
            ]
          },
          "execution_count": 172,
          "metadata": {},
          "output_type": "execute_result"
        }
      ],
      "source": [
        "Ytest"
      ]
    },
    {
      "cell_type": "code",
      "execution_count": 173,
      "metadata": {
        "colab": {
          "base_uri": "https://localhost:8080/"
        },
        "id": "IXizYDB1Y3UU",
        "outputId": "220045d8-4c46-4b93-e639-8be3177dceb8"
      },
      "outputs": [
        {
          "name": "stdout",
          "output_type": "stream",
          "text": [
            "DecisionTrees's Accuracy is:  85.9090909090909\n",
            "              precision    recall  f1-score   support\n",
            "\n",
            "       apple       1.00      1.00      1.00        28\n",
            "      banana       1.00      1.00      1.00        26\n",
            "   blackgram       0.65      1.00      0.79        28\n",
            "    chickpea       1.00      1.00      1.00        29\n",
            "     coconut       0.94      1.00      0.97        31\n",
            "      coffee       1.00      1.00      1.00        33\n",
            "      cotton       1.00      0.97      0.98        31\n",
            "      grapes       1.00      1.00      1.00        29\n",
            "        jute       0.50      0.03      0.06        33\n",
            " kidneybeans       0.00      0.00      0.00        30\n",
            "      lentil       0.63      1.00      0.77        32\n",
            "       maize       0.97      1.00      0.98        32\n",
            "       mango       1.00      1.00      1.00        33\n",
            "   mothbeans       0.00      0.00      0.00        29\n",
            "    mungbean       1.00      1.00      1.00        32\n",
            "   muskmelon       1.00      1.00      1.00        30\n",
            "      orange       1.00      1.00      1.00        42\n",
            "      papaya       1.00      1.00      1.00        30\n",
            "  pigeonpeas       0.55      1.00      0.71        31\n",
            " pomegranate       1.00      1.00      1.00        19\n",
            "        rice       0.49      0.97      0.65        30\n",
            "  watermelon       1.00      1.00      1.00        22\n",
            "\n",
            "    accuracy                           0.86       660\n",
            "   macro avg       0.81      0.86      0.81       660\n",
            "weighted avg       0.80      0.86      0.81       660\n",
            "\n"
          ]
        }
      ],
      "source": [
        "from sklearn.tree import DecisionTreeClassifier\n",
        "\n",
        "DecisionTree = DecisionTreeClassifier(criterion=\"entropy\",random_state=2,max_depth=5)\n",
        "\n",
        "DecisionTree.fit(Xtrain,Ytrain)\n",
        "\n",
        "predicted_values = DecisionTree.predict(Xtest)\n",
        "x = metrics.accuracy_score(Ytest, predicted_values)\n",
        "acc.append(x)\n",
        "modelName.append('Decision Tree')\n",
        "actualModel.append(DecisionTree)\n",
        "print(\"DecisionTrees's Accuracy is: \", x*100)\n",
        "\n",
        "print(classification_report(Ytest,predicted_values))"
      ]
    },
    {
      "cell_type": "code",
      "execution_count": 174,
      "metadata": {
        "id": "VyvFMflXY3Wh"
      },
      "outputs": [],
      "source": [
        "from sklearn.model_selection import cross_val_score"
      ]
    },
    {
      "cell_type": "code",
      "execution_count": 175,
      "metadata": {
        "id": "_KiWh4xbY3ZR"
      },
      "outputs": [],
      "source": [
        "# Cross validation score (Decision Tree)\n",
        "score = cross_val_score(DecisionTree, features, target,cv=5)"
      ]
    },
    {
      "cell_type": "code",
      "execution_count": 176,
      "metadata": {
        "colab": {
          "base_uri": "https://localhost:8080/"
        },
        "id": "uuFxM3a0Y3bc",
        "outputId": "b670d598-5bb1-44f7-da34-43c602e48cb0"
      },
      "outputs": [
        {
          "data": {
            "text/plain": [
              "array([0.93636364, 0.90909091, 0.91818182, 0.87045455, 0.93636364])"
            ]
          },
          "execution_count": 176,
          "metadata": {},
          "output_type": "execute_result"
        }
      ],
      "source": [
        "score"
      ]
    },
    {
      "cell_type": "code",
      "execution_count": 177,
      "metadata": {
        "id": "xvsN0qIlY3d7"
      },
      "outputs": [],
      "source": [
        "import pickle\n",
        "# Dump the trained Naive Bayes classifier with Pickle\n",
        "DT_pkl_filename = 'DecisionTree.pkl'\n",
        "# Open the file to save as pkl file\n",
        "DT_Model_pkl = open(DT_pkl_filename, 'wb')\n",
        "pickle.dump(DecisionTree, DT_Model_pkl)\n",
        "# Close the pickle instances\n",
        "DT_Model_pkl.close()"
      ]
    },
    {
      "cell_type": "code",
      "execution_count": 178,
      "metadata": {
        "colab": {
          "base_uri": "https://localhost:8080/"
        },
        "id": "s8T51LO9Y3gX",
        "outputId": "9deba5b1-bc4f-4ec9-9377-276dd2349e6e"
      },
      "outputs": [
        {
          "name": "stdout",
          "output_type": "stream",
          "text": [
            "Naive Bayes's Accuracy is:  0.9924242424242424\n",
            "              precision    recall  f1-score   support\n",
            "\n",
            "       apple       1.00      1.00      1.00        28\n",
            "      banana       1.00      1.00      1.00        26\n",
            "   blackgram       1.00      1.00      1.00        28\n",
            "    chickpea       1.00      1.00      1.00        29\n",
            "     coconut       1.00      1.00      1.00        31\n",
            "      coffee       1.00      1.00      1.00        33\n",
            "      cotton       1.00      1.00      1.00        31\n",
            "      grapes       1.00      1.00      1.00        29\n",
            "        jute       0.89      0.97      0.93        33\n",
            " kidneybeans       1.00      1.00      1.00        30\n",
            "      lentil       1.00      1.00      1.00        32\n",
            "       maize       1.00      1.00      1.00        32\n",
            "       mango       1.00      1.00      1.00        33\n",
            "   mothbeans       1.00      1.00      1.00        29\n",
            "    mungbean       1.00      1.00      1.00        32\n",
            "   muskmelon       1.00      1.00      1.00        30\n",
            "      orange       1.00      1.00      1.00        42\n",
            "      papaya       1.00      1.00      1.00        30\n",
            "  pigeonpeas       1.00      1.00      1.00        31\n",
            " pomegranate       1.00      1.00      1.00        19\n",
            "        rice       0.96      0.87      0.91        30\n",
            "  watermelon       1.00      1.00      1.00        22\n",
            "\n",
            "    accuracy                           0.99       660\n",
            "   macro avg       0.99      0.99      0.99       660\n",
            "weighted avg       0.99      0.99      0.99       660\n",
            "\n"
          ]
        }
      ],
      "source": [
        "from sklearn.naive_bayes import GaussianNB\n",
        "\n",
        "NaiveBayes = GaussianNB()\n",
        "\n",
        "NaiveBayes.fit(Xtrain,Ytrain)\n",
        "\n",
        "predicted_values = NaiveBayes.predict(Xtest)\n",
        "x = metrics.accuracy_score(Ytest, predicted_values)\n",
        "acc.append(x)\n",
        "modelName.append('Naive Bayes')\n",
        "actualModel.append(NaiveBayes)\n",
        "print(\"Naive Bayes's Accuracy is: \", x)\n",
        "\n",
        "print(classification_report(Ytest,predicted_values))"
      ]
    },
    {
      "cell_type": "code",
      "execution_count": 179,
      "metadata": {
        "colab": {
          "base_uri": "https://localhost:8080/"
        },
        "id": "8Y6KexbOY3iw",
        "outputId": "cd0db36e-c6f6-427f-8414-6d86c07c885d"
      },
      "outputs": [
        {
          "data": {
            "text/plain": [
              "array([0.99772727, 0.99545455, 0.99545455, 0.99545455, 0.99090909])"
            ]
          },
          "execution_count": 179,
          "metadata": {},
          "output_type": "execute_result"
        }
      ],
      "source": [
        "# Cross validation score (NaiveBayes)\n",
        "score = cross_val_score(NaiveBayes,features,target,cv=5)\n",
        "score"
      ]
    },
    {
      "cell_type": "code",
      "execution_count": 180,
      "metadata": {
        "id": "EvSYbblkY3lQ"
      },
      "outputs": [],
      "source": [
        "import pickle\n",
        "# Dump the trained Naive Bayes classifier with Pickle\n",
        "NB_pkl_filename = 'NBClassifier.pkl'\n",
        "# Open the file to save as pkl file\n",
        "NB_Model_pkl = open(NB_pkl_filename, 'wb')\n",
        "pickle.dump(NaiveBayes, NB_Model_pkl)\n",
        "# Close the pickle instances\n",
        "NB_Model_pkl.close()"
      ]
    },
    {
      "cell_type": "code",
      "execution_count": 181,
      "metadata": {
        "colab": {
          "base_uri": "https://localhost:8080/"
        },
        "id": "RA3cvgMGZTJH",
        "outputId": "798478b9-ccb2-4ec2-a20e-924dbe8b2500"
      },
      "outputs": [
        {
          "name": "stdout",
          "output_type": "stream",
          "text": [
            "Logistic Regression's Accuracy is:  0.9621212121212122\n",
            "              precision    recall  f1-score   support\n",
            "\n",
            "       apple       1.00      1.00      1.00        28\n",
            "      banana       1.00      1.00      1.00        26\n",
            "   blackgram       0.92      0.82      0.87        28\n",
            "    chickpea       1.00      1.00      1.00        29\n",
            "     coconut       1.00      1.00      1.00        31\n",
            "      coffee       1.00      1.00      1.00        33\n",
            "      cotton       0.91      0.94      0.92        31\n",
            "      grapes       1.00      1.00      1.00        29\n",
            "        jute       0.86      0.94      0.90        33\n",
            " kidneybeans       0.97      1.00      0.98        30\n",
            "      lentil       0.91      1.00      0.96        32\n",
            "       maize       0.94      0.91      0.92        32\n",
            "       mango       0.97      1.00      0.99        33\n",
            "   mothbeans       0.83      0.83      0.83        29\n",
            "    mungbean       1.00      1.00      1.00        32\n",
            "   muskmelon       1.00      1.00      1.00        30\n",
            "      orange       1.00      1.00      1.00        42\n",
            "      papaya       0.97      0.93      0.95        30\n",
            "  pigeonpeas       1.00      0.97      0.98        31\n",
            " pomegranate       1.00      1.00      1.00        19\n",
            "        rice       0.93      0.83      0.88        30\n",
            "  watermelon       1.00      1.00      1.00        22\n",
            "\n",
            "    accuracy                           0.96       660\n",
            "   macro avg       0.96      0.96      0.96       660\n",
            "weighted avg       0.96      0.96      0.96       660\n",
            "\n"
          ]
        }
      ],
      "source": [
        "from sklearn.linear_model import LogisticRegression\n",
        "\n",
        "LogReg = LogisticRegression(random_state=2)\n",
        "\n",
        "LogReg.fit(Xtrain,Ytrain)\n",
        "\n",
        "predicted_values = LogReg.predict(Xtest)\n",
        "\n",
        "x = metrics.accuracy_score(Ytest, predicted_values)\n",
        "acc.append(x)\n",
        "modelName.append('Logistic Regression')\n",
        "actualModel.append(LogReg)\n",
        "print(\"Logistic Regression's Accuracy is: \", x)\n",
        "\n",
        "print(classification_report(Ytest,predicted_values))"
      ]
    },
    {
      "cell_type": "code",
      "execution_count": 182,
      "metadata": {
        "colab": {
          "base_uri": "https://localhost:8080/"
        },
        "id": "yzXM538oZTLl",
        "outputId": "d9b6dc81-3707-4216-a7a9-3ba2c871bf67"
      },
      "outputs": [
        {
          "data": {
            "text/plain": [
              "array([0.95      , 0.96590909, 0.94772727, 0.96590909, 0.94318182])"
            ]
          },
          "execution_count": 182,
          "metadata": {},
          "output_type": "execute_result"
        }
      ],
      "source": [
        "# Cross validation score (Logistic Regression)\n",
        "score = cross_val_score(LogReg,features,target,cv=5)\n",
        "score"
      ]
    },
    {
      "cell_type": "code",
      "execution_count": 183,
      "metadata": {
        "id": "a2umVhn0ZTN6"
      },
      "outputs": [],
      "source": [
        "import pickle\n",
        "# Dump the trained Naive Bayes classifier with Pickle\n",
        "LR_pkl_filename = 'LogisticRegression.pkl'\n",
        "# Open the file to save as pkl file\n",
        "LR_Model_pkl = open(DT_pkl_filename, 'wb')\n",
        "pickle.dump(LogReg, LR_Model_pkl)\n",
        "# Close the pickle instances\n",
        "LR_Model_pkl.close()"
      ]
    },
    {
      "cell_type": "code",
      "execution_count": 184,
      "metadata": {
        "colab": {
          "base_uri": "https://localhost:8080/"
        },
        "id": "pBPmil_NZTQD",
        "outputId": "56a3992c-78d2-4b44-c555-8b5620f68829"
      },
      "outputs": [
        {
          "name": "stdout",
          "output_type": "stream",
          "text": [
            "RF's Accuracy is:  0.9893939393939394\n",
            "              precision    recall  f1-score   support\n",
            "\n",
            "       apple       1.00      1.00      1.00        28\n",
            "      banana       1.00      1.00      1.00        26\n",
            "   blackgram       0.97      1.00      0.98        28\n",
            "    chickpea       1.00      1.00      1.00        29\n",
            "     coconut       1.00      1.00      1.00        31\n",
            "      coffee       1.00      1.00      1.00        33\n",
            "      cotton       1.00      1.00      1.00        31\n",
            "      grapes       1.00      1.00      1.00        29\n",
            "        jute       0.89      0.94      0.91        33\n",
            " kidneybeans       1.00      1.00      1.00        30\n",
            "      lentil       1.00      1.00      1.00        32\n",
            "       maize       1.00      1.00      1.00        32\n",
            "       mango       1.00      1.00      1.00        33\n",
            "   mothbeans       1.00      0.97      0.98        29\n",
            "    mungbean       1.00      1.00      1.00        32\n",
            "   muskmelon       1.00      1.00      1.00        30\n",
            "      orange       1.00      1.00      1.00        42\n",
            "      papaya       1.00      1.00      1.00        30\n",
            "  pigeonpeas       1.00      1.00      1.00        31\n",
            " pomegranate       1.00      1.00      1.00        19\n",
            "        rice       0.93      0.87      0.90        30\n",
            "  watermelon       1.00      1.00      1.00        22\n",
            "\n",
            "    accuracy                           0.99       660\n",
            "   macro avg       0.99      0.99      0.99       660\n",
            "weighted avg       0.99      0.99      0.99       660\n",
            "\n"
          ]
        }
      ],
      "source": [
        "from sklearn.ensemble import RandomForestClassifier\n",
        "\n",
        "RF = RandomForestClassifier(n_estimators=20, random_state=0)\n",
        "RF.fit(Xtrain,Ytrain)\n",
        "\n",
        "predicted_values = RF.predict(Xtest)\n",
        "\n",
        "x = metrics.accuracy_score(Ytest, predicted_values)\n",
        "acc.append(x)\n",
        "modelName.append('RF')\n",
        "actualModel.append(RF)\n",
        "print(\"RF's Accuracy is: \", x)\n",
        "\n",
        "print(classification_report(Ytest,predicted_values))"
      ]
    },
    {
      "cell_type": "code",
      "execution_count": 185,
      "metadata": {
        "colab": {
          "base_uri": "https://localhost:8080/"
        },
        "id": "_3uvwcUCZTRu",
        "outputId": "aba5bf13-8f73-49c3-f52c-2082c128c8c8"
      },
      "outputs": [
        {
          "data": {
            "text/plain": [
              "array([0.99772727, 0.99545455, 0.99772727, 0.99318182, 0.98863636])"
            ]
          },
          "execution_count": 185,
          "metadata": {},
          "output_type": "execute_result"
        }
      ],
      "source": [
        "# Cross validation score (Random Forest)\n",
        "score = cross_val_score(RF,features,target,cv=5)\n",
        "score"
      ]
    },
    {
      "cell_type": "code",
      "execution_count": 186,
      "metadata": {
        "id": "RICBCDOiZTVO"
      },
      "outputs": [],
      "source": [
        "import pickle\n",
        "# Dump the trained Naive Bayes classifier with Pickle\n",
        "RF_pkl_filename = 'RandomForest.pkl'\n",
        "# Open the file to save as pkl file\n",
        "RF_Model_pkl = open(RF_pkl_filename, 'wb')\n",
        "pickle.dump(RF, RF_Model_pkl)\n",
        "# Close the pickle instances\n",
        "RF_Model_pkl.close()"
      ]
    },
    {
      "cell_type": "code",
      "execution_count": 187,
      "metadata": {
        "colab": {
          "base_uri": "https://localhost:8080/"
        },
        "id": "-LBnc6tdZTYq",
        "outputId": "d752d6d9-32ff-4c3d-9d33-7bb59e69fe1b"
      },
      "outputs": [
        {
          "name": "stdout",
          "output_type": "stream",
          "text": [
            "XGBoost's Accuracy is:  0.9954545454545455\n",
            "              precision    recall  f1-score   support\n",
            "\n",
            "       apple       1.00      1.00      1.00        28\n",
            "      banana       1.00      1.00      1.00        26\n",
            "   blackgram       1.00      1.00      1.00        28\n",
            "    chickpea       1.00      1.00      1.00        29\n",
            "     coconut       1.00      1.00      1.00        31\n",
            "      coffee       0.97      1.00      0.99        33\n",
            "      cotton       1.00      1.00      1.00        31\n",
            "      grapes       1.00      1.00      1.00        29\n",
            "        jute       1.00      0.91      0.95        33\n",
            " kidneybeans       1.00      1.00      1.00        30\n",
            "      lentil       1.00      1.00      1.00        32\n",
            "       maize       1.00      1.00      1.00        32\n",
            "       mango       1.00      1.00      1.00        33\n",
            "   mothbeans       1.00      1.00      1.00        29\n",
            "    mungbean       1.00      1.00      1.00        32\n",
            "   muskmelon       1.00      1.00      1.00        30\n",
            "      orange       1.00      1.00      1.00        42\n",
            "      papaya       1.00      1.00      1.00        30\n",
            "  pigeonpeas       1.00      1.00      1.00        31\n",
            " pomegranate       1.00      1.00      1.00        19\n",
            "        rice       0.94      1.00      0.97        30\n",
            "  watermelon       1.00      1.00      1.00        22\n",
            "\n",
            "    accuracy                           1.00       660\n",
            "   macro avg       1.00      1.00      1.00       660\n",
            "weighted avg       1.00      1.00      1.00       660\n",
            "\n"
          ]
        }
      ],
      "source": [
        "import xgboost as xgb\n",
        "#pip install 'scikit-learn==0.15'\n",
        "from sklearn.preprocessing import LabelEncoder\n",
        "le = LabelEncoder()\n",
        "y_train = le.fit_transform(Ytrain)\n",
        "XB = xgb.XGBClassifier( eval_metric='merror')\n",
        "XB.fit(Xtrain,y_train)\n",
        " \n",
        "\n",
        "y_pred = XB.predict(Xtest)\n",
        "y_pred = le.inverse_transform(y_pred)\n",
        "\n",
        "x = metrics.accuracy_score(Ytest, y_pred)\n",
        "acc.append(x)\n",
        "modelName.append('XGBoost')\n",
        "actualModel.append(XB)\n",
        "print(\"XGBoost's Accuracy is: \", x)\n",
        "\n",
        "print(classification_report(Ytest.astype(str) , y_pred.astype(str)))"
      ]
    },
    {
      "cell_type": "code",
      "execution_count": 188,
      "metadata": {
        "colab": {
          "base_uri": "https://localhost:8080/"
        },
        "id": "5MpIfNA7ZTaa",
        "outputId": "a9855487-4fe3-4816-a526-3e9c42242c40"
      },
      "outputs": [
        {
          "data": {
            "text/plain": [
              "array([0.99318182, 0.99318182, 0.99318182, 0.99090909, 0.99090909])"
            ]
          },
          "execution_count": 188,
          "metadata": {},
          "output_type": "execute_result"
        }
      ],
      "source": [
        "# Cross validation score (XGBoost)\n",
        "XB_target=le.fit_transform(target)\n",
        "score = cross_val_score(XB, features, XB_target, cv=5)\n",
        "score"
      ]
    },
    {
      "cell_type": "code",
      "execution_count": 189,
      "metadata": {
        "id": "B4Ds0k9gZTd5"
      },
      "outputs": [],
      "source": [
        "import pickle\n",
        "# Dump the trained Naive Bayes classifier with Pickle\n",
        "XB_pkl_filename = 'XGBoost.pkl'\n",
        "# Open the file to save as pkl file\n",
        "XB_Model_pkl = open(XB_pkl_filename, 'wb')\n",
        "pickle.dump(XB, XB_Model_pkl)\n",
        "# Close the pickle instances\n",
        "XB_Model_pkl.close()"
      ]
    },
    {
      "cell_type": "markdown",
      "metadata": {
        "id": "kvGTrdHMDV8e"
      },
      "source": [
        "# KNN"
      ]
    },
    {
      "cell_type": "code",
      "execution_count": 190,
      "metadata": {
        "colab": {
          "base_uri": "https://localhost:8080/",
          "height": 74
        },
        "id": "HUrc5n1SDViZ",
        "outputId": "9f17af33-916d-4d8f-f8c3-6fb87ff4baf9"
      },
      "outputs": [
        {
          "data": {
            "text/plain": [
              "KNeighborsClassifier()"
            ]
          },
          "execution_count": 190,
          "metadata": {},
          "output_type": "execute_result"
        }
      ],
      "source": [
        "from sklearn.neighbors import KNeighborsClassifier\n",
        "\n",
        "knn = KNeighborsClassifier(5) # Define classifier\n",
        "knn.fit(Xtrain, Ytrain) # Train model"
      ]
    },
    {
      "cell_type": "code",
      "execution_count": 191,
      "metadata": {
        "id": "bMCxzwOJDc49"
      },
      "outputs": [],
      "source": [
        "y_pred = knn.predict(Xtest)"
      ]
    },
    {
      "cell_type": "code",
      "execution_count": 192,
      "metadata": {
        "id": "ogGvqH0YDkJQ"
      },
      "outputs": [],
      "source": [
        "knn_test_accuracy = metrics.accuracy_score(Ytest, y_pred) # Calculate Accuracy"
      ]
    },
    {
      "cell_type": "code",
      "execution_count": 193,
      "metadata": {
        "colab": {
          "base_uri": "https://localhost:8080/"
        },
        "id": "j7fOaKOyDroi",
        "outputId": "ea691ed2-9b93-4d7b-804b-babe362b7851"
      },
      "outputs": [
        {
          "data": {
            "text/plain": [
              "0.9848484848484849"
            ]
          },
          "execution_count": 193,
          "metadata": {},
          "output_type": "execute_result"
        }
      ],
      "source": [
        "knn_test_accuracy"
      ]
    },
    {
      "cell_type": "code",
      "execution_count": 194,
      "metadata": {
        "colab": {
          "base_uri": "https://localhost:8080/"
        },
        "id": "-QpAGPv7D-Dr",
        "outputId": "ef59bfae-5d3a-4884-cba7-4a332d06eee7"
      },
      "outputs": [
        {
          "name": "stdout",
          "output_type": "stream",
          "text": [
            "KNN's Accuracy is:  0.9954545454545455\n",
            "              precision    recall  f1-score   support\n",
            "\n",
            "       apple       1.00      1.00      1.00        28\n",
            "      banana       1.00      1.00      1.00        26\n",
            "   blackgram       1.00      1.00      1.00        28\n",
            "    chickpea       1.00      1.00      1.00        29\n",
            "     coconut       1.00      1.00      1.00        31\n",
            "      coffee       1.00      1.00      1.00        33\n",
            "      cotton       0.97      1.00      0.98        31\n",
            "      grapes       1.00      1.00      1.00        29\n",
            "        jute       0.91      0.88      0.89        33\n",
            " kidneybeans       0.97      1.00      0.98        30\n",
            "      lentil       0.97      1.00      0.98        32\n",
            "       maize       1.00      0.97      0.98        32\n",
            "       mango       1.00      1.00      1.00        33\n",
            "   mothbeans       1.00      0.97      0.98        29\n",
            "    mungbean       1.00      1.00      1.00        32\n",
            "   muskmelon       1.00      1.00      1.00        30\n",
            "      orange       1.00      1.00      1.00        42\n",
            "      papaya       1.00      1.00      1.00        30\n",
            "  pigeonpeas       1.00      0.97      0.98        31\n",
            " pomegranate       1.00      1.00      1.00        19\n",
            "        rice       0.87      0.90      0.89        30\n",
            "  watermelon       1.00      1.00      1.00        22\n",
            "\n",
            "    accuracy                           0.98       660\n",
            "   macro avg       0.99      0.99      0.99       660\n",
            "weighted avg       0.99      0.98      0.98       660\n",
            "\n"
          ]
        }
      ],
      "source": [
        "acc.append(knn_test_accuracy)\n",
        "modelName.append('KNN')\n",
        "actualModel.append(knn)\n",
        "print(\"KNN's Accuracy is: \", x)\n",
        "\n",
        "print(classification_report(Ytest.astype(str) , y_pred.astype(str)))"
      ]
    },
    {
      "cell_type": "code",
      "execution_count": 195,
      "metadata": {
        "colab": {
          "base_uri": "https://localhost:8080/"
        },
        "id": "zP5yCLNtEhMw",
        "outputId": "2ad81bc9-45af-4016-d5ca-e17812391f9b"
      },
      "outputs": [
        {
          "data": {
            "text/plain": [
              "array([0.97727273, 0.98181818, 0.97954545, 0.97954545, 0.97954545])"
            ]
          },
          "execution_count": 195,
          "metadata": {},
          "output_type": "execute_result"
        }
      ],
      "source": [
        "score = cross_val_score(knn, features, target, cv=5)\n",
        "score"
      ]
    },
    {
      "cell_type": "code",
      "execution_count": 196,
      "metadata": {
        "id": "MKKta7rAEoQF"
      },
      "outputs": [],
      "source": [
        "import pickle\n",
        "# Dump the trained Naive Bayes classifier with Pickle\n",
        "knn_pkl_filename = 'knn.pkl'\n",
        "# Open the file to save as pkl file\n",
        "knn_Model_pkl = open(knn_pkl_filename, 'wb')\n",
        "pickle.dump(knn, knn_Model_pkl)\n",
        "# Close the pickle instances\n",
        "knn_Model_pkl.close()"
      ]
    },
    {
      "cell_type": "markdown",
      "metadata": {
        "id": "zBsZnIWgH9as"
      },
      "source": [
        "# Neural network"
      ]
    },
    {
      "cell_type": "code",
      "execution_count": 197,
      "metadata": {
        "colab": {
          "base_uri": "https://localhost:8080/",
          "height": 74
        },
        "id": "zuy_qtAUIDB5",
        "outputId": "6ef55b40-7b85-4af6-ca3c-fc9b6de15fc9"
      },
      "outputs": [
        {
          "data": {
            "text/plain": [
              "MLPClassifier(alpha=1, max_iter=10000)"
            ]
          },
          "execution_count": 197,
          "metadata": {},
          "output_type": "execute_result"
        }
      ],
      "source": [
        "from sklearn.neural_network import MLPClassifier\n",
        "\n",
        "mlp = MLPClassifier(alpha=1, max_iter=10000)\n",
        "mlp.fit(Xtrain, Ytrain)\n"
      ]
    },
    {
      "cell_type": "code",
      "execution_count": 198,
      "metadata": {
        "id": "wvzRQfkdIJ77"
      },
      "outputs": [],
      "source": [
        "y_pred = mlp.predict(Xtest)\n",
        "# Test set performance\n",
        "x = metrics.accuracy_score(Ytest, y_pred) # Calculate Accuracy"
      ]
    },
    {
      "cell_type": "code",
      "execution_count": 199,
      "metadata": {
        "colab": {
          "base_uri": "https://localhost:8080/"
        },
        "id": "gcluBHXNKKbK",
        "outputId": "ba81dca1-2fe8-4670-d98a-cf6bd6eaab11"
      },
      "outputs": [
        {
          "name": "stdout",
          "output_type": "stream",
          "text": [
            "MLP's Accuracy is:  0.9454545454545454\n",
            "              precision    recall  f1-score   support\n",
            "\n",
            "       apple       1.00      1.00      1.00        28\n",
            "      banana       1.00      1.00      1.00        26\n",
            "   blackgram       0.95      0.68      0.79        28\n",
            "    chickpea       1.00      1.00      1.00        29\n",
            "     coconut       1.00      1.00      1.00        31\n",
            "      coffee       1.00      1.00      1.00        33\n",
            "      cotton       0.96      0.74      0.84        31\n",
            "      grapes       1.00      1.00      1.00        29\n",
            "        jute       0.91      0.64      0.75        33\n",
            " kidneybeans       1.00      1.00      1.00        30\n",
            "      lentil       0.84      1.00      0.91        32\n",
            "       maize       0.79      0.97      0.87        32\n",
            "       mango       1.00      1.00      1.00        33\n",
            "   mothbeans       0.81      0.90      0.85        29\n",
            "    mungbean       1.00      1.00      1.00        32\n",
            "   muskmelon       1.00      1.00      1.00        30\n",
            "      orange       1.00      1.00      1.00        42\n",
            "      papaya       1.00      0.97      0.98        30\n",
            "  pigeonpeas       1.00      1.00      1.00        31\n",
            " pomegranate       1.00      1.00      1.00        19\n",
            "        rice       0.70      0.93      0.80        30\n",
            "  watermelon       1.00      1.00      1.00        22\n",
            "\n",
            "    accuracy                           0.95       660\n",
            "   macro avg       0.95      0.95      0.95       660\n",
            "weighted avg       0.95      0.95      0.94       660\n",
            "\n"
          ]
        }
      ],
      "source": [
        "acc.append(x)\n",
        "modelName.append('MLP')\n",
        "actualModel.append(mlp)\n",
        "print(\"MLP's Accuracy is: \", x)\n",
        "\n",
        "print(classification_report(Ytest.astype(str) , y_pred.astype(str)))"
      ]
    },
    {
      "cell_type": "code",
      "execution_count": 200,
      "metadata": {
        "colab": {
          "base_uri": "https://localhost:8080/"
        },
        "id": "dOSob2fwLBX7",
        "outputId": "f44ccd41-d900-4184-d3cd-e7dbd82a6a62"
      },
      "outputs": [
        {
          "data": {
            "text/plain": [
              "array([0.97727273, 0.98181818, 0.97954545, 0.97954545, 0.97954545])"
            ]
          },
          "execution_count": 200,
          "metadata": {},
          "output_type": "execute_result"
        }
      ],
      "source": [
        "score = cross_val_score(knn, features, target, cv=5)\n",
        "score"
      ]
    },
    {
      "cell_type": "code",
      "execution_count": 201,
      "metadata": {
        "id": "eQpW_R93LGW8"
      },
      "outputs": [],
      "source": [
        "import pickle\n",
        "# Dump the trained Naive Bayes classifier with Pickle\n",
        "mlp_pkl_filename = 'mlp.pkl'\n",
        "# Open the file to save as pkl file\n",
        "mlp_Model_pkl = open(mlp_pkl_filename, 'wb')\n",
        "pickle.dump(mlp, mlp_Model_pkl)\n",
        "# Close the pickle instances\n",
        "mlp_Model_pkl.close()"
      ]
    },
    {
      "cell_type": "markdown",
      "metadata": {
        "id": "eGQ8Si_ZE0mh"
      },
      "source": [
        "# Comparison of above algorithms"
      ]
    },
    {
      "cell_type": "code",
      "execution_count": 202,
      "metadata": {
        "colab": {
          "base_uri": "https://localhost:8080/",
          "height": 497
        },
        "id": "MS_BslsyCF22",
        "outputId": "1daa826f-d0e9-4335-c939-bafbba1231b1"
      },
      "outputs": [
        {
          "data": {
            "text/plain": [
              "<AxesSubplot:title={'center':'Accuracy Comparison'}, xlabel='Accuracy', ylabel='Algorithm'>"
            ]
          },
          "execution_count": 202,
          "metadata": {},
          "output_type": "execute_result"
        },
        {
          "data": {
            "image/png": "[encoded data removed]",
            "text/plain": [
              "<Figure size 1000x500 with 1 Axes>"
            ]
          },
          "metadata": {
            "needs_background": "light"
          },
          "output_type": "display_data"
        }
      ],
      "source": [
        "plt.figure(figsize=[10,5],dpi = 100)\n",
        "plt.title('Accuracy Comparison')\n",
        "plt.xlabel('Accuracy')\n",
        "plt.ylabel('Algorithm')\n",
        "sns.barplot(x = acc,y =modelName,palette='dark')"
      ]
    },
    {
      "cell_type": "code",
      "execution_count": 203,
      "metadata": {
        "colab": {
          "base_uri": "https://localhost:8080/"
        },
        "id": "OYMdTXWeZpU4",
        "outputId": "7c454316-2205-4a1a-c88d-15d6c70d2305"
      },
      "outputs": [
        {
          "name": "stdout",
          "output_type": "stream",
          "text": [
            "Decision Tree --> 0.8590909090909091\n",
            "Naive Bayes --> 0.9924242424242424\n",
            "Logistic Regression --> 0.9621212121212122\n",
            "RF --> 0.9893939393939394\n",
            "XGBoost --> 0.9954545454545455\n",
            "KNN --> 0.9848484848484849\n",
            "MLP --> 0.9454545454545454\n"
          ]
        }
      ],
      "source": [
        "accuracy_models = dict(zip(modelName, acc))\n",
        "for k, v in accuracy_models.items():\n",
        "    print (k, '-->', v)"
      ]
    },
    {
      "cell_type": "code",
      "execution_count": 204,
      "metadata": {
        "colab": {
          "base_uri": "https://localhost:8080/"
        },
        "id": "pzSepb5dZpXE",
        "outputId": "724e557c-4af7-406f-9839-c7c47faeaf25"
      },
      "outputs": [
        {
          "name": "stdout",
          "output_type": "stream",
          "text": [
            "['coffee']\n"
          ]
        }
      ],
      "source": [
        "data = np.array([[104,18, 30, 23.603016, 60.3, 6.7, 140.91]])\n",
        "prediction = RF.predict(data)\n",
        "print(prediction)"
      ]
    },
    {
      "cell_type": "code",
      "execution_count": 205,
      "metadata": {
        "colab": {
          "base_uri": "https://localhost:8080/"
        },
        "id": "gGPDvURgZpac",
        "outputId": "be70151c-cccb-4187-fc88-35598dc33919"
      },
      "outputs": [
        {
          "name": "stdout",
          "output_type": "stream",
          "text": [
            "['jute']\n"
          ]
        }
      ],
      "source": [
        "data = np.array([[83, 45, 60, 28, 70.3, 7.0, 150.9]])\n",
        "prediction = mlp.predict(data)\n",
        "print(prediction)"
      ]
    },
    {
      "cell_type": "markdown",
      "metadata": {
        "id": "somQA3FyAPjS"
      },
      "source": [
        "# Stacking the above models and analysing the combine model"
      ]
    },
    {
      "cell_type": "code",
      "execution_count": 206,
      "metadata": {
        "id": "hIz3udjrAbDu"
      },
      "outputs": [],
      "source": [
        "\n",
        "# Define estimators\n",
        "from sklearn.ensemble import StackingClassifier\n",
        "from sklearn.linear_model import LogisticRegression"
      ]
    },
    {
      "cell_type": "code",
      "execution_count": 207,
      "metadata": {
        "id": "3s6wZfPcA0W-"
      },
      "outputs": [],
      "source": [
        "estimator_list = [\n",
        "    ('knn',knn),\n",
        "    ('XGB',XB),\n",
        "    ('LR',LogReg),\n",
        "    ('dt',DecisionTree),\n",
        "    ('rf',RF),\n",
        "    ('NBS',NaiveBayes),\n",
        "    (\"MLP\",mlp) ]"
      ]
    },
    {
      "cell_type": "code",
      "execution_count": 208,
      "metadata": {
        "id": "R-eaoJSdCbEG"
      },
      "outputs": [],
      "source": [
        "# Build stack model\n",
        "stack_model = StackingClassifier(\n",
        "    estimators=estimator_list, final_estimator=LogisticRegression()\n",
        ")"
      ]
    },
    {
      "cell_type": "code",
      "execution_count": 209,
      "metadata": {
        "id": "B_M2pO04CdHb"
      },
      "outputs": [],
      "source": [
        "# Train stacked model\n",
        "stack_model.fit(Xtrain, Ytrain)\n",
        "actualModel.append(stack_model)"
      ]
    },
    {
      "cell_type": "code",
      "execution_count": 210,
      "metadata": {
        "id": "VGe3OpSYCxMY"
      },
      "outputs": [],
      "source": [
        "y_test_pred = stack_model.predict(Xtest)"
      ]
    },
    {
      "cell_type": "code",
      "execution_count": 211,
      "metadata": {
        "id": "XLDz-0n4C3Wj"
      },
      "outputs": [],
      "source": [
        "stack_model_test_accuracy = metrics.accuracy_score(Ytest, y_test_pred) # Calculate Accuracy"
      ]
    },
    {
      "cell_type": "code",
      "execution_count": 212,
      "metadata": {
        "id": "ocIbatgN4due"
      },
      "outputs": [],
      "source": [
        "acc.append(stack_model_test_accuracy)\n",
        "modelName.append('Stack_7')"
      ]
    },
    {
      "cell_type": "code",
      "execution_count": 213,
      "metadata": {
        "colab": {
          "base_uri": "https://localhost:8080/"
        },
        "id": "yc9gphRfDEcR",
        "outputId": "6a97ffe0-9b23-41b6-f640-963c206d9d5c"
      },
      "outputs": [
        {
          "data": {
            "text/plain": [
              "0.9954545454545455"
            ]
          },
          "execution_count": 213,
          "metadata": {},
          "output_type": "execute_result"
        }
      ],
      "source": [
        "stack_model_test_accuracy"
      ]
    },
    {
      "cell_type": "markdown",
      "metadata": {
        "id": "eQnCnrtubLuk"
      },
      "source": [
        "Max Voting\n",
        "\n",
        "\n",
        "The max voting method is generally used for classification problems. In this technique, multiple models are used to make predictions for each data point. The predictions by each model are considered as a ‘vote’. The predictions which we get from the majority of the models are used as the final prediction.\n",
        "\n",
        "For example, when you asked 5 of your colleagues to rate your movie (out of 5); we’ll assume three of them rated it as 4 while two of them gave it a 5. Since the majority gave a rating of 4, the final rating will be taken as 4. You can consider this as taking the mode of all the predictions."
      ]
    },
    {
      "cell_type": "markdown",
      "metadata": {
        "id": "LYdf_Zk3HtES"
      },
      "source": [
        "# Ensembling the RandomForestClassifier with others and comparing the accuracy"
      ]
    },
    {
      "cell_type": "code",
      "execution_count": 214,
      "metadata": {
        "id": "Xkirb-3WKkvP"
      },
      "outputs": [],
      "source": [
        "acc1=[]\n",
        "modelName1=[]\n",
        "\n",
        "for i in acc:\n",
        "  acc1.append(i)\n",
        "\n",
        "for i in modelName:\n",
        "  modelName1.append(i); \n",
        "\n",
        "acc=[]\n",
        "modelName=[]"
      ]
    },
    {
      "cell_type": "code",
      "execution_count": 215,
      "metadata": {
        "id": "_SN8_YLSbKw-"
      },
      "outputs": [],
      "source": [
        "from sklearn.ensemble import VotingClassifier\n",
        "model1 = xgb.XGBClassifier(eval_metric='merror')\n",
        "model2 = tree.DecisionTreeClassifier(random_state=1)\n",
        "model = VotingClassifier(estimators=[('lr', model1), ('dt', model2)], voting='hard')\n",
        "model.fit(Xtrain,Ytrain) \n",
        "x=model.score(Xtest,Ytest)\n",
        "acc.append(x)\n",
        "modelName.append(\"XGBoost-DecisionTree\")\n",
        "actualModel.append(model)"
      ]
    },
    {
      "cell_type": "code",
      "execution_count": 216,
      "metadata": {
        "colab": {
          "base_uri": "https://localhost:8080/"
        },
        "id": "_Fi0vw_jy_kY",
        "outputId": "ffb081c6-e9dd-4696-fbd0-7eb79ea47e11"
      },
      "outputs": [
        {
          "data": {
            "text/plain": [
              "array([0.99318182, 0.98409091, 0.99318182, 0.99090909, 0.99090909])"
            ]
          },
          "execution_count": 216,
          "metadata": {},
          "output_type": "execute_result"
        }
      ],
      "source": [
        "score = cross_val_score(model,features,target,cv=5)\n",
        "score"
      ]
    },
    {
      "cell_type": "code",
      "execution_count": 217,
      "metadata": {
        "id": "04VsnUTcbKzo"
      },
      "outputs": [],
      "source": [
        "from sklearn.ensemble import VotingClassifier\n",
        "model1 = RandomForestClassifier(random_state=1)\n",
        "model2 = xgb.XGBClassifier(eval_metric='merror')\n",
        "model = VotingClassifier(estimators=[('lr', model1), ('dt', model2)], voting='hard')\n",
        "model.fit(Xtrain,Ytrain) \n",
        "x=model.score(Xtest,Ytest)\n",
        "acc.append(x)\n",
        "modelName.append(\"XGBoost-RandomForest\")\n",
        "actualModel.append(model)"
      ]
    },
    {
      "cell_type": "code",
      "execution_count": 218,
      "metadata": {
        "colab": {
          "base_uri": "https://localhost:8080/"
        },
        "id": "thYWV8Xm2684",
        "outputId": "38945b43-21d0-4447-e8ae-1f25a3ee8832"
      },
      "outputs": [
        {
          "data": {
            "text/plain": [
              "array([0.99318182, 0.99090909, 0.99545455, 0.99090909, 0.99090909])"
            ]
          },
          "execution_count": 218,
          "metadata": {},
          "output_type": "execute_result"
        }
      ],
      "source": [
        "score = cross_val_score(model,features,target,cv=5)\n",
        "score"
      ]
    },
    {
      "cell_type": "code",
      "execution_count": 219,
      "metadata": {
        "id": "WT8RqwcDbK2V"
      },
      "outputs": [],
      "source": [
        "from sklearn.ensemble import VotingClassifier\n",
        "model1 = GaussianNB()\n",
        "model2 = xgb.XGBClassifier(eval_metric='merror')\n",
        "model = VotingClassifier(estimators=[('lr', model1), ('dt', model2)], voting='hard')\n",
        "model.fit(Xtrain,Ytrain)\n",
        "x=model.score(Xtest,Ytest)\n",
        "acc.append(x)\n",
        "modelName.append(\"XGBoost-GaussianNB\")\n",
        "actualModel.append(model)"
      ]
    },
    {
      "cell_type": "code",
      "execution_count": 220,
      "metadata": {
        "colab": {
          "base_uri": "https://localhost:8080/"
        },
        "id": "8tjgibuG28gk",
        "outputId": "b4119d0b-84d9-4e18-e465-6bab84a77c04"
      },
      "outputs": [
        {
          "data": {
            "text/plain": [
              "array([0.99318182, 0.99318182, 0.99318182, 0.99090909, 0.98636364])"
            ]
          },
          "execution_count": 220,
          "metadata": {},
          "output_type": "execute_result"
        }
      ],
      "source": [
        "score = cross_val_score(model,features,target,cv=5)\n",
        "score"
      ]
    },
    {
      "cell_type": "code",
      "execution_count": 221,
      "metadata": {
        "id": "jF7lzQDFbK7O"
      },
      "outputs": [],
      "source": [
        "from sklearn.ensemble import VotingClassifier\n",
        "model1 = xgb.XGBClassifier(eval_metric='merror')\n",
        "model2 = LogisticRegression(random_state=1)\n",
        "model = VotingClassifier(estimators=[('lr', model1), ('dt', model2)], voting='hard')\n",
        "model.fit(Xtrain,Ytrain)\n",
        "model.score(Xtest,Ytest)\n",
        "x=model.score(Xtest,Ytest)\n",
        "acc.append(x)\n",
        "modelName.append(\"XGBoost-LogisticRegression\")\n",
        "actualModel.append(model)"
      ]
    },
    {
      "cell_type": "code",
      "execution_count": 222,
      "metadata": {
        "colab": {
          "base_uri": "https://localhost:8080/"
        },
        "id": "hm3ytmqF2-QH",
        "outputId": "5a81c078-29c0-405f-94f1-41bfaf31a017"
      },
      "outputs": [
        {
          "data": {
            "text/plain": [
              "array([0.97045455, 0.98181818, 0.96363636, 0.97045455, 0.97045455])"
            ]
          },
          "execution_count": 222,
          "metadata": {},
          "output_type": "execute_result"
        }
      ],
      "source": [
        "score = cross_val_score(model,features,target,cv=5)\n",
        "score"
      ]
    },
    {
      "cell_type": "code",
      "execution_count": 223,
      "metadata": {
        "id": "_sPsxuwTuY6U"
      },
      "outputs": [],
      "source": [
        "from sklearn.ensemble import VotingClassifier\n",
        "model1 = xgb.XGBClassifier(eval_metric='merror')\n",
        "model2 = KNeighborsClassifier(5)\n",
        "model = VotingClassifier(estimators=[('lr', model1), ('dt', model2)], voting='hard')\n",
        "model.fit(Xtrain,Ytrain)\n",
        "model.score(Xtest,Ytest)\n",
        "x=model.score(Xtest,Ytest)\n",
        "acc.append(x)\n",
        "modelName.append(\"XGBoost-KNN\")\n",
        "actualModel.append(model)"
      ]
    },
    {
      "cell_type": "markdown",
      "metadata": {
        "id": "9wzKirQgKSNu"
      },
      "source": [
        "Now by voting we have compare the pair of 2-2 algorithms, lets check the accuracy of each combination"
      ]
    },
    {
      "cell_type": "code",
      "execution_count": 224,
      "metadata": {
        "colab": {
          "base_uri": "https://localhost:8080/"
        },
        "id": "88mX7dEBK5ls",
        "outputId": "38979cea-42d2-4023-cd72-e1cb5da0a262"
      },
      "outputs": [
        {
          "name": "stdout",
          "output_type": "stream",
          "text": [
            "XGBoost-DecisionTree --> 0.9893939393939394\n",
            "XGBoost-RandomForest --> 0.9939393939393939\n",
            "XGBoost-GaussianNB --> 0.990909090909091\n",
            "XGBoost-LogisticRegression --> 0.9742424242424242\n",
            "XGBoost-KNN --> 0.9878787878787879\n"
          ]
        }
      ],
      "source": [
        "accuracy_models = dict(zip(modelName, acc))\n",
        "for k, v in accuracy_models.items():\n",
        "    print (k, '-->', v)"
      ]
    },
    {
      "cell_type": "code",
      "execution_count": 225,
      "metadata": {
        "colab": {
          "base_uri": "https://localhost:8080/",
          "height": 874
        },
        "id": "JRp7Kuf-LHud",
        "outputId": "94ed8354-813f-4709-9d51-11ff1d1c6e42"
      },
      "outputs": [
        {
          "data": {
            "text/plain": [
              "<AxesSubplot:title={'center':'Accuracy Comparison'}, xlabel='Accuracy', ylabel='Algorithm'>"
            ]
          },
          "execution_count": 225,
          "metadata": {},
          "output_type": "execute_result"
        },
        {
          "data": {
            "image/png": "[encoded data removed]",
            "text/plain": [
              "<Figure size 1500x1000 with 1 Axes>"
            ]
          },
          "metadata": {
            "needs_background": "light"
          },
          "output_type": "display_data"
        }
      ],
      "source": [
        "plt.figure(figsize=[15,10],dpi = 100)\n",
        "plt.title('Accuracy Comparison')\n",
        "plt.xlabel('Accuracy')\n",
        "plt.ylabel('Algorithm')\n",
        "sns.barplot(x = acc,y =modelName,palette='dark')"
      ]
    },
    {
      "cell_type": "markdown",
      "metadata": {
        "id": "x_MJfdnzLSp7"
      },
      "source": [
        "# Now by using the voting lets combine 3 algorithms togther and check their accuracy"
      ]
    },
    {
      "cell_type": "code",
      "execution_count": 226,
      "metadata": {
        "id": "U1dbhomPNVCb"
      },
      "outputs": [],
      "source": [
        "\n",
        "for i in acc:\n",
        "  acc1.append(i)\n",
        "\n",
        "for i in modelName:\n",
        "  modelName1.append(i); \n",
        "\n",
        "acc=[]\n",
        "modelName=[]"
      ]
    },
    {
      "cell_type": "code",
      "execution_count": 227,
      "metadata": {
        "id": "Erx1jUaPLdlb"
      },
      "outputs": [],
      "source": [
        "\n",
        "model1 = xgb.XGBClassifier(eval_metric='merror')\n",
        "model2 = RandomForestClassifier(random_state=1)\n",
        "model3= tree.DecisionTreeClassifier(random_state=1)\n",
        "model = VotingClassifier(estimators=[('XGB', model1), ('RF', model2), ('DT', model2)], voting='hard')\n",
        "model.fit(Xtrain,Ytrain)\n",
        "x=model.score(Xtest,Ytest)\n",
        "acc.append(x)\n",
        "modelName.append(\"XGB-RF-DT\")\n",
        "actualModel.append(model)"
      ]
    },
    {
      "cell_type": "code",
      "execution_count": 228,
      "metadata": {
        "colab": {
          "base_uri": "https://localhost:8080/"
        },
        "id": "nZ97SD-L3LV3",
        "outputId": "13d70fd0-690d-4e37-962b-90fd739e608b"
      },
      "outputs": [
        {
          "data": {
            "text/plain": [
              "array([0.99545455, 0.99318182, 0.99772727, 0.99318182, 0.99090909])"
            ]
          },
          "execution_count": 228,
          "metadata": {},
          "output_type": "execute_result"
        }
      ],
      "source": [
        "score = cross_val_score(model,features,target,cv=5)\n",
        "score"
      ]
    },
    {
      "cell_type": "code",
      "execution_count": 229,
      "metadata": {
        "id": "NOq7_xd_QCgE"
      },
      "outputs": [],
      "source": [
        "model1 = xgb.XGBClassifier(eval_metric='merror')\n",
        "model2 = LogisticRegression(random_state=1)\n",
        "model3= RandomForestClassifier(random_state=1)\n",
        "model = VotingClassifier(estimators=[('xgb', model1), ('lr', model2), ('RF', model2)], voting='hard')\n",
        "model.fit(Xtrain,Ytrain)\n",
        "x=model.score(Xtest,Ytest)\n",
        "acc.append(x)\n",
        "modelName.append(\"XGB-RF-LR\")\n",
        "actualModel.append(model)"
      ]
    },
    {
      "cell_type": "code",
      "execution_count": 230,
      "metadata": {
        "colab": {
          "base_uri": "https://localhost:8080/"
        },
        "id": "7uAmRQBI3NDm",
        "outputId": "e1cdd786-730c-40e5-b6f9-71dc53f6c0a9"
      },
      "outputs": [
        {
          "data": {
            "text/plain": [
              "array([0.95      , 0.96590909, 0.94772727, 0.96590909, 0.94318182])"
            ]
          },
          "execution_count": 230,
          "metadata": {},
          "output_type": "execute_result"
        }
      ],
      "source": [
        "score = cross_val_score(model,features,target,cv=5)\n",
        "score"
      ]
    },
    {
      "cell_type": "code",
      "execution_count": 231,
      "metadata": {
        "id": "tfKestpQPkTn"
      },
      "outputs": [],
      "source": [
        "model1 = xgb.XGBClassifier(eval_metric='merror')\n",
        "model2 = RandomForestClassifier(random_state=1)\n",
        "model3= GaussianNB()\n",
        "model = VotingClassifier(estimators=[('gnb', model1), ('RFC', model2), ('XGB', model2)], voting='hard')\n",
        "model.fit(Xtrain,Ytrain)\n",
        "x=model.score(Xtest,Ytest)\n",
        "acc.append(x)\n",
        "modelName.append(\"XGB-RF-GNB\")\n",
        "actualModel.append(model)"
      ]
    },
    {
      "cell_type": "code",
      "execution_count": 232,
      "metadata": {
        "colab": {
          "base_uri": "https://localhost:8080/"
        },
        "id": "3xoT-0bj3Ozr",
        "outputId": "23edd12b-2d16-4af1-8646-518e9456f763"
      },
      "outputs": [
        {
          "data": {
            "text/plain": [
              "array([0.99545455, 0.99318182, 0.99772727, 0.99318182, 0.99090909])"
            ]
          },
          "execution_count": 232,
          "metadata": {},
          "output_type": "execute_result"
        }
      ],
      "source": [
        "score = cross_val_score(model,features,target,cv=5)\n",
        "score"
      ]
    },
    {
      "cell_type": "code",
      "execution_count": 233,
      "metadata": {
        "id": "ktGa3u70NuGT"
      },
      "outputs": [],
      "source": [
        "model1 = xgb.XGBClassifier(eval_metric='merror')\n",
        "model2 =  LogisticRegression(random_state=1)\n",
        "model3= tree.DecisionTreeClassifier(random_state=1)\n",
        "model = VotingClassifier(estimators=[('XGB', model1), ('LR', model2), ('dt', model2)], voting='hard')\n",
        "model.fit(Xtrain,Ytrain)\n",
        "x=model.score(Xtest,Ytest)\n",
        "acc.append(x)\n",
        "modelName.append(\"XGB-DT-LR\")\n",
        "actualModel.append(model)"
      ]
    },
    {
      "cell_type": "code",
      "execution_count": 234,
      "metadata": {
        "id": "tZC9d4Zn3QK-"
      },
      "outputs": [
        {
          "data": {
            "text/plain": [
              "array([0.95      , 0.96590909, 0.94772727, 0.96590909, 0.94318182])"
            ]
          },
          "execution_count": 234,
          "metadata": {},
          "output_type": "execute_result"
        }
      ],
      "source": [
        "score = cross_val_score(model,features,target,cv=5)\n",
        "score"
      ]
    },
    {
      "cell_type": "code",
      "execution_count": 235,
      "metadata": {
        "id": "N7iQ28XJOSw1"
      },
      "outputs": [],
      "source": [
        "model1 = GaussianNB()\n",
        "model2 = xgb.XGBClassifier(eval_metric='merror')\n",
        "model3= tree.DecisionTreeClassifier(random_state=1)\n",
        "model = VotingClassifier(estimators=[('gnb', model1), ('xgb', model2), ('dt', model2)], voting='hard')\n",
        "model.fit(Xtrain,Ytrain)\n",
        "x=model.score(Xtest,Ytest)\n",
        "acc.append(x)\n",
        "modelName.append(\"XGB-DT-GNB\")\n",
        "actualModel.append(model)"
      ]
    },
    {
      "cell_type": "code",
      "execution_count": 236,
      "metadata": {
        "colab": {
          "base_uri": "https://localhost:8080/"
        },
        "id": "MWbYD3qe3RMC",
        "outputId": "b3eae5c9-262f-4915-f4e7-ce9e42db460b"
      },
      "outputs": [
        {
          "data": {
            "text/plain": [
              "array([0.99318182, 0.99318182, 0.99318182, 0.99090909, 0.99090909])"
            ]
          },
          "execution_count": 236,
          "metadata": {},
          "output_type": "execute_result"
        }
      ],
      "source": [
        "score = cross_val_score(model,features,target,cv=5)\n",
        "score"
      ]
    },
    {
      "cell_type": "code",
      "execution_count": 237,
      "metadata": {
        "id": "1EzCY8rUOsYl"
      },
      "outputs": [],
      "source": [
        "model1 = GaussianNB()\n",
        "model2 = LogisticRegression(random_state=1)\n",
        "model3= xgb.XGBClassifier(eval_metric='merror')\n",
        "model = VotingClassifier(estimators=[('gnb', model1), ('lr', model2), ('RFC', model2)], voting='hard')\n",
        "model.fit(Xtrain,Ytrain)\n",
        "x=model.score(Xtest,Ytest)\n",
        "acc.append(x)\n",
        "modelName.append(\"XGB-LR-GNB\")\n",
        "actualModel.append(model)"
      ]
    },
    {
      "cell_type": "code",
      "execution_count": 238,
      "metadata": {
        "colab": {
          "base_uri": "https://localhost:8080/"
        },
        "id": "DDt0zug43Sza",
        "outputId": "6257dd5f-77f0-41c1-b614-3b6946e816dc"
      },
      "outputs": [
        {
          "data": {
            "text/plain": [
              "array([0.95      , 0.96590909, 0.94772727, 0.96590909, 0.94318182])"
            ]
          },
          "execution_count": 238,
          "metadata": {},
          "output_type": "execute_result"
        }
      ],
      "source": [
        "score = cross_val_score(model,features,target,cv=5)\n",
        "score"
      ]
    },
    {
      "cell_type": "markdown",
      "metadata": {
        "id": "ZIBIgWDWSxhe"
      },
      "source": [
        "# Now by voting we have compare the combination of 3-3 algorithms, lets check the accuracy of each combination"
      ]
    },
    {
      "cell_type": "code",
      "execution_count": 239,
      "metadata": {
        "colab": {
          "base_uri": "https://localhost:8080/"
        },
        "id": "C8b8K2AIS7XA",
        "outputId": "0fc1402d-73df-4202-a1a8-8f71e7a5247b"
      },
      "outputs": [
        {
          "name": "stdout",
          "output_type": "stream",
          "text": [
            "XGB-RF-DT --> 0.9954545454545455\n",
            "XGB-RF-LR --> 0.9621212121212122\n",
            "XGB-RF-GNB --> 0.9954545454545455\n",
            "XGB-DT-LR --> 0.9621212121212122\n",
            "XGB-DT-GNB --> 0.9954545454545455\n",
            "XGB-LR-GNB --> 0.9621212121212122\n"
          ]
        }
      ],
      "source": [
        "accuracy_models = dict(zip(modelName, acc))\n",
        "for k, v in accuracy_models.items():\n",
        "    print (k, '-->', v)"
      ]
    },
    {
      "cell_type": "code",
      "execution_count": 240,
      "metadata": {
        "colab": {
          "base_uri": "https://localhost:8080/",
          "height": 874
        },
        "id": "0HQB4xmzSn8m",
        "outputId": "296befd8-5c4a-454a-9a46-20932f11ab43"
      },
      "outputs": [
        {
          "data": {
            "text/plain": [
              "<AxesSubplot:title={'center':'Accuracy Comparison'}, xlabel='Accuracy', ylabel='Algorithm'>"
            ]
          },
          "execution_count": 240,
          "metadata": {},
          "output_type": "execute_result"
        },
        {
          "data": {
            "image/png": "[encoded data removed]",
            "text/plain": [
              "<Figure size 1500x1000 with 1 Axes>"
            ]
          },
          "metadata": {
            "needs_background": "light"
          },
          "output_type": "display_data"
        }
      ],
      "source": [
        "plt.figure(figsize=[15,10],dpi = 100)\n",
        "plt.title('Accuracy Comparison')\n",
        "plt.xlabel('Accuracy')\n",
        "plt.ylabel('Algorithm')\n",
        "sns.barplot(x = acc,y =modelName,palette='dark')"
      ]
    },
    {
      "cell_type": "markdown",
      "metadata": {
        "id": "7J-Zhzg8TG-h"
      },
      "source": [
        "# Campare the combination of 4-4 algorithms"
      ]
    },
    {
      "cell_type": "code",
      "execution_count": 241,
      "metadata": {
        "id": "sJTMlr21TQTb"
      },
      "outputs": [],
      "source": [
        "\n",
        "for i in acc:\n",
        "  acc1.append(i)\n",
        "\n",
        "for i in modelName:\n",
        "  modelName1.append(i); \n",
        "\n",
        "acc=[]\n",
        "modelName=[]"
      ]
    },
    {
      "cell_type": "code",
      "execution_count": 242,
      "metadata": {
        "id": "xXONav3yT-Gm"
      },
      "outputs": [],
      "source": [
        "model1 = xgb.XGBClassifier(eval_metric='merror')\n",
        "model2 = LogisticRegression(random_state=1)\n",
        "model3= tree.DecisionTreeClassifier(random_state=1)\n",
        "model4= RandomForestClassifier(random_state=1)\n",
        "model = VotingClassifier(estimators=[('XGB', model1), ('lr', model2), ('dt', model3),(\"RFC\",model4)], voting='hard')\n",
        "model.fit(Xtrain,Ytrain)\n",
        "x=model.score(Xtest,Ytest)\n",
        "acc.append(x)\n",
        "modelName.append(\"XGB-RF-DT-LR\")\n",
        "actualModel.append(model)"
      ]
    },
    {
      "cell_type": "code",
      "execution_count": 243,
      "metadata": {
        "colab": {
          "base_uri": "https://localhost:8080/"
        },
        "id": "xgIReR1Z3by5",
        "outputId": "4a30aee5-b81b-4729-a96c-6e774eceffa5"
      },
      "outputs": [
        {
          "data": {
            "text/plain": [
              "array([0.99318182, 0.99318182, 0.99545455, 0.99545455, 0.98863636])"
            ]
          },
          "execution_count": 243,
          "metadata": {},
          "output_type": "execute_result"
        }
      ],
      "source": [
        "score = cross_val_score(model,features,target,cv=5)\n",
        "score"
      ]
    },
    {
      "cell_type": "code",
      "execution_count": 244,
      "metadata": {
        "id": "bhVWUv4bVGf2"
      },
      "outputs": [],
      "source": [
        "model1 = GaussianNB()\n",
        "model2 = LogisticRegression(random_state=1)\n",
        "model3= tree.DecisionTreeClassifier(random_state=1)\n",
        "model4= xgb.XGBClassifier(eval_metric='merror')\n",
        "model = VotingClassifier(estimators=[('gnb', model1), ('lr', model2), ('dt', model3),(\"xgb\",model4)], voting='hard')\n",
        "model.fit(Xtrain,Ytrain)\n",
        "x=model.score(Xtest,Ytest)\n",
        "acc.append(x)\n",
        "modelName.append(\"XGB-DT-LR-GNB\")\n",
        "actualModel.append(model)"
      ]
    },
    {
      "cell_type": "code",
      "execution_count": 245,
      "metadata": {
        "colab": {
          "base_uri": "https://localhost:8080/"
        },
        "id": "mRPnEwrL3dHf",
        "outputId": "1ee1bb83-3fe4-4321-c736-96b3247fd956"
      },
      "outputs": [
        {
          "data": {
            "text/plain": [
              "array([0.99318182, 0.99318182, 0.99318182, 0.99318182, 0.98636364])"
            ]
          },
          "execution_count": 245,
          "metadata": {},
          "output_type": "execute_result"
        }
      ],
      "source": [
        "score = cross_val_score(model,features,target,cv=5)\n",
        "score"
      ]
    },
    {
      "cell_type": "code",
      "execution_count": 246,
      "metadata": {
        "id": "YOQpT8EpVkOc"
      },
      "outputs": [],
      "source": [
        "model1 = xgb.XGBClassifier(eval_metric='merror')\n",
        "model2 = LogisticRegression(random_state=1)\n",
        "model3= GaussianNB()\n",
        "model4= RandomForestClassifier(random_state=1)\n",
        "model = VotingClassifier(estimators=[('xgb', model1), ('lr', model2), ('GNB', model3),(\"RFC\",model4)], voting='hard')\n",
        "model.fit(Xtrain,Ytrain)\n",
        "x=model.score(Xtest,Ytest)\n",
        "acc.append(x)\n",
        "modelName.append(\"XGB-RF-LR-GNB\")\n",
        "actualModel.append(model)"
      ]
    },
    {
      "cell_type": "code",
      "execution_count": 247,
      "metadata": {
        "colab": {
          "base_uri": "https://localhost:8080/"
        },
        "id": "WYCqjkMy3efF",
        "outputId": "344dd148-3411-42af-e694-6dc5176115ae"
      },
      "outputs": [
        {
          "data": {
            "text/plain": [
              "array([0.99318182, 0.99090909, 0.99545455, 0.99318182, 0.98863636])"
            ]
          },
          "execution_count": 247,
          "metadata": {},
          "output_type": "execute_result"
        }
      ],
      "source": [
        "score = cross_val_score(model,features,target,cv=5)\n",
        "score"
      ]
    },
    {
      "cell_type": "code",
      "execution_count": 248,
      "metadata": {
        "id": "FmxFkHVOVxBL"
      },
      "outputs": [],
      "source": [
        "model1 = xgb.XGBClassifier(eval_metric='merror')\n",
        "model2 = GaussianNB()\n",
        "model3= tree.DecisionTreeClassifier(random_state=1)\n",
        "model4= RandomForestClassifier(random_state=1)\n",
        "model = VotingClassifier(estimators=[('xgb', model1), ('lr', model2), ('dt', model3),(\"RFC\",model4)], voting='hard')\n",
        "model.fit(Xtrain,Ytrain)\n",
        "x=model.score(Xtest,Ytest)\n",
        "acc.append(x)\n",
        "modelName.append(\"XGB-RF-DT-GNB\")\n",
        "actualModel.append(model)"
      ]
    },
    {
      "cell_type": "code",
      "execution_count": 249,
      "metadata": {
        "colab": {
          "base_uri": "https://localhost:8080/"
        },
        "id": "MTSBau5m3hh7",
        "outputId": "7ef6e8c5-9dbc-4502-a122-13873c0012a3"
      },
      "outputs": [
        {
          "data": {
            "text/plain": [
              "array([0.99772727, 0.99318182, 0.99772727, 0.99545455, 0.99090909])"
            ]
          },
          "execution_count": 249,
          "metadata": {},
          "output_type": "execute_result"
        }
      ],
      "source": [
        "score = cross_val_score(model,features,target,cv=5)\n",
        "score"
      ]
    },
    {
      "cell_type": "markdown",
      "metadata": {
        "id": "MPVZHEoCXEgR"
      },
      "source": [
        "# Analysis between different combination of model"
      ]
    },
    {
      "cell_type": "code",
      "execution_count": 250,
      "metadata": {
        "colab": {
          "base_uri": "https://localhost:8080/"
        },
        "id": "2MA_LmZyXSuv",
        "outputId": "683cd47b-d9cb-4e99-8138-87647df8543f"
      },
      "outputs": [
        {
          "name": "stdout",
          "output_type": "stream",
          "text": [
            "XGB-RF-DT-LR --> 0.9954545454545455\n",
            "XGB-DT-LR-GNB --> 0.9924242424242424\n",
            "XGB-RF-LR-GNB --> 0.9924242424242424\n",
            "XGB-RF-DT-GNB --> 0.9954545454545455\n"
          ]
        }
      ],
      "source": [
        "accuracy_models = dict(zip(modelName, acc))\n",
        "for k, v in accuracy_models.items():\n",
        "    print (k, '-->', v)"
      ]
    },
    {
      "cell_type": "code",
      "execution_count": 251,
      "metadata": {
        "colab": {
          "base_uri": "https://localhost:8080/",
          "height": 874
        },
        "id": "7S6UWwBFXW_y",
        "outputId": "06ddcc75-44e9-4d6a-e9ac-48aa4385489f"
      },
      "outputs": [
        {
          "data": {
            "text/plain": [
              "<AxesSubplot:title={'center':'Accuracy Comparison'}, xlabel='Accuracy', ylabel='Algorithm'>"
            ]
          },
          "execution_count": 251,
          "metadata": {},
          "output_type": "execute_result"
        },
        {
          "data": {
            "image/png": "[encoded data removed]",
            "text/plain": [
              "<Figure size 1500x1000 with 1 Axes>"
            ]
          },
          "metadata": {
            "needs_background": "light"
          },
          "output_type": "display_data"
        }
      ],
      "source": [
        "plt.figure(figsize=[15,10],dpi = 100)\n",
        "plt.title('Accuracy Comparison')\n",
        "plt.xlabel('Accuracy')\n",
        "plt.ylabel('Algorithm')\n",
        "sns.barplot(x = acc,y =modelName,palette='dark')"
      ]
    },
    {
      "cell_type": "code",
      "execution_count": 252,
      "metadata": {
        "id": "5GPL6I9_6-f7"
      },
      "outputs": [],
      "source": [
        "\n",
        "for i in acc:\n",
        "  acc1.append(i)\n",
        "\n",
        "for i in modelName:\n",
        "  modelName1.append(i); \n",
        "\n",
        "acc=[]\n",
        "modelName=[]"
      ]
    },
    {
      "cell_type": "markdown",
      "metadata": {
        "id": "SiGWzi9TXdNV"
      },
      "source": [
        "# Comparing all algorithms we have train till now"
      ]
    },
    {
      "cell_type": "code",
      "execution_count": 253,
      "metadata": {
        "colab": {
          "base_uri": "https://localhost:8080/"
        },
        "id": "SLehME2RXmv0",
        "outputId": "624e45c3-2c4f-40cf-a803-76ff2ae48914"
      },
      "outputs": [
        {
          "name": "stdout",
          "output_type": "stream",
          "text": [
            "Decision Tree --> 0.8590909090909091\n",
            "Naive Bayes --> 0.9924242424242424\n",
            "Logistic Regression --> 0.9621212121212122\n",
            "RF --> 0.9893939393939394\n",
            "XGBoost --> 0.9954545454545455\n",
            "KNN --> 0.9848484848484849\n",
            "MLP --> 0.9454545454545454\n",
            "Stack_7 --> 0.9954545454545455\n",
            "XGBoost-DecisionTree --> 0.9893939393939394\n",
            "XGBoost-RandomForest --> 0.9939393939393939\n",
            "XGBoost-GaussianNB --> 0.990909090909091\n",
            "XGBoost-LogisticRegression --> 0.9742424242424242\n",
            "XGBoost-KNN --> 0.9878787878787879\n",
            "XGB-RF-DT --> 0.9954545454545455\n",
            "XGB-RF-LR --> 0.9621212121212122\n",
            "XGB-RF-GNB --> 0.9954545454545455\n",
            "XGB-DT-LR --> 0.9621212121212122\n",
            "XGB-DT-GNB --> 0.9954545454545455\n",
            "XGB-LR-GNB --> 0.9621212121212122\n",
            "XGB-RF-DT-LR --> 0.9954545454545455\n",
            "XGB-DT-LR-GNB --> 0.9924242424242424\n",
            "XGB-RF-LR-GNB --> 0.9924242424242424\n",
            "XGB-RF-DT-GNB --> 0.9954545454545455\n"
          ]
        }
      ],
      "source": [
        "accuracy_models = dict(zip(modelName1, acc1))\n",
        "for k, v in accuracy_models.items():\n",
        "    print (k, '-->', v)"
      ]
    },
    {
      "cell_type": "code",
      "execution_count": 254,
      "metadata": {
        "id": "qxFZu8G-Yq6p"
      },
      "outputs": [],
      "source": [
        "max(acc1)\n",
        "index=acc1.index(max(acc1))"
      ]
    },
    {
      "cell_type": "code",
      "execution_count": 255,
      "metadata": {
        "colab": {
          "base_uri": "https://localhost:8080/"
        },
        "id": "l2kC8YVGZMaE",
        "outputId": "7d6046b0-7fce-4e0d-fe76-1df3b7a35cb9"
      },
      "outputs": [
        {
          "data": {
            "text/plain": [
              "4"
            ]
          },
          "execution_count": 255,
          "metadata": {},
          "output_type": "execute_result"
        }
      ],
      "source": [
        "index"
      ]
    },
    {
      "cell_type": "code",
      "execution_count": 256,
      "metadata": {
        "colab": {
          "base_uri": "https://localhost:8080/"
        },
        "id": "KXVeA3-tZO50",
        "outputId": "b240c45a-30b6-40b8-e080-4fae06333258"
      },
      "outputs": [
        {
          "name": "stdout",
          "output_type": "stream",
          "text": [
            "The best algorithm is: XGBoost\n"
          ]
        }
      ],
      "source": [
        "print(\"The best algorithm is: \",end=\"\")\n",
        "print(modelName1[index])\n"
      ]
    },
    {
      "cell_type": "code",
      "execution_count": 257,
      "metadata": {
        "colab": {
          "base_uri": "https://localhost:8080/",
          "height": 874
        },
        "id": "ucHJMNq_XjqV",
        "outputId": "6791c958-cefb-47b6-979b-15d82261fbb6"
      },
      "outputs": [
        {
          "data": {
            "text/plain": [
              "<AxesSubplot:title={'center':'Accuracy Comparison'}, xlabel='Accuracy', ylabel='Algorithm'>"
            ]
          },
          "execution_count": 257,
          "metadata": {},
          "output_type": "execute_result"
        },
        {
          "data": {
            "image/png": "[encoded data removed]",
            "text/plain": [
              "<Figure size 1500x1000 with 1 Axes>"
            ]
          },
          "metadata": {
            "needs_background": "light"
          },
          "output_type": "display_data"
        }
      ],
      "source": [
        "plt.figure(figsize=[15,10],dpi = 100)\n",
        "plt.title('Accuracy Comparison')\n",
        "plt.xlabel('Accuracy')\n",
        "plt.ylabel('Algorithm')\n",
        "sns.barplot(x = acc1,y =modelName1,palette='dark')"
      ]
    },
    {
      "cell_type": "code",
      "execution_count": 258,
      "metadata": {
        "colab": {
          "base_uri": "https://localhost:8080/"
        },
        "id": "vc553LzaSlHQ",
        "outputId": "2fa8153d-45be-427c-9804-7bf664756e09"
      },
      "outputs": [
        {
          "data": {
            "text/plain": [
              "['Decision Tree',\n",
              " 'Naive Bayes',\n",
              " 'Logistic Regression',\n",
              " 'RF',\n",
              " 'XGBoost',\n",
              " 'KNN',\n",
              " 'MLP',\n",
              " 'Stack_7',\n",
              " 'XGBoost-DecisionTree',\n",
              " 'XGBoost-RandomForest',\n",
              " 'XGBoost-GaussianNB',\n",
              " 'XGBoost-LogisticRegression',\n",
              " 'XGBoost-KNN',\n",
              " 'XGB-RF-DT',\n",
              " 'XGB-RF-LR',\n",
              " 'XGB-RF-GNB',\n",
              " 'XGB-DT-LR',\n",
              " 'XGB-DT-GNB',\n",
              " 'XGB-LR-GNB',\n",
              " 'XGB-RF-DT-LR',\n",
              " 'XGB-DT-LR-GNB',\n",
              " 'XGB-RF-LR-GNB',\n",
              " 'XGB-RF-DT-GNB']"
            ]
          },
          "execution_count": 258,
          "metadata": {},
          "output_type": "execute_result"
        }
      ],
      "source": [
        "modelName1"
      ]
    },
    {
      "cell_type": "code",
      "execution_count": 259,
      "metadata": {
        "colab": {
          "base_uri": "https://localhost:8080/"
        },
        "id": "2pTHlyDLRVQR",
        "outputId": "888e8956-34ba-49eb-e658-39daef504b50"
      },
      "outputs": [
        {
          "data": {
            "text/plain": [
              "[0.8590909090909091,\n",
              " 0.9924242424242424,\n",
              " 0.9621212121212122,\n",
              " 0.9893939393939394,\n",
              " 0.9954545454545455,\n",
              " 0.9848484848484849,\n",
              " 0.9454545454545454,\n",
              " 0.9954545454545455,\n",
              " 0.9893939393939394,\n",
              " 0.9939393939393939,\n",
              " 0.990909090909091,\n",
              " 0.9742424242424242,\n",
              " 0.9878787878787879,\n",
              " 0.9954545454545455,\n",
              " 0.9621212121212122,\n",
              " 0.9954545454545455,\n",
              " 0.9621212121212122,\n",
              " 0.9954545454545455,\n",
              " 0.9621212121212122,\n",
              " 0.9954545454545455,\n",
              " 0.9924242424242424,\n",
              " 0.9924242424242424,\n",
              " 0.9954545454545455]"
            ]
          },
          "execution_count": 259,
          "metadata": {},
          "output_type": "execute_result"
        }
      ],
      "source": [
        "acc1"
      ]
    },
    {
      "cell_type": "code",
      "execution_count": 260,
      "metadata": {
        "colab": {
          "base_uri": "https://localhost:8080/",
          "height": 1000
        },
        "id": "UIUmSw2fO5Vn",
        "outputId": "b6d8e9dd-1434-4347-b4d8-e20ab9467b45"
      },
      "outputs": [
        {
          "data": {
            "image/png": "[encoded data removed]",
            "text/plain": [
              "<Figure size 1500x1000 with 1 Axes>"
            ]
          },
          "metadata": {
            "needs_background": "light"
          },
          "output_type": "display_data"
        }
      ],
      "source": [
        "import matplotlib.pyplot as plt\n",
        " \n",
        "Percent1 = []\n",
        "for i in acc1:\n",
        "  Percent1.append(i*100)\n",
        "\n",
        "plt.figure(figsize=[15,10],dpi = 100)\n",
        "plt.bar(modelName1, Percent1)\n",
        "plt.xticks(rotation=90)\n",
        "plt.xlabel(\"Model Name\")\n",
        "plt.ylabel(\"Accuracy\")\n",
        "plt.title(\"Accuracy for each model\")\n",
        "plt.show()\n",
        "\n"
      ]
    },
    {
      "cell_type": "markdown",
      "metadata": {
        "id": "BoomvDBFpKKE"
      },
      "source": [
        "# Building the combine model of XGBoost's submodel and then use stacking to build final model"
      ]
    },
    {
      "cell_type": "code",
      "execution_count": 261,
      "metadata": {
        "id": "ifu-cCkepWtK"
      },
      "outputs": [],
      "source": [
        "xg_model_name=[]"
      ]
    },
    {
      "cell_type": "code",
      "execution_count": 262,
      "metadata": {
        "colab": {
          "base_uri": "https://localhost:8080/",
          "height": 74
        },
        "id": "q8IzHlfp8YYQ",
        "outputId": "c099a2a0-a739-44b0-d6a7-5865dfb3f63e"
      },
      "outputs": [
        {
          "data": {
            "text/plain": [
              "DecisionTreeClassifier(criterion='entropy', max_depth=5, random_state=2)"
            ]
          },
          "execution_count": 262,
          "metadata": {},
          "output_type": "execute_result"
        }
      ],
      "source": [
        "actualModel[0]"
      ]
    },
    {
      "cell_type": "code",
      "execution_count": 263,
      "metadata": {
        "colab": {
          "base_uri": "https://localhost:8080/"
        },
        "id": "LQcWdoQ6qSv4",
        "outputId": "3cd42f03-2fe7-4325-f132-4a1d4cb288dd"
      },
      "outputs": [
        {
          "name": "stdout",
          "output_type": "stream",
          "text": [
            "XGBoost's Accuracy is:  0.9954545454545455\n",
            "XGBoost's Accuracy is:  0.9954545454545455\n",
            "XGBoost's Accuracy is:  0.9954545454545455\n",
            "XGBoost's Accuracy is:  0.9954545454545455\n",
            "XGBoost's Accuracy is:  0.9954545454545455\n",
            "XGBoost's Accuracy is:  0.9954545454545455\n",
            "XGBoost's Accuracy is:  0.9954545454545455\n",
            "XGBoost's Accuracy is:  0.9954545454545455\n",
            "XGBoost's Accuracy is:  0.9954545454545455\n",
            "XGBoost's Accuracy is:  0.9954545454545455\n"
          ]
        }
      ],
      "source": [
        "for i in range(1,11):\n",
        "  # Splitting into train and test data\n",
        " \n",
        "  Xtrain, Xtest, Ytrain, Ytest = train_test_split(features,target,test_size = 0.3,random_state =2)\n",
        "  le = LabelEncoder()\n",
        "  y_train = le.fit_transform(Ytrain)\n",
        "  XB = xgb.XGBClassifier(eval_metric='merror')\n",
        "  XB.fit(Xtrain,y_train)\n",
        " \n",
        "\n",
        "  y_pred = XB.predict(Xtest)\n",
        "  y_pred = le.inverse_transform(y_pred)\n",
        "\n",
        "  x = metrics.accuracy_score(Ytest, y_pred) \n",
        "  xg_model_name.append(XB) \n",
        "  print(\"XGBoost's Accuracy is: \", x) "
      ]
    },
    {
      "cell_type": "code",
      "execution_count": 264,
      "metadata": {
        "id": "-7XIo2mkwTFG"
      },
      "outputs": [],
      "source": [
        "Xtrain, Xtest, Ytrain, Ytest = train_test_split(features,target,test_size = 0.3,random_state =2)"
      ]
    },
    {
      "cell_type": "code",
      "execution_count": 265,
      "metadata": {
        "id": "LDf1X5DDs_wy"
      },
      "outputs": [],
      "source": [
        "res_estimator_list = [((\"xgb\"+str(i)), (xg_model_name[i]))\n",
        "                       for i in range(len(xg_model_name)) ]"
      ]
    },
    {
      "cell_type": "code",
      "execution_count": 268,
      "metadata": {
        "id": "Yz8KBc7h3E2p"
      },
      "outputs": [],
      "source": [
        "accuracyOfStackModel=[]\n",
        "for model in actualModel:\n",
        "  xg_stack_model = StackingClassifier(\n",
        "    estimators=res_estimator_list, final_estimator=model)\n",
        "  xg_stack_model.fit(Xtrain, Ytrain)\n",
        "  y_test_pred = xg_stack_model.predict(Xtest)\n",
        "  xg_stack_model_test_accuracy = round(metrics.accuracy_score(Ytest, y_test_pred)*100,2) # Calculate Accuracy\n",
        "  accuracyOfStackModel.append(xg_stack_model_test_accuracy)"
      ]
    },
    {
      "cell_type": "code",
      "execution_count": 282,
      "metadata": {
        "colab": {
          "base_uri": "https://localhost:8080/",
          "height": 161
        },
        "id": "z57vbYD9wCs7",
        "outputId": "f6ac648f-df35-46cf-bd1b-4dcd68428259"
      },
      "outputs": [
        {
          "name": "stdout",
          "output_type": "stream",
          "text": [
            "Decision Tree accuracy is 52.73\n",
            "Naive Bayes accuracy is 95.0\n",
            "Logistic Regression accuracy is 99.7\n",
            "RF accuracy is 99.24\n",
            "XGBoost accuracy is 99.24\n",
            "KNN accuracy is 99.39\n",
            "MLP accuracy is 99.7\n",
            "Stack_7 accuracy is 99.24\n",
            "XGBoost-DecisionTree accuracy is 99.09\n",
            "XGBoost-RandomForest accuracy is 99.24\n",
            "XGBoost-GaussianNB accuracy is 98.94\n",
            "XGBoost-LogisticRegression accuracy is 99.55\n",
            "XGBoost-KNN accuracy is 99.24\n",
            "XGB-RF-DT accuracy is 99.24\n",
            "XGB-RF-LR accuracy is 99.7\n",
            "XGB-RF-GNB accuracy is 99.24\n",
            "XGB-DT-LR accuracy is 99.7\n",
            "XGB-DT-GNB accuracy is 99.24\n",
            "XGB-LR-GNB accuracy is 99.7\n",
            "XGB-RF-DT-LR accuracy is 99.24\n",
            "XGB-DT-LR-GNB accuracy is 99.24\n",
            "XGB-RF-LR-GNB accuracy is 99.24\n",
            "XGB-RF-DT-GNB accuracy is 99.24\n"
          ]
        }
      ],
      "source": [
        "max=0\n",
        "index=-1\n",
        "for i in range(len(accuracyOfStackModel)):\n",
        "    print(str(modelName1[i])+\" accuracy is \"+str(accuracyOfStackModel[i]))\n",
        "    if(accuracyOfStackModel[i]>=max):\n",
        "        max=accuracyOfStackModel[i]\n",
        "        index=i\n",
        "   "
      ]
    },
    {
      "cell_type": "code",
      "execution_count": 283,
      "metadata": {},
      "outputs": [
        {
          "name": "stdout",
          "output_type": "stream",
          "text": [
            "The best final estimator is: XGB-LR-GNB with the accuracy of 99.7\n"
          ]
        }
      ],
      "source": [
        "print(\"The best final estimator is: \"+str(modelName1[index]+\" with the accuracy of \"+str(max)))"
      ]
    },
    {
      "cell_type": "code",
      "execution_count": 284,
      "metadata": {
        "id": "XStCC6a3vL3M"
      },
      "outputs": [],
      "source": [
        " # Dump the trained Naive Bayes classifier with Pickle\n",
        "xgbs_pkl_filename = 'xgbs.pkl'\n",
        "# Open the file to save as pkl file\n",
        "xgbs_Model_pkl = open(xgbs_pkl_filename, 'wb')\n",
        "pickle.dump(actualModel[index], xgbs_Model_pkl)\n",
        "# Close the pickle instances\n",
        "xgbs_Model_pkl.close()"
      ]
    },
    {
      "cell_type": "code",
      "execution_count": null,
      "metadata": {},
      "outputs": [],
      "source": []
    },
    {
      "cell_type": "markdown",
      "metadata": {
        "id": "sgcU8gW68Ei7"
      },
      "source": [
        "# Bagging of XGBooster\n",
        "  "
      ]
    },
    {
      "cell_type": "code",
      "execution_count": 271,
      "metadata": {
        "id": "1NbMfqA79Pqy"
      },
      "outputs": [],
      "source": [
        "from sklearn.ensemble import BaggingClassifier"
      ]
    },
    {
      "cell_type": "code",
      "execution_count": 272,
      "metadata": {
        "id": "DFLRKFwB-ife"
      },
      "outputs": [],
      "source": [
        "bagging_clf = BaggingClassifier(base_estimator=xgb.XGBClassifier(),\n",
        "                        n_estimators=500,max_features=5, random_state=42)"
      ]
    },
    {
      "cell_type": "code",
      "execution_count": 273,
      "metadata": {
        "id": "c-0fBRkY-npr"
      },
      "outputs": [],
      "source": [
        "bagging_clf.fit(Xtrain, Ytrain)"
      ]
    },
    {
      "cell_type": "code",
      "execution_count": 274,
      "metadata": {
        "id": "hYqk6NHK_jvB"
      },
      "outputs": [],
      "source": [
        "y_pred=bagging_clf.predict(Xtest);"
      ]
    },
    {
      "cell_type": "code",
      "execution_count": 275,
      "metadata": {
        "id": "yxVUeYSY-uPj"
      },
      "outputs": [],
      "source": [
        "accuracy=metrics.accuracy_score(Ytest, y_pred)*100"
      ]
    },
    {
      "cell_type": "code",
      "execution_count": 276,
      "metadata": {
        "id": "tmJQEFXN_RTF"
      },
      "outputs": [],
      "source": [
        "accuracy"
      ]
    },
    {
      "attachments": {},
      "cell_type": "markdown",
      "metadata": {},
      "source": [
        "Conclusion: The best way to train model is by stacking the submodel of XGBoost with final estimator as a combination of XGBoost-LogisticRegression-GuassianNaiveBayes"
      ]
    }
  ],
  "metadata": {
    "colab": {
      "provenance": []
    },
    "kernelspec": {
      "display_name": "Python 3",
      "name": "python3"
    },
    "language_info": {
      "codemirror_mode": {
        "name": "ipython",
        "version": 3
      },
      "file_extension": ".py",
      "mimetype": "text/x-python",
      "name": "python",
      "nbconvert_exporter": "python",
      "pygments_lexer": "ipython3",
      "version": "3.6.7"
    }
  },
  "nbformat": 4,
  "nbformat_minor": 0
}

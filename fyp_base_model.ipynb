{
  "nbformat": 4,
  "nbformat_minor": 0,
  "metadata": {
    "colab": {
      "provenance": [],
      "include_colab_link": true
    },
    "kernelspec": {
      "name": "python3",
      "display_name": "Python 3"
    },
    "language_info": {
      "name": "python"
    }
  },
  "cells": [
    {
      "cell_type": "markdown",
      "metadata": {
        "id": "view-in-github",
        "colab_type": "text"
      },
      "source": [
        "<a href=\"https://colab.research.google.com/github/vivekrrg/FarmAssistantFrontEnd/blob/main/fyp_base_model.ipynb\" target=\"_parent\"><img src=\"https://colab.research.google.com/assets/colab-badge.svg\" alt=\"Open In Colab\"/></a>"
      ]
    },
    {
      "cell_type": "code",
      "execution_count": 193,
      "metadata": {
        "id": "o7W_84VjXoa6"
      },
      "outputs": [],
      "source": [
        "# Importing libraries\n",
        "\n",
        "from __future__ import print_function\n",
        "import pandas as pd\n",
        "import numpy as np\n",
        "import matplotlib.pyplot as plt\n",
        "import seaborn as sns\n",
        "from sklearn.metrics import classification_report\n",
        "from sklearn import metrics\n",
        "from sklearn import tree\n",
        "import warnings\n",
        "warnings.filterwarnings('ignore')"
      ]
    },
    {
      "cell_type": "code",
      "source": [
        " \n",
        "df = pd.read_csv('Crop_recommendation.csv')"
      ],
      "metadata": {
        "id": "BWYcamjhXxNH"
      },
      "execution_count": 194,
      "outputs": []
    },
    {
      "cell_type": "code",
      "source": [
        "df.head()"
      ],
      "metadata": {
        "colab": {
          "base_uri": "https://localhost:8080/",
          "height": 206
        },
        "id": "EK8iqpbbXxPr",
        "outputId": "b8583950-67e4-47bd-a50f-6433b0a1abe0"
      },
      "execution_count": 195,
      "outputs": [
        {
          "output_type": "execute_result",
          "data": {
            "text/plain": [
              "    N   P   K  temperature   humidity        ph    rainfall label\n",
              "0  90  42  43    20.879744  82.002744  6.502985  202.935536  rice\n",
              "1  85  58  41    21.770462  80.319644  7.038096  226.655537  rice\n",
              "2  60  55  44    23.004459  82.320763  7.840207  263.964248  rice\n",
              "3  74  35  40    26.491096  80.158363  6.980401  242.864034  rice\n",
              "4  78  42  42    20.130175  81.604873  7.628473  262.717340  rice"
            ],
            "text/html": [
              "\n",
              "  <div id=\"df-279a850d-21bf-40b4-8ad2-5fb9a9dea971\">\n",
              "    <div class=\"colab-df-container\">\n",
              "      <div>\n",
              "<style scoped>\n",
              "    .dataframe tbody tr th:only-of-type {\n",
              "        vertical-align: middle;\n",
              "    }\n",
              "\n",
              "    .dataframe tbody tr th {\n",
              "        vertical-align: top;\n",
              "    }\n",
              "\n",
              "    .dataframe thead th {\n",
              "        text-align: right;\n",
              "    }\n",
              "</style>\n",
              "<table border=\"1\" class=\"dataframe\">\n",
              "  <thead>\n",
              "    <tr style=\"text-align: right;\">\n",
              "      <th></th>\n",
              "      <th>N</th>\n",
              "      <th>P</th>\n",
              "      <th>K</th>\n",
              "      <th>temperature</th>\n",
              "      <th>humidity</th>\n",
              "      <th>ph</th>\n",
              "      <th>rainfall</th>\n",
              "      <th>label</th>\n",
              "    </tr>\n",
              "  </thead>\n",
              "  <tbody>\n",
              "    <tr>\n",
              "      <th>0</th>\n",
              "      <td>90</td>\n",
              "      <td>42</td>\n",
              "      <td>43</td>\n",
              "      <td>20.879744</td>\n",
              "      <td>82.002744</td>\n",
              "      <td>6.502985</td>\n",
              "      <td>202.935536</td>\n",
              "      <td>rice</td>\n",
              "    </tr>\n",
              "    <tr>\n",
              "      <th>1</th>\n",
              "      <td>85</td>\n",
              "      <td>58</td>\n",
              "      <td>41</td>\n",
              "      <td>21.770462</td>\n",
              "      <td>80.319644</td>\n",
              "      <td>7.038096</td>\n",
              "      <td>226.655537</td>\n",
              "      <td>rice</td>\n",
              "    </tr>\n",
              "    <tr>\n",
              "      <th>2</th>\n",
              "      <td>60</td>\n",
              "      <td>55</td>\n",
              "      <td>44</td>\n",
              "      <td>23.004459</td>\n",
              "      <td>82.320763</td>\n",
              "      <td>7.840207</td>\n",
              "      <td>263.964248</td>\n",
              "      <td>rice</td>\n",
              "    </tr>\n",
              "    <tr>\n",
              "      <th>3</th>\n",
              "      <td>74</td>\n",
              "      <td>35</td>\n",
              "      <td>40</td>\n",
              "      <td>26.491096</td>\n",
              "      <td>80.158363</td>\n",
              "      <td>6.980401</td>\n",
              "      <td>242.864034</td>\n",
              "      <td>rice</td>\n",
              "    </tr>\n",
              "    <tr>\n",
              "      <th>4</th>\n",
              "      <td>78</td>\n",
              "      <td>42</td>\n",
              "      <td>42</td>\n",
              "      <td>20.130175</td>\n",
              "      <td>81.604873</td>\n",
              "      <td>7.628473</td>\n",
              "      <td>262.717340</td>\n",
              "      <td>rice</td>\n",
              "    </tr>\n",
              "  </tbody>\n",
              "</table>\n",
              "</div>\n",
              "      <button class=\"colab-df-convert\" onclick=\"convertToInteractive('df-279a850d-21bf-40b4-8ad2-5fb9a9dea971')\"\n",
              "              title=\"Convert this dataframe to an interactive table.\"\n",
              "              style=\"display:none;\">\n",
              "        \n",
              "  <svg xmlns=\"http://www.w3.org/2000/svg\" height=\"24px\"viewBox=\"0 0 24 24\"\n",
              "       width=\"24px\">\n",
              "    <path d=\"M0 0h24v24H0V0z\" fill=\"none\"/>\n",
              "    <path d=\"M18.56 5.44l.94 2.06.94-2.06 2.06-.94-2.06-.94-.94-2.06-.94 2.06-2.06.94zm-11 1L8.5 8.5l.94-2.06 2.06-.94-2.06-.94L8.5 2.5l-.94 2.06-2.06.94zm10 10l.94 2.06.94-2.06 2.06-.94-2.06-.94-.94-2.06-.94 2.06-2.06.94z\"/><path d=\"M17.41 7.96l-1.37-1.37c-.4-.4-.92-.59-1.43-.59-.52 0-1.04.2-1.43.59L10.3 9.45l-7.72 7.72c-.78.78-.78 2.05 0 2.83L4 21.41c.39.39.9.59 1.41.59.51 0 1.02-.2 1.41-.59l7.78-7.78 2.81-2.81c.8-.78.8-2.07 0-2.86zM5.41 20L4 18.59l7.72-7.72 1.47 1.35L5.41 20z\"/>\n",
              "  </svg>\n",
              "      </button>\n",
              "      \n",
              "  <style>\n",
              "    .colab-df-container {\n",
              "      display:flex;\n",
              "      flex-wrap:wrap;\n",
              "      gap: 12px;\n",
              "    }\n",
              "\n",
              "    .colab-df-convert {\n",
              "      background-color: #E8F0FE;\n",
              "      border: none;\n",
              "      border-radius: 50%;\n",
              "      cursor: pointer;\n",
              "      display: none;\n",
              "      fill: #1967D2;\n",
              "      height: 32px;\n",
              "      padding: 0 0 0 0;\n",
              "      width: 32px;\n",
              "    }\n",
              "\n",
              "    .colab-df-convert:hover {\n",
              "      background-color: #E2EBFA;\n",
              "      box-shadow: 0px 1px 2px rgba(60, 64, 67, 0.3), 0px 1px 3px 1px rgba(60, 64, 67, 0.15);\n",
              "      fill: #174EA6;\n",
              "    }\n",
              "\n",
              "    [theme=dark] .colab-df-convert {\n",
              "      background-color: #3B4455;\n",
              "      fill: #D2E3FC;\n",
              "    }\n",
              "\n",
              "    [theme=dark] .colab-df-convert:hover {\n",
              "      background-color: #434B5C;\n",
              "      box-shadow: 0px 1px 3px 1px rgba(0, 0, 0, 0.15);\n",
              "      filter: drop-shadow(0px 1px 2px rgba(0, 0, 0, 0.3));\n",
              "      fill: #FFFFFF;\n",
              "    }\n",
              "  </style>\n",
              "\n",
              "      <script>\n",
              "        const buttonEl =\n",
              "          document.querySelector('#df-279a850d-21bf-40b4-8ad2-5fb9a9dea971 button.colab-df-convert');\n",
              "        buttonEl.style.display =\n",
              "          google.colab.kernel.accessAllowed ? 'block' : 'none';\n",
              "\n",
              "        async function convertToInteractive(key) {\n",
              "          const element = document.querySelector('#df-279a850d-21bf-40b4-8ad2-5fb9a9dea971');\n",
              "          const dataTable =\n",
              "            await google.colab.kernel.invokeFunction('convertToInteractive',\n",
              "                                                     [key], {});\n",
              "          if (!dataTable) return;\n",
              "\n",
              "          const docLinkHtml = 'Like what you see? Visit the ' +\n",
              "            '<a target=\"_blank\" href=https://colab.research.google.com/notebooks/data_table.ipynb>data table notebook</a>'\n",
              "            + ' to learn more about interactive tables.';\n",
              "          element.innerHTML = '';\n",
              "          dataTable['output_type'] = 'display_data';\n",
              "          await google.colab.output.renderOutput(dataTable, element);\n",
              "          const docLink = document.createElement('div');\n",
              "          docLink.innerHTML = docLinkHtml;\n",
              "          element.appendChild(docLink);\n",
              "        }\n",
              "      </script>\n",
              "    </div>\n",
              "  </div>\n",
              "  "
            ]
          },
          "metadata": {},
          "execution_count": 195
        }
      ]
    },
    {
      "cell_type": "code",
      "source": [
        "df.tail()"
      ],
      "metadata": {
        "colab": {
          "base_uri": "https://localhost:8080/",
          "height": 206
        },
        "id": "pPW1IWEBXxSJ",
        "outputId": "8df45b4f-63c3-49d7-ff1f-87531c03d611"
      },
      "execution_count": 196,
      "outputs": [
        {
          "output_type": "execute_result",
          "data": {
            "text/plain": [
              "        N   P   K  temperature   humidity        ph    rainfall   label\n",
              "2195  107  34  32    26.774637  66.413269  6.780064  177.774507  coffee\n",
              "2196   99  15  27    27.417112  56.636362  6.086922  127.924610  coffee\n",
              "2197  118  33  30    24.131797  67.225123  6.362608  173.322839  coffee\n",
              "2198  117  32  34    26.272418  52.127394  6.758793  127.175293  coffee\n",
              "2199  104  18  30    23.603016  60.396475  6.779833  140.937041  coffee"
            ],
            "text/html": [
              "\n",
              "  <div id=\"df-b31fd282-2d4e-4445-89cf-269530abe5b5\">\n",
              "    <div class=\"colab-df-container\">\n",
              "      <div>\n",
              "<style scoped>\n",
              "    .dataframe tbody tr th:only-of-type {\n",
              "        vertical-align: middle;\n",
              "    }\n",
              "\n",
              "    .dataframe tbody tr th {\n",
              "        vertical-align: top;\n",
              "    }\n",
              "\n",
              "    .dataframe thead th {\n",
              "        text-align: right;\n",
              "    }\n",
              "</style>\n",
              "<table border=\"1\" class=\"dataframe\">\n",
              "  <thead>\n",
              "    <tr style=\"text-align: right;\">\n",
              "      <th></th>\n",
              "      <th>N</th>\n",
              "      <th>P</th>\n",
              "      <th>K</th>\n",
              "      <th>temperature</th>\n",
              "      <th>humidity</th>\n",
              "      <th>ph</th>\n",
              "      <th>rainfall</th>\n",
              "      <th>label</th>\n",
              "    </tr>\n",
              "  </thead>\n",
              "  <tbody>\n",
              "    <tr>\n",
              "      <th>2195</th>\n",
              "      <td>107</td>\n",
              "      <td>34</td>\n",
              "      <td>32</td>\n",
              "      <td>26.774637</td>\n",
              "      <td>66.413269</td>\n",
              "      <td>6.780064</td>\n",
              "      <td>177.774507</td>\n",
              "      <td>coffee</td>\n",
              "    </tr>\n",
              "    <tr>\n",
              "      <th>2196</th>\n",
              "      <td>99</td>\n",
              "      <td>15</td>\n",
              "      <td>27</td>\n",
              "      <td>27.417112</td>\n",
              "      <td>56.636362</td>\n",
              "      <td>6.086922</td>\n",
              "      <td>127.924610</td>\n",
              "      <td>coffee</td>\n",
              "    </tr>\n",
              "    <tr>\n",
              "      <th>2197</th>\n",
              "      <td>118</td>\n",
              "      <td>33</td>\n",
              "      <td>30</td>\n",
              "      <td>24.131797</td>\n",
              "      <td>67.225123</td>\n",
              "      <td>6.362608</td>\n",
              "      <td>173.322839</td>\n",
              "      <td>coffee</td>\n",
              "    </tr>\n",
              "    <tr>\n",
              "      <th>2198</th>\n",
              "      <td>117</td>\n",
              "      <td>32</td>\n",
              "      <td>34</td>\n",
              "      <td>26.272418</td>\n",
              "      <td>52.127394</td>\n",
              "      <td>6.758793</td>\n",
              "      <td>127.175293</td>\n",
              "      <td>coffee</td>\n",
              "    </tr>\n",
              "    <tr>\n",
              "      <th>2199</th>\n",
              "      <td>104</td>\n",
              "      <td>18</td>\n",
              "      <td>30</td>\n",
              "      <td>23.603016</td>\n",
              "      <td>60.396475</td>\n",
              "      <td>6.779833</td>\n",
              "      <td>140.937041</td>\n",
              "      <td>coffee</td>\n",
              "    </tr>\n",
              "  </tbody>\n",
              "</table>\n",
              "</div>\n",
              "      <button class=\"colab-df-convert\" onclick=\"convertToInteractive('df-b31fd282-2d4e-4445-89cf-269530abe5b5')\"\n",
              "              title=\"Convert this dataframe to an interactive table.\"\n",
              "              style=\"display:none;\">\n",
              "        \n",
              "  <svg xmlns=\"http://www.w3.org/2000/svg\" height=\"24px\"viewBox=\"0 0 24 24\"\n",
              "       width=\"24px\">\n",
              "    <path d=\"M0 0h24v24H0V0z\" fill=\"none\"/>\n",
              "    <path d=\"M18.56 5.44l.94 2.06.94-2.06 2.06-.94-2.06-.94-.94-2.06-.94 2.06-2.06.94zm-11 1L8.5 8.5l.94-2.06 2.06-.94-2.06-.94L8.5 2.5l-.94 2.06-2.06.94zm10 10l.94 2.06.94-2.06 2.06-.94-2.06-.94-.94-2.06-.94 2.06-2.06.94z\"/><path d=\"M17.41 7.96l-1.37-1.37c-.4-.4-.92-.59-1.43-.59-.52 0-1.04.2-1.43.59L10.3 9.45l-7.72 7.72c-.78.78-.78 2.05 0 2.83L4 21.41c.39.39.9.59 1.41.59.51 0 1.02-.2 1.41-.59l7.78-7.78 2.81-2.81c.8-.78.8-2.07 0-2.86zM5.41 20L4 18.59l7.72-7.72 1.47 1.35L5.41 20z\"/>\n",
              "  </svg>\n",
              "      </button>\n",
              "      \n",
              "  <style>\n",
              "    .colab-df-container {\n",
              "      display:flex;\n",
              "      flex-wrap:wrap;\n",
              "      gap: 12px;\n",
              "    }\n",
              "\n",
              "    .colab-df-convert {\n",
              "      background-color: #E8F0FE;\n",
              "      border: none;\n",
              "      border-radius: 50%;\n",
              "      cursor: pointer;\n",
              "      display: none;\n",
              "      fill: #1967D2;\n",
              "      height: 32px;\n",
              "      padding: 0 0 0 0;\n",
              "      width: 32px;\n",
              "    }\n",
              "\n",
              "    .colab-df-convert:hover {\n",
              "      background-color: #E2EBFA;\n",
              "      box-shadow: 0px 1px 2px rgba(60, 64, 67, 0.3), 0px 1px 3px 1px rgba(60, 64, 67, 0.15);\n",
              "      fill: #174EA6;\n",
              "    }\n",
              "\n",
              "    [theme=dark] .colab-df-convert {\n",
              "      background-color: #3B4455;\n",
              "      fill: #D2E3FC;\n",
              "    }\n",
              "\n",
              "    [theme=dark] .colab-df-convert:hover {\n",
              "      background-color: #434B5C;\n",
              "      box-shadow: 0px 1px 3px 1px rgba(0, 0, 0, 0.15);\n",
              "      filter: drop-shadow(0px 1px 2px rgba(0, 0, 0, 0.3));\n",
              "      fill: #FFFFFF;\n",
              "    }\n",
              "  </style>\n",
              "\n",
              "      <script>\n",
              "        const buttonEl =\n",
              "          document.querySelector('#df-b31fd282-2d4e-4445-89cf-269530abe5b5 button.colab-df-convert');\n",
              "        buttonEl.style.display =\n",
              "          google.colab.kernel.accessAllowed ? 'block' : 'none';\n",
              "\n",
              "        async function convertToInteractive(key) {\n",
              "          const element = document.querySelector('#df-b31fd282-2d4e-4445-89cf-269530abe5b5');\n",
              "          const dataTable =\n",
              "            await google.colab.kernel.invokeFunction('convertToInteractive',\n",
              "                                                     [key], {});\n",
              "          if (!dataTable) return;\n",
              "\n",
              "          const docLinkHtml = 'Like what you see? Visit the ' +\n",
              "            '<a target=\"_blank\" href=https://colab.research.google.com/notebooks/data_table.ipynb>data table notebook</a>'\n",
              "            + ' to learn more about interactive tables.';\n",
              "          element.innerHTML = '';\n",
              "          dataTable['output_type'] = 'display_data';\n",
              "          await google.colab.output.renderOutput(dataTable, element);\n",
              "          const docLink = document.createElement('div');\n",
              "          docLink.innerHTML = docLinkHtml;\n",
              "          element.appendChild(docLink);\n",
              "        }\n",
              "      </script>\n",
              "    </div>\n",
              "  </div>\n",
              "  "
            ]
          },
          "metadata": {},
          "execution_count": 196
        }
      ]
    },
    {
      "cell_type": "code",
      "source": [
        "df.size"
      ],
      "metadata": {
        "colab": {
          "base_uri": "https://localhost:8080/"
        },
        "id": "LJoakKbjXxUU",
        "outputId": "87ec088b-23fd-44af-fb94-3ad94cf562be"
      },
      "execution_count": 197,
      "outputs": [
        {
          "output_type": "execute_result",
          "data": {
            "text/plain": [
              "17600"
            ]
          },
          "metadata": {},
          "execution_count": 197
        }
      ]
    },
    {
      "cell_type": "code",
      "source": [
        "df.shape"
      ],
      "metadata": {
        "colab": {
          "base_uri": "https://localhost:8080/"
        },
        "id": "0VAj6DGsXxWp",
        "outputId": "9be68e91-1722-48fb-f43b-a0581901e51c"
      },
      "execution_count": 198,
      "outputs": [
        {
          "output_type": "execute_result",
          "data": {
            "text/plain": [
              "(2200, 8)"
            ]
          },
          "metadata": {},
          "execution_count": 198
        }
      ]
    },
    {
      "cell_type": "code",
      "source": [
        "df.columns"
      ],
      "metadata": {
        "colab": {
          "base_uri": "https://localhost:8080/"
        },
        "id": "uPSNZo1dXxZb",
        "outputId": "e86916b0-acda-4a07-d144-814216c9ae4c"
      },
      "execution_count": 199,
      "outputs": [
        {
          "output_type": "execute_result",
          "data": {
            "text/plain": [
              "Index(['N', 'P', 'K', 'temperature', 'humidity', 'ph', 'rainfall', 'label'], dtype='object')"
            ]
          },
          "metadata": {},
          "execution_count": 199
        }
      ]
    },
    {
      "cell_type": "code",
      "source": [
        "arr=df['label'].unique()"
      ],
      "metadata": {
        "id": "J0Ti4UOQXxb8"
      },
      "execution_count": 200,
      "outputs": []
    },
    {
      "cell_type": "code",
      "source": [
        "arr"
      ],
      "metadata": {
        "colab": {
          "base_uri": "https://localhost:8080/"
        },
        "id": "z58V1hChDg3R",
        "outputId": "c748a4b3-3cee-4a07-c9ae-e5e4d8e3c1ff"
      },
      "execution_count": 201,
      "outputs": [
        {
          "output_type": "execute_result",
          "data": {
            "text/plain": [
              "array(['rice', 'maize', 'chickpea', 'kidneybeans', 'pigeonpeas',\n",
              "       'mothbeans', 'mungbean', 'blackgram', 'lentil', 'pomegranate',\n",
              "       'banana', 'mango', 'grapes', 'watermelon', 'muskmelon', 'apple',\n",
              "       'orange', 'papaya', 'coconut', 'cotton', 'jute', 'coffee'],\n",
              "      dtype=object)"
            ]
          },
          "metadata": {},
          "execution_count": 201
        }
      ]
    },
    {
      "cell_type": "code",
      "source": [
        "arr.size"
      ],
      "metadata": {
        "colab": {
          "base_uri": "https://localhost:8080/"
        },
        "id": "u9wapnqqDjy3",
        "outputId": "8d175d5d-7867-459b-a6b9-58d1342ade23"
      },
      "execution_count": 202,
      "outputs": [
        {
          "output_type": "execute_result",
          "data": {
            "text/plain": [
              "22"
            ]
          },
          "metadata": {},
          "execution_count": 202
        }
      ]
    },
    {
      "cell_type": "code",
      "source": [
        "df.dtypes"
      ],
      "metadata": {
        "colab": {
          "base_uri": "https://localhost:8080/"
        },
        "id": "eYDowzUfXxee",
        "outputId": "a150164c-a7de-4759-8df8-307e80b7c756"
      },
      "execution_count": 203,
      "outputs": [
        {
          "output_type": "execute_result",
          "data": {
            "text/plain": [
              "N                int64\n",
              "P                int64\n",
              "K                int64\n",
              "temperature    float64\n",
              "humidity       float64\n",
              "ph             float64\n",
              "rainfall       float64\n",
              "label           object\n",
              "dtype: object"
            ]
          },
          "metadata": {},
          "execution_count": 203
        }
      ]
    },
    {
      "cell_type": "code",
      "source": [
        "df['label'].value_counts()"
      ],
      "metadata": {
        "colab": {
          "base_uri": "https://localhost:8080/"
        },
        "id": "1fV_Xsh5XxhE",
        "outputId": "1f7e6f22-cd5d-49e3-964a-3803826d0a3c"
      },
      "execution_count": 204,
      "outputs": [
        {
          "output_type": "execute_result",
          "data": {
            "text/plain": [
              "rice           100\n",
              "maize          100\n",
              "jute           100\n",
              "cotton         100\n",
              "coconut        100\n",
              "papaya         100\n",
              "orange         100\n",
              "apple          100\n",
              "muskmelon      100\n",
              "watermelon     100\n",
              "grapes         100\n",
              "mango          100\n",
              "banana         100\n",
              "pomegranate    100\n",
              "lentil         100\n",
              "blackgram      100\n",
              "mungbean       100\n",
              "mothbeans      100\n",
              "pigeonpeas     100\n",
              "kidneybeans    100\n",
              "chickpea       100\n",
              "coffee         100\n",
              "Name: label, dtype: int64"
            ]
          },
          "metadata": {},
          "execution_count": 204
        }
      ]
    },
    {
      "cell_type": "code",
      "source": [
        "sns.heatmap(df.corr(),annot=True)"
      ],
      "metadata": {
        "colab": {
          "base_uri": "https://localhost:8080/",
          "height": 339
        },
        "id": "7svLsIXiXxjh",
        "outputId": "9cda026f-b7a6-412a-d8b0-6fe54e5c62bb"
      },
      "execution_count": 205,
      "outputs": [
        {
          "output_type": "execute_result",
          "data": {
            "text/plain": [
              "<Axes: >"
            ]
          },
          "metadata": {},
          "execution_count": 205
        },
        {
          "output_type": "display_data",
          "data": {
            "text/plain": [
              "<Figure size 432x288 with 2 Axes>"
            ],
            "image/png": "[encoded data removed]"
          },
          "metadata": {
            "needs_background": "light"
          }
        }
      ]
    },
    {
      "cell_type": "code",
      "source": [
        "features = df[['N', 'P','K','temperature', 'humidity', 'ph', 'rainfall']]\n",
        "target = df['label']\n",
        "labels = df['label']"
      ],
      "metadata": {
        "id": "BUZiHamPXxl8"
      },
      "execution_count": 206,
      "outputs": []
    },
    {
      "cell_type": "code",
      "source": [
        "# Initializing empty lists to append all model's name and corresponding name\n",
        "acc = []\n",
        "modelName = []"
      ],
      "metadata": {
        "id": "bqCHDPDrXxoX"
      },
      "execution_count": 207,
      "outputs": []
    },
    {
      "cell_type": "code",
      "source": [
        "# Splitting into train and test data\n",
        "\n",
        "from sklearn.model_selection import train_test_split\n",
        "Xtrain, Xtest, Ytrain, Ytest = train_test_split(features,target,test_size = 0.3,random_state =2)"
      ],
      "metadata": {
        "id": "K-4SA5UmXxr3"
      },
      "execution_count": 208,
      "outputs": []
    },
    {
      "cell_type": "code",
      "source": [
        "from sklearn.tree import DecisionTreeClassifier\n",
        "\n",
        "DecisionTree = DecisionTreeClassifier(criterion=\"entropy\",random_state=2,max_depth=5)\n",
        "\n",
        "DecisionTree.fit(Xtrain,Ytrain)\n",
        "\n",
        "predicted_values = DecisionTree.predict(Xtest)\n",
        "x = metrics.accuracy_score(Ytest, predicted_values)\n",
        "acc.append(x)\n",
        "modelName.append('Decision Tree')\n",
        "print(\"DecisionTrees's Accuracy is: \", x*100)\n",
        "\n",
        "print(classification_report(Ytest,predicted_values))"
      ],
      "metadata": {
        "colab": {
          "base_uri": "https://localhost:8080/"
        },
        "id": "IXizYDB1Y3UU",
        "outputId": "3e0e40f0-3242-4dfb-c384-1ae614790abc"
      },
      "execution_count": 209,
      "outputs": [
        {
          "output_type": "stream",
          "name": "stdout",
          "text": [
            "DecisionTrees's Accuracy is:  85.9090909090909\n",
            "              precision    recall  f1-score   support\n",
            "\n",
            "       apple       1.00      1.00      1.00        28\n",
            "      banana       1.00      1.00      1.00        26\n",
            "   blackgram       0.65      1.00      0.79        28\n",
            "    chickpea       1.00      1.00      1.00        29\n",
            "     coconut       0.94      1.00      0.97        31\n",
            "      coffee       1.00      1.00      1.00        33\n",
            "      cotton       1.00      0.97      0.98        31\n",
            "      grapes       1.00      1.00      1.00        29\n",
            "        jute       0.50      0.03      0.06        33\n",
            " kidneybeans       0.00      0.00      0.00        30\n",
            "      lentil       0.63      1.00      0.77        32\n",
            "       maize       0.97      1.00      0.98        32\n",
            "       mango       1.00      1.00      1.00        33\n",
            "   mothbeans       0.00      0.00      0.00        29\n",
            "    mungbean       1.00      1.00      1.00        32\n",
            "   muskmelon       1.00      1.00      1.00        30\n",
            "      orange       1.00      1.00      1.00        42\n",
            "      papaya       1.00      1.00      1.00        30\n",
            "  pigeonpeas       0.55      1.00      0.71        31\n",
            " pomegranate       1.00      1.00      1.00        19\n",
            "        rice       0.49      0.97      0.65        30\n",
            "  watermelon       1.00      1.00      1.00        22\n",
            "\n",
            "    accuracy                           0.86       660\n",
            "   macro avg       0.81      0.86      0.81       660\n",
            "weighted avg       0.80      0.86      0.81       660\n",
            "\n"
          ]
        }
      ]
    },
    {
      "cell_type": "code",
      "source": [
        "from sklearn.model_selection import cross_val_score"
      ],
      "metadata": {
        "id": "VyvFMflXY3Wh"
      },
      "execution_count": 210,
      "outputs": []
    },
    {
      "cell_type": "code",
      "source": [
        "# Cross validation score (Decision Tree)\n",
        "score = cross_val_score(DecisionTree, features, target,cv=5)"
      ],
      "metadata": {
        "id": "_KiWh4xbY3ZR"
      },
      "execution_count": 211,
      "outputs": []
    },
    {
      "cell_type": "code",
      "source": [
        "score"
      ],
      "metadata": {
        "colab": {
          "base_uri": "https://localhost:8080/"
        },
        "id": "uuFxM3a0Y3bc",
        "outputId": "f81d3669-955a-419d-cbf5-7318220d3ef8"
      },
      "execution_count": 212,
      "outputs": [
        {
          "output_type": "execute_result",
          "data": {
            "text/plain": [
              "array([0.93636364, 0.90909091, 0.91818182, 0.87045455, 0.93636364])"
            ]
          },
          "metadata": {},
          "execution_count": 212
        }
      ]
    },
    {
      "cell_type": "code",
      "source": [
        "import pickle\n",
        "# Dump the trained Naive Bayes classifier with Pickle\n",
        "DT_pkl_filename = 'DecisionTree.pkl'\n",
        "# Open the file to save as pkl file\n",
        "DT_Model_pkl = open(DT_pkl_filename, 'wb')\n",
        "pickle.dump(DecisionTree, DT_Model_pkl)\n",
        "# Close the pickle instances\n",
        "DT_Model_pkl.close()"
      ],
      "metadata": {
        "id": "xvsN0qIlY3d7"
      },
      "execution_count": 213,
      "outputs": []
    },
    {
      "cell_type": "code",
      "source": [
        "from sklearn.naive_bayes import GaussianNB\n",
        "\n",
        "NaiveBayes = GaussianNB()\n",
        "\n",
        "NaiveBayes.fit(Xtrain,Ytrain)\n",
        "\n",
        "predicted_values = NaiveBayes.predict(Xtest)\n",
        "x = metrics.accuracy_score(Ytest, predicted_values)\n",
        "acc.append(x)\n",
        "modelName.append('Naive Bayes')\n",
        "print(\"Naive Bayes's Accuracy is: \", x)\n",
        "\n",
        "print(classification_report(Ytest,predicted_values))"
      ],
      "metadata": {
        "colab": {
          "base_uri": "https://localhost:8080/"
        },
        "id": "s8T51LO9Y3gX",
        "outputId": "d5b86853-ba2d-4f91-ff42-68892633e9a7"
      },
      "execution_count": 214,
      "outputs": [
        {
          "output_type": "stream",
          "name": "stdout",
          "text": [
            "Naive Bayes's Accuracy is:  0.9924242424242424\n",
            "              precision    recall  f1-score   support\n",
            "\n",
            "       apple       1.00      1.00      1.00        28\n",
            "      banana       1.00      1.00      1.00        26\n",
            "   blackgram       1.00      1.00      1.00        28\n",
            "    chickpea       1.00      1.00      1.00        29\n",
            "     coconut       1.00      1.00      1.00        31\n",
            "      coffee       1.00      1.00      1.00        33\n",
            "      cotton       1.00      1.00      1.00        31\n",
            "      grapes       1.00      1.00      1.00        29\n",
            "        jute       0.89      0.97      0.93        33\n",
            " kidneybeans       1.00      1.00      1.00        30\n",
            "      lentil       1.00      1.00      1.00        32\n",
            "       maize       1.00      1.00      1.00        32\n",
            "       mango       1.00      1.00      1.00        33\n",
            "   mothbeans       1.00      1.00      1.00        29\n",
            "    mungbean       1.00      1.00      1.00        32\n",
            "   muskmelon       1.00      1.00      1.00        30\n",
            "      orange       1.00      1.00      1.00        42\n",
            "      papaya       1.00      1.00      1.00        30\n",
            "  pigeonpeas       1.00      1.00      1.00        31\n",
            " pomegranate       1.00      1.00      1.00        19\n",
            "        rice       0.96      0.87      0.91        30\n",
            "  watermelon       1.00      1.00      1.00        22\n",
            "\n",
            "    accuracy                           0.99       660\n",
            "   macro avg       0.99      0.99      0.99       660\n",
            "weighted avg       0.99      0.99      0.99       660\n",
            "\n"
          ]
        }
      ]
    },
    {
      "cell_type": "code",
      "source": [
        "# Cross validation score (NaiveBayes)\n",
        "score = cross_val_score(NaiveBayes,features,target,cv=5)\n",
        "score"
      ],
      "metadata": {
        "colab": {
          "base_uri": "https://localhost:8080/"
        },
        "id": "8Y6KexbOY3iw",
        "outputId": "f2515974-b86f-491b-c19b-51b23365d6e1"
      },
      "execution_count": 215,
      "outputs": [
        {
          "output_type": "execute_result",
          "data": {
            "text/plain": [
              "array([0.99772727, 0.99545455, 0.99545455, 0.99545455, 0.99090909])"
            ]
          },
          "metadata": {},
          "execution_count": 215
        }
      ]
    },
    {
      "cell_type": "code",
      "source": [
        "import pickle\n",
        "# Dump the trained Naive Bayes classifier with Pickle\n",
        "NB_pkl_filename = 'NBClassifier.pkl'\n",
        "# Open the file to save as pkl file\n",
        "NB_Model_pkl = open(NB_pkl_filename, 'wb')\n",
        "pickle.dump(NaiveBayes, NB_Model_pkl)\n",
        "# Close the pickle instances\n",
        "NB_Model_pkl.close()"
      ],
      "metadata": {
        "id": "EvSYbblkY3lQ"
      },
      "execution_count": 216,
      "outputs": []
    },
    {
      "cell_type": "code",
      "source": [
        "from sklearn.linear_model import LogisticRegression\n",
        "\n",
        "LogReg = LogisticRegression(random_state=2)\n",
        "\n",
        "LogReg.fit(Xtrain,Ytrain)\n",
        "\n",
        "predicted_values = LogReg.predict(Xtest)\n",
        "\n",
        "x = metrics.accuracy_score(Ytest, predicted_values)\n",
        "acc.append(x)\n",
        "modelName.append('Logistic Regression')\n",
        "print(\"Logistic Regression's Accuracy is: \", x)\n",
        "\n",
        "print(classification_report(Ytest,predicted_values))"
      ],
      "metadata": {
        "colab": {
          "base_uri": "https://localhost:8080/"
        },
        "id": "RA3cvgMGZTJH",
        "outputId": "24a0cbf7-ee60-4992-c538-c0141ea2dc81"
      },
      "execution_count": 217,
      "outputs": [
        {
          "output_type": "stream",
          "name": "stdout",
          "text": [
            "Logistic Regression's Accuracy is:  0.9621212121212122\n",
            "              precision    recall  f1-score   support\n",
            "\n",
            "       apple       1.00      1.00      1.00        28\n",
            "      banana       1.00      1.00      1.00        26\n",
            "   blackgram       0.92      0.82      0.87        28\n",
            "    chickpea       1.00      1.00      1.00        29\n",
            "     coconut       1.00      1.00      1.00        31\n",
            "      coffee       1.00      1.00      1.00        33\n",
            "      cotton       0.91      0.94      0.92        31\n",
            "      grapes       1.00      1.00      1.00        29\n",
            "        jute       0.86      0.94      0.90        33\n",
            " kidneybeans       0.97      1.00      0.98        30\n",
            "      lentil       0.91      1.00      0.96        32\n",
            "       maize       0.94      0.91      0.92        32\n",
            "       mango       0.97      1.00      0.99        33\n",
            "   mothbeans       0.83      0.83      0.83        29\n",
            "    mungbean       1.00      1.00      1.00        32\n",
            "   muskmelon       1.00      1.00      1.00        30\n",
            "      orange       1.00      1.00      1.00        42\n",
            "      papaya       0.97      0.93      0.95        30\n",
            "  pigeonpeas       1.00      0.97      0.98        31\n",
            " pomegranate       1.00      1.00      1.00        19\n",
            "        rice       0.93      0.83      0.88        30\n",
            "  watermelon       1.00      1.00      1.00        22\n",
            "\n",
            "    accuracy                           0.96       660\n",
            "   macro avg       0.96      0.96      0.96       660\n",
            "weighted avg       0.96      0.96      0.96       660\n",
            "\n"
          ]
        }
      ]
    },
    {
      "cell_type": "code",
      "source": [
        "# Cross validation score (Logistic Regression)\n",
        "score = cross_val_score(LogReg,features,target,cv=5)\n",
        "score"
      ],
      "metadata": {
        "colab": {
          "base_uri": "https://localhost:8080/"
        },
        "id": "yzXM538oZTLl",
        "outputId": "2ad20c9f-7a49-442d-ddf1-fdf2478cc191"
      },
      "execution_count": 218,
      "outputs": [
        {
          "output_type": "execute_result",
          "data": {
            "text/plain": [
              "array([0.95      , 0.96590909, 0.94772727, 0.96590909, 0.94318182])"
            ]
          },
          "metadata": {},
          "execution_count": 218
        }
      ]
    },
    {
      "cell_type": "code",
      "source": [
        "import pickle\n",
        "# Dump the trained Naive Bayes classifier with Pickle\n",
        "LR_pkl_filename = 'LogisticRegression.pkl'\n",
        "# Open the file to save as pkl file\n",
        "LR_Model_pkl = open(DT_pkl_filename, 'wb')\n",
        "pickle.dump(LogReg, LR_Model_pkl)\n",
        "# Close the pickle instances\n",
        "LR_Model_pkl.close()"
      ],
      "metadata": {
        "id": "a2umVhn0ZTN6"
      },
      "execution_count": 219,
      "outputs": []
    },
    {
      "cell_type": "code",
      "source": [
        "from sklearn.ensemble import RandomForestClassifier\n",
        "\n",
        "RF = RandomForestClassifier(n_estimators=20, random_state=0)\n",
        "RF.fit(Xtrain,Ytrain)\n",
        "\n",
        "predicted_values = RF.predict(Xtest)\n",
        "\n",
        "x = metrics.accuracy_score(Ytest, predicted_values)\n",
        "acc.append(x)\n",
        "modelName.append('RF')\n",
        "print(\"RF's Accuracy is: \", x)\n",
        "\n",
        "print(classification_report(Ytest,predicted_values))"
      ],
      "metadata": {
        "colab": {
          "base_uri": "https://localhost:8080/"
        },
        "id": "pBPmil_NZTQD",
        "outputId": "1263b761-2b37-40a0-de1b-a031a3159469"
      },
      "execution_count": 220,
      "outputs": [
        {
          "output_type": "stream",
          "name": "stdout",
          "text": [
            "RF's Accuracy is:  0.9893939393939394\n",
            "              precision    recall  f1-score   support\n",
            "\n",
            "       apple       1.00      1.00      1.00        28\n",
            "      banana       1.00      1.00      1.00        26\n",
            "   blackgram       0.97      1.00      0.98        28\n",
            "    chickpea       1.00      1.00      1.00        29\n",
            "     coconut       1.00      1.00      1.00        31\n",
            "      coffee       1.00      1.00      1.00        33\n",
            "      cotton       1.00      1.00      1.00        31\n",
            "      grapes       1.00      1.00      1.00        29\n",
            "        jute       0.89      0.94      0.91        33\n",
            " kidneybeans       1.00      1.00      1.00        30\n",
            "      lentil       1.00      1.00      1.00        32\n",
            "       maize       1.00      1.00      1.00        32\n",
            "       mango       1.00      1.00      1.00        33\n",
            "   mothbeans       1.00      0.97      0.98        29\n",
            "    mungbean       1.00      1.00      1.00        32\n",
            "   muskmelon       1.00      1.00      1.00        30\n",
            "      orange       1.00      1.00      1.00        42\n",
            "      papaya       1.00      1.00      1.00        30\n",
            "  pigeonpeas       1.00      1.00      1.00        31\n",
            " pomegranate       1.00      1.00      1.00        19\n",
            "        rice       0.93      0.87      0.90        30\n",
            "  watermelon       1.00      1.00      1.00        22\n",
            "\n",
            "    accuracy                           0.99       660\n",
            "   macro avg       0.99      0.99      0.99       660\n",
            "weighted avg       0.99      0.99      0.99       660\n",
            "\n"
          ]
        }
      ]
    },
    {
      "cell_type": "code",
      "source": [
        "# Cross validation score (Random Forest)\n",
        "score = cross_val_score(RF,features,target,cv=5)\n",
        "score"
      ],
      "metadata": {
        "colab": {
          "base_uri": "https://localhost:8080/"
        },
        "id": "_3uvwcUCZTRu",
        "outputId": "1dceb4f0-8d34-48e6-8c83-24a5ebc06282"
      },
      "execution_count": 221,
      "outputs": [
        {
          "output_type": "execute_result",
          "data": {
            "text/plain": [
              "array([0.99772727, 0.99545455, 0.99772727, 0.99318182, 0.98863636])"
            ]
          },
          "metadata": {},
          "execution_count": 221
        }
      ]
    },
    {
      "cell_type": "code",
      "source": [
        "import pickle\n",
        "# Dump the trained Naive Bayes classifier with Pickle\n",
        "RF_pkl_filename = 'RandomForest.pkl'\n",
        "# Open the file to save as pkl file\n",
        "RF_Model_pkl = open(RF_pkl_filename, 'wb')\n",
        "pickle.dump(RF, RF_Model_pkl)\n",
        "# Close the pickle instances\n",
        "RF_Model_pkl.close()"
      ],
      "metadata": {
        "id": "RICBCDOiZTVO"
      },
      "execution_count": 222,
      "outputs": []
    },
    {
      "cell_type": "code",
      "source": [
        "import xgboost as xgb\n",
        "#pip install 'scikit-learn==0.15'\n",
        "from sklearn.preprocessing import LabelEncoder\n",
        "le = LabelEncoder()\n",
        "y_train = le.fit_transform(Ytrain)\n",
        "XB = xgb.XGBClassifier()\n",
        "XB.fit(Xtrain,y_train)\n",
        " \n",
        "\n",
        "y_pred = XB.predict(Xtest)\n",
        "y_pred = le.inverse_transform(y_pred)\n",
        "\n",
        "x = metrics.accuracy_score(Ytest, y_pred)\n",
        "acc.append(x)"
      ],
      "metadata": {
        "id": "-LBnc6tdZTYq"
      },
      "execution_count": 223,
      "outputs": []
    },
    {
      "cell_type": "code",
      "source": [
        "modelName.append('XGBoost')\n",
        "print(\"XGBoost's Accuracy is: \", x)\n",
        "\n",
        "print(classification_report(Ytest.astype(str) , y_pred.astype(str)))"
      ],
      "metadata": {
        "colab": {
          "base_uri": "https://localhost:8080/"
        },
        "id": "J-6_DCrGGAv5",
        "outputId": "2c20b5f7-ca10-4535-980a-70cfe433c114"
      },
      "execution_count": 224,
      "outputs": [
        {
          "output_type": "stream",
          "name": "stdout",
          "text": [
            "XGBoost's Accuracy is:  0.9954545454545455\n",
            "              precision    recall  f1-score   support\n",
            "\n",
            "       apple       1.00      1.00      1.00        28\n",
            "      banana       1.00      1.00      1.00        26\n",
            "   blackgram       1.00      1.00      1.00        28\n",
            "    chickpea       1.00      1.00      1.00        29\n",
            "     coconut       1.00      1.00      1.00        31\n",
            "      coffee       0.97      1.00      0.99        33\n",
            "      cotton       1.00      1.00      1.00        31\n",
            "      grapes       1.00      1.00      1.00        29\n",
            "        jute       1.00      0.91      0.95        33\n",
            " kidneybeans       1.00      1.00      1.00        30\n",
            "      lentil       1.00      1.00      1.00        32\n",
            "       maize       1.00      1.00      1.00        32\n",
            "       mango       1.00      1.00      1.00        33\n",
            "   mothbeans       1.00      1.00      1.00        29\n",
            "    mungbean       1.00      1.00      1.00        32\n",
            "   muskmelon       1.00      1.00      1.00        30\n",
            "      orange       1.00      1.00      1.00        42\n",
            "      papaya       1.00      1.00      1.00        30\n",
            "  pigeonpeas       1.00      1.00      1.00        31\n",
            " pomegranate       1.00      1.00      1.00        19\n",
            "        rice       0.94      1.00      0.97        30\n",
            "  watermelon       1.00      1.00      1.00        22\n",
            "\n",
            "    accuracy                           1.00       660\n",
            "   macro avg       1.00      1.00      1.00       660\n",
            "weighted avg       1.00      1.00      1.00       660\n",
            "\n"
          ]
        }
      ]
    },
    {
      "cell_type": "code",
      "source": [
        "# Cross validation score (XGBoost)\n",
        "XB_target=le.fit_transform(target)\n",
        "score = cross_val_score(XB, features, XB_target, cv=5)\n",
        "score"
      ],
      "metadata": {
        "id": "5MpIfNA7ZTaa",
        "colab": {
          "base_uri": "https://localhost:8080/"
        },
        "outputId": "48d5a79e-2def-4196-9e43-93a816f8a70c"
      },
      "execution_count": 225,
      "outputs": [
        {
          "output_type": "execute_result",
          "data": {
            "text/plain": [
              "array([0.99318182, 0.99318182, 0.99318182, 0.99090909, 0.99090909])"
            ]
          },
          "metadata": {},
          "execution_count": 225
        }
      ]
    },
    {
      "cell_type": "code",
      "source": [
        "import pickle\n",
        "# Dump the trained Naive Bayes classifier with Pickle\n",
        "XB_pkl_filename = 'XGBoost.pkl'\n",
        "# Open the file to save as pkl file\n",
        "XB_Model_pkl = open(XB_pkl_filename, 'wb')\n",
        "pickle.dump(XB, XB_Model_pkl)\n",
        "# Close the pickle instances\n",
        "XB_Model_pkl.close()"
      ],
      "metadata": {
        "id": "B4Ds0k9gZTd5"
      },
      "execution_count": 226,
      "outputs": []
    },
    {
      "cell_type": "code",
      "source": [
        "plt.figure(figsize=[10,5],dpi = 100)\n",
        "plt.title('Accuracy Comparison')\n",
        "plt.xlabel('Accuracy')\n",
        "plt.ylabel('Algorithm')\n",
        "sns.barplot(x = acc,y =modelName,palette='dark')"
      ],
      "metadata": {
        "colab": {
          "base_uri": "https://localhost:8080/",
          "height": 364
        },
        "id": "MS_BslsyCF22",
        "outputId": "0a662ad3-9e68-41d3-9905-1e5f7e6c2a36"
      },
      "execution_count": 227,
      "outputs": [
        {
          "output_type": "execute_result",
          "data": {
            "text/plain": [
              "<Axes: title={'center': 'Accuracy Comparison'}, xlabel='Accuracy', ylabel='Algorithm'>"
            ]
          },
          "metadata": {},
          "execution_count": 227
        },
        {
          "output_type": "display_data",
          "data": {
            "text/plain": [
              "<Figure size 1000x500 with 1 Axes>"
            ],
            "image/png": "[encoded data removed]"
          },
          "metadata": {
            "needs_background": "light"
          }
        }
      ]
    },
    {
      "cell_type": "code",
      "source": [
        "accuracy_models = dict(zip(modelName, acc))\n",
        "for k, v in accuracy_models.items():\n",
        "    print (k, '-->', v)"
      ],
      "metadata": {
        "id": "OYMdTXWeZpU4",
        "colab": {
          "base_uri": "https://localhost:8080/"
        },
        "outputId": "dbef2961-c098-4419-ae1d-94cb8a363d38"
      },
      "execution_count": 228,
      "outputs": [
        {
          "output_type": "stream",
          "name": "stdout",
          "text": [
            "Decision Tree --> 0.8590909090909091\n",
            "Naive Bayes --> 0.9924242424242424\n",
            "Logistic Regression --> 0.9621212121212122\n",
            "RF --> 0.9893939393939394\n",
            "XGBoost --> 0.9954545454545455\n"
          ]
        }
      ]
    },
    {
      "cell_type": "code",
      "source": [
        "data = np.array([[104,18, 30, 23.603016, 60.3, 6.7, 140.91]])\n",
        "prediction = RF.predict(data)\n",
        "print(prediction)"
      ],
      "metadata": {
        "id": "pzSepb5dZpXE",
        "colab": {
          "base_uri": "https://localhost:8080/"
        },
        "outputId": "456c0b4b-c730-4f5c-a87a-14e72ac8a496"
      },
      "execution_count": 229,
      "outputs": [
        {
          "output_type": "stream",
          "name": "stdout",
          "text": [
            "['coffee']\n"
          ]
        }
      ]
    },
    {
      "cell_type": "code",
      "source": [
        "data = np.array([[83, 45, 60, 28, 70.3, 7.0, 150.9]])\n",
        "prediction = RF.predict(data)\n",
        "print(prediction)"
      ],
      "metadata": {
        "id": "gGPDvURgZpac",
        "colab": {
          "base_uri": "https://localhost:8080/"
        },
        "outputId": "5b8153dc-be56-4c4b-8d81-70241f3dfc72"
      },
      "execution_count": 230,
      "outputs": [
        {
          "output_type": "stream",
          "name": "stdout",
          "text": [
            "['jute']\n"
          ]
        }
      ]
    },
    {
      "cell_type": "markdown",
      "source": [
        "Max Voting\n",
        "\n",
        "\n",
        "The max voting method is generally used for classification problems. In this technique, multiple models are used to make predictions for each data point. The predictions by each model are considered as a ‘vote’. The predictions which we get from the majority of the models are used as the final prediction.\n",
        "\n",
        "For example, when you asked 5 of your colleagues to rate your movie (out of 5); we’ll assume three of them rated it as 4 while two of them gave it a 5. Since the majority gave a rating of 4, the final rating will be taken as 4. You can consider this as taking the mode of all the predictions."
      ],
      "metadata": {
        "id": "eQnCnrtubLuk"
      }
    },
    {
      "cell_type": "markdown",
      "source": [
        "# Ensembling the RandomForestClassifier with others and comparing the accuracy"
      ],
      "metadata": {
        "id": "LYdf_Zk3HtES"
      }
    },
    {
      "cell_type": "code",
      "source": [
        "acc1=[]\n",
        "modelName1=[]\n",
        "\n",
        "for i in acc:\n",
        "  acc1.append(i)\n",
        "\n",
        "for i in modelName:\n",
        "  modelName1.append(i); \n",
        "\n",
        "acc=[]\n",
        "modelName=[]"
      ],
      "metadata": {
        "id": "Xkirb-3WKkvP"
      },
      "execution_count": 231,
      "outputs": []
    },
    {
      "cell_type": "code",
      "source": [
        "from sklearn.ensemble import VotingClassifier\n",
        "model1 = RandomForestClassifier(random_state=1)\n",
        "model2 = tree.DecisionTreeClassifier(random_state=1)\n",
        "model = VotingClassifier(estimators=[('lr', model1), ('dt', model2)], voting='hard')\n",
        "model.fit(Xtrain,Ytrain) \n",
        "x=model.score(Xtest,Ytest)\n",
        "acc.append(x)\n",
        "modelName.append(\"RandomForestClassifier-DecisionTree\")"
      ],
      "metadata": {
        "id": "_SN8_YLSbKw-"
      },
      "execution_count": 232,
      "outputs": []
    },
    {
      "cell_type": "code",
      "source": [
        "from sklearn.ensemble import VotingClassifier\n",
        "model1 = RandomForestClassifier(random_state=1)\n",
        "model2 = xgb.XGBClassifier()\n",
        "model = VotingClassifier(estimators=[('lr', model1), ('dt', model2)], voting='hard')\n",
        "model.fit(Xtrain,Ytrain) \n",
        "x=model.score(Xtest,Ytest)\n",
        "acc.append(x)\n",
        "modelName.append(\"RandomForestClassifier-XGBClassifier\")"
      ],
      "metadata": {
        "id": "04VsnUTcbKzo"
      },
      "execution_count": 233,
      "outputs": []
    },
    {
      "cell_type": "code",
      "source": [
        "from sklearn.ensemble import VotingClassifier\n",
        "model1 = RandomForestClassifier(random_state=1)\n",
        "model2 =GaussianNB()\n",
        "model = VotingClassifier(estimators=[('lr', model1), ('dt', model2)], voting='hard')\n",
        "model.fit(Xtrain,Ytrain)\n",
        "x=model.score(Xtest,Ytest)\n",
        "acc.append(x)\n",
        "modelName.append(\"RandomForestClassifier-GaussianNB\")"
      ],
      "metadata": {
        "id": "WT8RqwcDbK2V"
      },
      "execution_count": 234,
      "outputs": []
    },
    {
      "cell_type": "code",
      "source": [
        "from sklearn.ensemble import VotingClassifier\n",
        "model1 = RandomForestClassifier(random_state=1)\n",
        "model2 = LogisticRegression(random_state=1)\n",
        "model = VotingClassifier(estimators=[('lr', model1), ('dt', model2)], voting='hard')\n",
        "model.fit(Xtrain,Ytrain)\n",
        "model.score(Xtest,Ytest)\n",
        "x=model.score(Xtest,Ytest)\n",
        "acc.append(x)\n",
        "modelName.append(\"RandomForestClassifier-LogisticRegression\")"
      ],
      "metadata": {
        "id": "jF7lzQDFbK7O"
      },
      "execution_count": 235,
      "outputs": []
    },
    {
      "cell_type": "markdown",
      "source": [
        "# Ensembling the LogisticRegression with others models and check the accuracy"
      ],
      "metadata": {
        "id": "OGCok3Z-H-ja"
      }
    },
    {
      "cell_type": "code",
      "source": [
        "from sklearn.ensemble import VotingClassifier\n",
        "model1 = LogisticRegression(random_state=1)\n",
        "model2 = tree.DecisionTreeClassifier(random_state=1)\n",
        "model = VotingClassifier(estimators=[('lr', model1), ('dt', model2)], voting='hard')\n",
        "model.fit(Xtrain,Ytrain)\n",
        "x=model.score(Xtest,Ytest)\n",
        "acc.append(x)\n",
        "modelName.append(\"LogisticRegression-DecisionTree\")"
      ],
      "metadata": {
        "id": "_2giGoP-bKuZ"
      },
      "execution_count": 236,
      "outputs": []
    },
    {
      "cell_type": "code",
      "source": [
        "from sklearn.ensemble import VotingClassifier\n",
        "model1 = GaussianNB()\n",
        "model2 = LogisticRegression(random_state=1)\n",
        "model = VotingClassifier(estimators=[('lr', model1), ('dt', model2)], voting='hard')\n",
        "model.fit(Xtrain,Ytrain)\n",
        "x=model.score(Xtest,Ytest)\n",
        "acc.append(x)\n",
        "modelName.append(\"LogisticRegression-GaussianNB\")"
      ],
      "metadata": {
        "id": "krKs9tFwbK9m"
      },
      "execution_count": 237,
      "outputs": []
    },
    {
      "cell_type": "code",
      "source": [
        "from sklearn.ensemble import VotingClassifier\n",
        "model1 = xgb.XGBClassifier()\n",
        "model2 = LogisticRegression(random_state=1)\n",
        "model = VotingClassifier(estimators=[('lr', model1), ('dt', model2)], voting='hard')\n",
        "model.fit(Xtrain,Ytrain)\n",
        "x=model.score(Xtest,Ytest)\n",
        "acc.append(x)\n",
        "modelName.append(\"LogisticRegression-GaussianNB\") "
      ],
      "metadata": {
        "id": "v7-stwOfbLAS"
      },
      "execution_count": 238,
      "outputs": []
    },
    {
      "cell_type": "markdown",
      "source": [
        "# Ensemble the GuassianNB with other models"
      ],
      "metadata": {
        "id": "TAnc9KEXJdDr"
      }
    },
    {
      "cell_type": "code",
      "source": [
        "from sklearn.ensemble import VotingClassifier\n",
        "model1 = GaussianNB()\n",
        "model2 = tree.DecisionTreeClassifier(random_state=1)\n",
        "model = VotingClassifier(estimators=[('lr', model1), ('dt', model2)], voting='hard')\n",
        "model.fit(Xtrain,Ytrain) \n",
        "x=model.score(Xtest,Ytest)\n",
        "acc.append(x)\n",
        "modelName.append(\"GaussianNB-DecisionTree\") "
      ],
      "metadata": {
        "id": "LYzELkYcbLFl"
      },
      "execution_count": 239,
      "outputs": []
    },
    {
      "cell_type": "code",
      "source": [
        "from sklearn.ensemble import VotingClassifier\n",
        "model1 = GaussianNB()\n",
        "model2 = xgb.XGBClassifier()\n",
        "model = VotingClassifier(estimators=[('lr', model1), ('dt', model2)], voting='hard')\n",
        "model.fit(Xtrain,Ytrain)\n",
        "x=model.score(Xtest,Ytest)\n",
        "acc.append(x)\n",
        "modelName.append(\"GaussianNB-XGBClassifier\") "
      ],
      "metadata": {
        "id": "_zvzGt5WbLJD"
      },
      "execution_count": 240,
      "outputs": []
    },
    {
      "cell_type": "markdown",
      "source": [
        "Now by voting we have compare the pair of 2-2 algorithms, lets check the accuracy of each combination"
      ],
      "metadata": {
        "id": "9wzKirQgKSNu"
      }
    },
    {
      "cell_type": "code",
      "source": [
        "accuracy_models = dict(zip(modelName, acc))\n",
        "for k, v in accuracy_models.items():\n",
        "    print (k, '-->', v)"
      ],
      "metadata": {
        "colab": {
          "base_uri": "https://localhost:8080/"
        },
        "id": "88mX7dEBK5ls",
        "outputId": "4d7b8e3a-10db-40a5-9f61-d5e4ab499040"
      },
      "execution_count": 241,
      "outputs": [
        {
          "output_type": "stream",
          "name": "stdout",
          "text": [
            "RandomForestClassifier-DecisionTree --> 0.990909090909091\n",
            "RandomForestClassifier-XGBClassifier --> 0.9939393939393939\n",
            "RandomForestClassifier-GaussianNB --> 0.9939393939393939\n",
            "RandomForestClassifier-LogisticRegression --> 0.9772727272727273\n",
            "LogisticRegression-DecisionTree --> 0.9727272727272728\n",
            "LogisticRegression-GaussianNB --> 0.9742424242424242\n",
            "GaussianNB-DecisionTree --> 0.9893939393939394\n",
            "GaussianNB-XGBClassifier --> 0.990909090909091\n"
          ]
        }
      ]
    },
    {
      "cell_type": "code",
      "source": [
        "plt.figure(figsize=[15,10],dpi = 100)\n",
        "plt.title('Accuracy Comparison')\n",
        "plt.xlabel('Accuracy')\n",
        "plt.ylabel('Algorithm')\n",
        "sns.barplot(x = acc,y =modelName,palette='dark')"
      ],
      "metadata": {
        "colab": {
          "base_uri": "https://localhost:8080/",
          "height": 411
        },
        "id": "JRp7Kuf-LHud",
        "outputId": "1c3a59d8-2847-4589-f917-d202ec6792c5"
      },
      "execution_count": 242,
      "outputs": [
        {
          "output_type": "execute_result",
          "data": {
            "text/plain": [
              "<Axes: title={'center': 'Accuracy Comparison'}, xlabel='Accuracy', ylabel='Algorithm'>"
            ]
          },
          "metadata": {},
          "execution_count": 242
        },
        {
          "output_type": "display_data",
          "data": {
            "text/plain": [
              "<Figure size 1500x1000 with 1 Axes>"
            ],
            "image/png": "[encoded data removed]"
          },
          "metadata": {
            "needs_background": "light"
          }
        }
      ]
    },
    {
      "cell_type": "markdown",
      "source": [
        "# Now by using the voting lets combine 3 algorithms togther and check their accuracy"
      ],
      "metadata": {
        "id": "x_MJfdnzLSp7"
      }
    },
    {
      "cell_type": "code",
      "source": [
        "\n",
        "for i in acc:\n",
        "  acc1.append(i)\n",
        "\n",
        "for i in modelName:\n",
        "  modelName1.append(i); \n",
        "\n",
        "acc=[]\n",
        "modelName=[]"
      ],
      "metadata": {
        "id": "U1dbhomPNVCb"
      },
      "execution_count": 243,
      "outputs": []
    },
    {
      "cell_type": "code",
      "source": [
        "\n",
        "model1 = GaussianNB()\n",
        "model2 = LogisticRegression(random_state=1)\n",
        "model3= tree.DecisionTreeClassifier(random_state=1)\n",
        "model = VotingClassifier(estimators=[('gnb', model1), ('lr', model2), ('dt', model2)], voting='hard')\n",
        "model.fit(Xtrain,Ytrain)\n",
        "x=model.score(Xtest,Ytest)\n",
        "acc.append(x)\n",
        "modelName.append(\"LR-GNB-DT\")"
      ],
      "metadata": {
        "id": "Erx1jUaPLdlb"
      },
      "execution_count": 244,
      "outputs": []
    },
    {
      "cell_type": "code",
      "source": [
        "model1 = xgb.XGBClassifier()\n",
        "model2 = LogisticRegression(random_state=1)\n",
        "model3= tree.DecisionTreeClassifier(random_state=1)\n",
        "model = VotingClassifier(estimators=[('xgb', model1), ('lr', model2), ('dt', model2)], voting='hard')\n",
        "model.fit(Xtrain,Ytrain)\n",
        "x=model.score(Xtest,Ytest)\n",
        "acc.append(x)\n",
        "modelName.append(\"XGB-GNB-DT\")"
      ],
      "metadata": {
        "id": "NOq7_xd_QCgE"
      },
      "execution_count": 245,
      "outputs": []
    },
    {
      "cell_type": "code",
      "source": [
        "model1 = GaussianNB()\n",
        "model2 = RandomForestClassifier(random_state=1)\n",
        "model3= tree.DecisionTreeClassifier(random_state=1)\n",
        "model = VotingClassifier(estimators=[('gnb', model1), ('RFC', model2), ('dt', model2)], voting='hard')\n",
        "model.fit(Xtrain,Ytrain)\n",
        "x=model.score(Xtest,Ytest)\n",
        "acc.append(x)\n",
        "modelName.append(\"LR-RFC-DT\")"
      ],
      "metadata": {
        "id": "tfKestpQPkTn"
      },
      "execution_count": 246,
      "outputs": []
    },
    {
      "cell_type": "code",
      "source": [
        "model1 = GaussianNB()\n",
        "model2 = RandomForestClassifier(random_state=1)\n",
        "model3= tree.DecisionTreeClassifier(random_state=1)\n",
        "model = VotingClassifier(estimators=[('gnb', model1), ('RFC', model2), ('dt', model2)], voting='hard')\n",
        "model.fit(Xtrain,Ytrain)\n",
        "x=model.score(Xtest,Ytest)\n",
        "acc.append(x)\n",
        "modelName.append(\"RFC-GNB-DT\")"
      ],
      "metadata": {
        "id": "ktGa3u70NuGT"
      },
      "execution_count": 247,
      "outputs": []
    },
    {
      "cell_type": "code",
      "source": [
        "model1 = GaussianNB()\n",
        "model2 = xgb.XGBClassifier()\n",
        "model3= tree.DecisionTreeClassifier(random_state=1)\n",
        "model = VotingClassifier(estimators=[('gnb', model1), ('xgb', model2), ('dt', model2)], voting='hard')\n",
        "model.fit(Xtrain,Ytrain)\n",
        "x=model.score(Xtest,Ytest)\n",
        "acc.append(x)\n",
        "modelName.append(\"RFC-GNB-DT\")"
      ],
      "metadata": {
        "id": "N7iQ28XJOSw1"
      },
      "execution_count": 248,
      "outputs": []
    },
    {
      "cell_type": "code",
      "source": [
        "model1 = GaussianNB()\n",
        "model2 = LogisticRegression(random_state=1)\n",
        "model3= RandomForestClassifier(random_state=1)\n",
        "model = VotingClassifier(estimators=[('gnb', model1), ('lr', model2), ('RFC', model2)], voting='hard')\n",
        "model.fit(Xtrain,Ytrain)\n",
        "x=model.score(Xtest,Ytest)\n",
        "acc.append(x)\n",
        "modelName.append(\"LR-GNB-RFC\")"
      ],
      "metadata": {
        "id": "1EzCY8rUOsYl"
      },
      "execution_count": 249,
      "outputs": []
    },
    {
      "cell_type": "code",
      "source": [
        "model1 = GaussianNB()\n",
        "model2 = LogisticRegression(random_state=1)\n",
        "model3= xgb.XGBClassifier()\n",
        "model = VotingClassifier(estimators=[('gnb', model1), ('lr', model2), ('xgb', model2)], voting='hard')\n",
        "model.fit(Xtrain,Ytrain)\n",
        "x=model.score(Xtest,Ytest)\n",
        "acc.append(x)\n",
        "modelName.append(\"LR-GNB-XGB\")"
      ],
      "metadata": {
        "id": "lAaGRlGoO8m9"
      },
      "execution_count": 250,
      "outputs": []
    },
    {
      "cell_type": "markdown",
      "source": [
        "# Now by voting we have compare the combination of 3-3 algorithms, lets check the accuracy of each combination"
      ],
      "metadata": {
        "id": "ZIBIgWDWSxhe"
      }
    },
    {
      "cell_type": "code",
      "source": [
        "accuracy_models = dict(zip(modelName, acc))\n",
        "for k, v in accuracy_models.items():\n",
        "    print (k, '-->', v)"
      ],
      "metadata": {
        "colab": {
          "base_uri": "https://localhost:8080/"
        },
        "id": "C8b8K2AIS7XA",
        "outputId": "9f68ccaf-f369-4d8e-b14f-ba306b837d91"
      },
      "execution_count": 251,
      "outputs": [
        {
          "output_type": "stream",
          "name": "stdout",
          "text": [
            "LR-GNB-DT --> 0.9621212121212122\n",
            "XGB-GNB-DT --> 0.9621212121212122\n",
            "LR-RFC-DT --> 0.9954545454545455\n",
            "RFC-GNB-DT --> 0.9954545454545455\n",
            "LR-GNB-RFC --> 0.9621212121212122\n",
            "LR-GNB-XGB --> 0.9621212121212122\n"
          ]
        }
      ]
    },
    {
      "cell_type": "code",
      "source": [
        "plt.figure(figsize=[15,10],dpi = 100)\n",
        "plt.title('Accuracy Comparison')\n",
        "plt.xlabel('Accuracy')\n",
        "plt.ylabel('Algorithm')\n",
        "sns.barplot(x = acc,y =modelName,palette='dark')"
      ],
      "metadata": {
        "colab": {
          "base_uri": "https://localhost:8080/",
          "height": 468
        },
        "id": "0HQB4xmzSn8m",
        "outputId": "d0cc4df7-9233-4b62-8b39-fd39eaf03f72"
      },
      "execution_count": 252,
      "outputs": [
        {
          "output_type": "execute_result",
          "data": {
            "text/plain": [
              "<Axes: title={'center': 'Accuracy Comparison'}, xlabel='Accuracy', ylabel='Algorithm'>"
            ]
          },
          "metadata": {},
          "execution_count": 252
        },
        {
          "output_type": "display_data",
          "data": {
            "text/plain": [
              "<Figure size 1500x1000 with 1 Axes>"
            ],
            "image/png": "[encoded data removed]"
          },
          "metadata": {
            "needs_background": "light"
          }
        }
      ]
    },
    {
      "cell_type": "markdown",
      "source": [
        "# Campare the combination of 4-4 algorithms"
      ],
      "metadata": {
        "id": "7J-Zhzg8TG-h"
      }
    },
    {
      "cell_type": "code",
      "source": [
        "\n",
        "for i in acc:\n",
        "  acc1.append(i)\n",
        "\n",
        "for i in modelName:\n",
        "  modelName1.append(i); \n",
        "\n",
        "acc=[]\n",
        "modelName=[]"
      ],
      "metadata": {
        "id": "sJTMlr21TQTb"
      },
      "execution_count": 253,
      "outputs": []
    },
    {
      "cell_type": "code",
      "source": [
        "model1 = GaussianNB()\n",
        "model2 = LogisticRegression(random_state=1)\n",
        "model3= tree.DecisionTreeClassifier(random_state=1)\n",
        "model4= RandomForestClassifier(random_state=1)\n",
        "model = VotingClassifier(estimators=[('gnb', model1), ('lr', model2), ('dt', model3),(\"RFC\",model4)], voting='hard')\n",
        "model.fit(Xtrain,Ytrain)\n",
        "x=model.score(Xtest,Ytest)\n",
        "acc.append(x)\n",
        "modelName.append(\"LR-GNB-DT-RFC\")"
      ],
      "metadata": {
        "id": "xXONav3yT-Gm"
      },
      "execution_count": 255,
      "outputs": []
    },
    {
      "cell_type": "code",
      "source": [
        "model1 = GaussianNB()\n",
        "model2 = LogisticRegression(random_state=1)\n",
        "model3= tree.DecisionTreeClassifier(random_state=1)\n",
        "model4= xgb.XGBClassifier()\n",
        "model = VotingClassifier(estimators=[('gnb', model1), ('lr', model2), ('dt', model3),(\"xgb\",model4)], voting='hard')\n",
        "model.fit(Xtrain,Ytrain)\n",
        "x=model.score(Xtest,Ytest)\n",
        "acc.append(x)\n",
        "modelName.append(\"LR-GNB-DT-XGB\")"
      ],
      "metadata": {
        "id": "bhVWUv4bVGf2"
      },
      "execution_count": 256,
      "outputs": []
    },
    {
      "cell_type": "code",
      "source": [
        "model1 = xgb.XGBClassifier()\n",
        "model2 = LogisticRegression(random_state=1)\n",
        "model3= tree.DecisionTreeClassifier(random_state=1)\n",
        "model4= RandomForestClassifier(random_state=1)\n",
        "model = VotingClassifier(estimators=[('xgb', model1), ('lr', model2), ('dt', model3),(\"RFC\",model4)], voting='hard')\n",
        "model.fit(Xtrain,Ytrain)\n",
        "x=model.score(Xtest,Ytest)\n",
        "acc.append(x)\n",
        "modelName.append(\"XGB-GNB-DT-RFC\")"
      ],
      "metadata": {
        "id": "YOQpT8EpVkOc"
      },
      "execution_count": 257,
      "outputs": []
    },
    {
      "cell_type": "code",
      "source": [
        "model1 = xgb.XGBClassifier()\n",
        "model2 = LogisticRegression(random_state=1)\n",
        "model3= tree.DecisionTreeClassifier(random_state=1)\n",
        "model4= RandomForestClassifier(random_state=1)\n",
        "model = VotingClassifier(estimators=[('xgb', model1), ('lr', model2), ('dt', model3),(\"RFC\",model4)], voting='hard')\n",
        "model.fit(Xtrain,Ytrain)\n",
        "x=model.score(Xtest,Ytest)\n",
        "acc.append(x)\n",
        "modelName.append(\"XGB-GNB-DT-RFC\")"
      ],
      "metadata": {
        "id": "FmxFkHVOVxBL"
      },
      "execution_count": 258,
      "outputs": []
    },
    {
      "cell_type": "code",
      "source": [
        "model1 = xgb.XGBClassifier()\n",
        "model2 = LogisticRegression(random_state=1)\n",
        "model3= tree.DecisionTreeClassifier(random_state=1)\n",
        "model4=  GaussianNB()\n",
        "model = VotingClassifier(estimators=[('xgb', model1), ('lr', model2), ('dt', model3),(\"gnb\",model4)], voting='hard')\n",
        "model.fit(Xtrain,Ytrain)\n",
        "x=model.score(Xtest,Ytest)\n",
        "acc.append(x)\n",
        "modelName.append(\"XGB-LR-DT-GNB\")"
      ],
      "metadata": {
        "id": "wS87gjtuWZMx"
      },
      "execution_count": 259,
      "outputs": []
    },
    {
      "cell_type": "code",
      "source": [
        "x"
      ],
      "metadata": {
        "colab": {
          "base_uri": "https://localhost:8080/"
        },
        "id": "HHt3R5oWXAtu",
        "outputId": "d317e268-04f3-42de-fe98-faa769a0e218"
      },
      "execution_count": 260,
      "outputs": [
        {
          "output_type": "execute_result",
          "data": {
            "text/plain": [
              "0.9924242424242424"
            ]
          },
          "metadata": {},
          "execution_count": 260
        }
      ]
    },
    {
      "cell_type": "markdown",
      "source": [
        "# Analysis between different combination of model"
      ],
      "metadata": {
        "id": "MPVZHEoCXEgR"
      }
    },
    {
      "cell_type": "code",
      "source": [
        "accuracy_models = dict(zip(modelName, acc))\n",
        "for k, v in accuracy_models.items():\n",
        "    print (k, '-->', v)"
      ],
      "metadata": {
        "colab": {
          "base_uri": "https://localhost:8080/"
        },
        "id": "2MA_LmZyXSuv",
        "outputId": "141425f2-1297-4707-faa4-fa68d7eb1a74"
      },
      "execution_count": 261,
      "outputs": [
        {
          "output_type": "stream",
          "name": "stdout",
          "text": [
            "LR-GNB-DT-RFC --> 0.9939393939393939\n",
            "LR-GNB-DT-XGB --> 0.9924242424242424\n",
            "XGB-GNB-DT-RFC --> 0.9954545454545455\n",
            "XGB-LR-DT-GNB --> 0.9924242424242424\n"
          ]
        }
      ]
    },
    {
      "cell_type": "code",
      "source": [
        "plt.figure(figsize=[15,10],dpi = 100)\n",
        "plt.title('Accuracy Comparison')\n",
        "plt.xlabel('Accuracy')\n",
        "plt.ylabel('Algorithm')\n",
        "sns.barplot(x = acc,y =modelName,palette='dark')"
      ],
      "metadata": {
        "colab": {
          "base_uri": "https://localhost:8080/",
          "height": 459
        },
        "id": "7S6UWwBFXW_y",
        "outputId": "c333d8b9-35a3-4c10-be90-79f9b21c6545"
      },
      "execution_count": 262,
      "outputs": [
        {
          "output_type": "execute_result",
          "data": {
            "text/plain": [
              "<Axes: title={'center': 'Accuracy Comparison'}, xlabel='Accuracy', ylabel='Algorithm'>"
            ]
          },
          "metadata": {},
          "execution_count": 262
        },
        {
          "output_type": "display_data",
          "data": {
            "text/plain": [
              "<Figure size 1500x1000 with 1 Axes>"
            ],
            "image/png": "[encoded data removed]"
          },
          "metadata": {
            "needs_background": "light"
          }
        }
      ]
    },
    {
      "cell_type": "markdown",
      "source": [
        "# Comparing all algorithms we have train till now"
      ],
      "metadata": {
        "id": "SiGWzi9TXdNV"
      }
    },
    {
      "cell_type": "code",
      "source": [
        "accuracy_models = dict(zip(modelName1, acc1))\n",
        "for k, v in accuracy_models.items():\n",
        "    print (k, '-->', v)"
      ],
      "metadata": {
        "colab": {
          "base_uri": "https://localhost:8080/"
        },
        "id": "SLehME2RXmv0",
        "outputId": "318969e1-d954-4aaf-84e8-cc70a32366ea"
      },
      "execution_count": 263,
      "outputs": [
        {
          "output_type": "stream",
          "name": "stdout",
          "text": [
            "Decision Tree --> 0.8590909090909091\n",
            "Naive Bayes --> 0.9924242424242424\n",
            "Logistic Regression --> 0.9621212121212122\n",
            "RF --> 0.9893939393939394\n",
            "XGBoost --> 0.9954545454545455\n",
            "RandomForestClassifier-DecisionTree --> 0.990909090909091\n",
            "RandomForestClassifier-XGBClassifier --> 0.9939393939393939\n",
            "RandomForestClassifier-GaussianNB --> 0.9939393939393939\n",
            "RandomForestClassifier-LogisticRegression --> 0.9772727272727273\n",
            "LogisticRegression-DecisionTree --> 0.9727272727272728\n",
            "LogisticRegression-GaussianNB --> 0.9742424242424242\n",
            "GaussianNB-DecisionTree --> 0.9893939393939394\n",
            "GaussianNB-XGBClassifier --> 0.990909090909091\n",
            "LR-GNB-DT --> 0.9621212121212122\n",
            "XGB-GNB-DT --> 0.9621212121212122\n",
            "LR-RFC-DT --> 0.9954545454545455\n",
            "RFC-GNB-DT --> 0.9954545454545455\n",
            "LR-GNB-RFC --> 0.9621212121212122\n",
            "LR-GNB-XGB --> 0.9621212121212122\n"
          ]
        }
      ]
    },
    {
      "cell_type": "code",
      "source": [
        "max(acc1)\n",
        "index=acc1.index(max(acc1))"
      ],
      "metadata": {
        "id": "qxFZu8G-Yq6p"
      },
      "execution_count": 271,
      "outputs": []
    },
    {
      "cell_type": "code",
      "source": [
        "index"
      ],
      "metadata": {
        "colab": {
          "base_uri": "https://localhost:8080/"
        },
        "id": "l2kC8YVGZMaE",
        "outputId": "eba1cdd0-2c2c-4574-d962-4714d3b68872"
      },
      "execution_count": 272,
      "outputs": [
        {
          "output_type": "execute_result",
          "data": {
            "text/plain": [
              "4"
            ]
          },
          "metadata": {},
          "execution_count": 272
        }
      ]
    },
    {
      "cell_type": "code",
      "source": [
        "print(\"The best algorithm is: \",end=\"\")\n",
        "print(modelName1[4])\n"
      ],
      "metadata": {
        "colab": {
          "base_uri": "https://localhost:8080/"
        },
        "id": "KXVeA3-tZO50",
        "outputId": "32864837-9994-4f0c-801d-7e0ace6f54ac"
      },
      "execution_count": 274,
      "outputs": [
        {
          "output_type": "stream",
          "name": "stdout",
          "text": [
            "The best algorithm is: XGBoost\n"
          ]
        }
      ]
    },
    {
      "cell_type": "code",
      "source": [
        "plt.figure(figsize=[15,10],dpi = 100)\n",
        "plt.title('Accuracy Comparison')\n",
        "plt.xlabel('Accuracy')\n",
        "plt.ylabel('Algorithm')\n",
        "sns.barplot(x = acc1,y =modelName1,palette='dark')"
      ],
      "metadata": {
        "colab": {
          "base_uri": "https://localhost:8080/",
          "height": 411
        },
        "id": "ucHJMNq_XjqV",
        "outputId": "3fd062dc-e5cd-45ef-8930-bc0d49facdc8"
      },
      "execution_count": 264,
      "outputs": [
        {
          "output_type": "execute_result",
          "data": {
            "text/plain": [
              "<Axes: title={'center': 'Accuracy Comparison'}, xlabel='Accuracy', ylabel='Algorithm'>"
            ]
          },
          "metadata": {},
          "execution_count": 264
        },
        {
          "output_type": "display_data",
          "data": {
            "text/plain": [
              "<Figure size 1500x1000 with 1 Axes>"
            ],
            "image/png": "[encoded data removed]"
          },
          "metadata": {
            "needs_background": "light"
          }
        }
      ]
    },
    {
      "cell_type": "markdown",
      "source": [
        "Averaging\n",
        "\n",
        "\n",
        "Similar to the max voting technique, multiple predictions are made for each data point in averaging. In this method, we take an average of predictions from all the models and use it to make the final prediction. Averaging can be used for making predictions in regression problems or while calculating probabilities for classification problems.\n",
        "\n",
        "For example, in the below case, the averaging method would take the average of all the values.\n",
        "\n",
        "i.e. (5+4+5+4+4)/5 = 4.4"
      ],
      "metadata": {
        "id": "g3s5RVg_fPz0"
      }
    },
    {
      "cell_type": "code",
      "source": [
        "model1 = tree.DecisionTreeClassifier()\n",
        "model2 = RandomForestClassifier(random_state=1)\n",
        "model3= LogisticRegression()\n",
        "\n",
        "model1.fit(Xtrain,Ytrain)\n",
        "model2.fit(Xtrain,Ytrain)\n",
        "model3.fit(Xtrain,Ytrain)\n",
        "\n",
        "pred1=model1.predict_proba(Xtest)\n",
        "pred2=model2.predict_proba(Xtest)\n",
        "pred3=model3.predict_proba(Xtest)\n",
        "\n",
        "finalpred1=(pred1+pred2+pred3)/3"
      ],
      "metadata": {
        "id": "TLyfIYZufOnz"
      },
      "execution_count": 265,
      "outputs": []
    },
    {
      "cell_type": "code",
      "source": [
        "model1 = tree.DecisionTreeClassifier()\n",
        "model2 =  GaussianNB()\n",
        "model3= LogisticRegression()\n",
        "\n",
        "model1.fit(Xtrain,Ytrain)\n",
        "model2.fit(Xtrain,Ytrain)\n",
        "model3.fit(Xtrain,Ytrain)\n",
        "\n",
        "pred1=model1.predict_proba(Xtest)\n",
        "pred2=model2.predict_proba(Xtest)\n",
        "pred3=model3.predict_proba(Xtest)\n",
        "\n",
        "finalpred1=(pred1+pred2+pred3)/3"
      ],
      "metadata": {
        "id": "ca9qR6EzfOqb"
      },
      "execution_count": 266,
      "outputs": []
    },
    {
      "cell_type": "code",
      "source": [
        "model1 = tree.DecisionTreeClassifier()\n",
        "model2 =  GaussianNB()\n",
        "model3= LogisticRegression()\n",
        "\n",
        "model1.fit(Xtrain,Ytrain)\n",
        "model2.fit(Xtrain,Ytrain)\n",
        "model3.fit(Xtrain,Ytrain)\n",
        "\n",
        "pred1=model1.predict_proba(Xtest)\n",
        "pred2=model2.predict_proba(Xtest)\n",
        "pred3=model3.predict_proba(Xtest)\n",
        "\n",
        "finalpred1=(pred1+pred2+pred3)/3"
      ],
      "metadata": {
        "id": "HMmsqgT1fOtR"
      },
      "execution_count": 267,
      "outputs": []
    },
    {
      "cell_type": "code",
      "source": [
        "model1 = tree.DecisionTreeClassifier()\n",
        "model2 =  xgb.XGBClassifier()\n",
        "model3= LogisticRegression()\n",
        "from sklearn.preprocessing import LabelEncoder\n",
        "le = LabelEncoder()\n",
        "y_train = le.fit_transform(Ytrain)\n",
        "model1.fit(Xtrain,Ytrain)\n",
        "model2.fit(Xtrain,y_train)\n",
        "model3.fit(Xtrain,Ytrain)\n",
        "\n",
        "pred1=model1.predict_proba(Xtest)\n",
        "pred2=model2.predict_proba(Xtest)\n",
        "pred3=model3.predict_proba(Xtest)\n",
        "\n",
        "finalpred1=(pred1+pred2+pred3)/3"
      ],
      "metadata": {
        "id": "iclZ5gg8fOwV"
      },
      "execution_count": 268,
      "outputs": []
    },
    {
      "cell_type": "code",
      "source": [
        "model1 = tree.DecisionTreeClassifier()\n",
        "model2 =  xgb.XGBClassifier()\n",
        "model3= RandomForestClassifier(random_state=1)\n",
        "from sklearn.preprocessing import LabelEncoder\n",
        "le = LabelEncoder()\n",
        "y_train = le.fit_transform(Ytrain)\n",
        "model1.fit(Xtrain,Ytrain)\n",
        "model2.fit(Xtrain,y_train)\n",
        "model3.fit(Xtrain,Ytrain)\n",
        "\n",
        "pred1=model1.predict_proba(Xtest)\n",
        "pred2=model2.predict_proba(Xtest)\n",
        "pred3=model3.predict_proba(Xtest)\n",
        "\n",
        "finalpred1=(pred1+pred2+pred3)/3"
      ],
      "metadata": {
        "id": "lYsJRBsSfOzd"
      },
      "execution_count": 269,
      "outputs": []
    },
    {
      "cell_type": "markdown",
      "source": [
        "Taking two models then predicting its value then validating it with use of third model . \n",
        "\n",
        "\n",
        "\n",
        "We’ll build two models, decision tree and random forest , on the train set in order to make predictions on the validation set."
      ],
      "metadata": {
        "id": "BSo6jLVRiXwP"
      }
    }
  ]
}